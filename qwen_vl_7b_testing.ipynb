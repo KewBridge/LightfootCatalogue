{
 "cells": [
  {
   "cell_type": "code",
   "execution_count": 13,
   "metadata": {},
   "outputs": [],
   "source": [
    "import os\n",
    "os.environ[\"PYTORCH_CUDA_ALLOC_CONF\"] = \"expandable_segments:True\"\n",
    "os.environ[\"TORCH_USE_CUDA_DSA\"] = \"1\""
   ]
  },
  {
   "cell_type": "code",
   "execution_count": 14,
   "metadata": {},
   "outputs": [
    {
     "name": "stdout",
     "output_type": "stream",
     "text": [
      "CPU times: total: 0 ns\n",
      "Wall time: 0 ns\n"
     ]
    }
   ],
   "source": [
    "%%time\n",
    "import lib.utils.utils as utils\n",
    "from run import get_images\n",
    "#import lib.config as config\n",
    "from lib.model.base_model import BaseModel\n",
    "#import lib.roi as roi\n",
    "#import lib.split_pages as spages\n",
    "from lib.utils.promptLoader import PromptLoader"
   ]
  },
  {
   "cell_type": "code",
   "execution_count": 15,
   "metadata": {},
   "outputs": [],
   "source": [
    "image_path = \"images/cropped/The_Lightfoot_Herbarium_05_cropped_2.jpg\"\n",
    "image_dir = \"images/cropped/\"\n",
    "default_yaml = \"./prompts/default_v2_fromtext.yaml\"\n",
    "conversation = None"
   ]
  },
  {
   "cell_type": "code",
   "execution_count": 16,
   "metadata": {},
   "outputs": [
    {
     "name": "stdout",
     "output_type": "stream",
     "text": [
      "images/cropped/The_Lightfoot_Herbarium_05_cropped_2.jpg\n"
     ]
    }
   ],
   "source": [
    "print(image_path)"
   ]
  },
  {
   "cell_type": "code",
   "execution_count": 17,
   "metadata": {},
   "outputs": [],
   "source": [
    "images = sorted(utils.load_images(image_dir))[:1]"
   ]
  },
  {
   "cell_type": "code",
   "execution_count": 18,
   "metadata": {},
   "outputs": [],
   "source": [
    "model = BaseModel(\"qwen_model\", prompt=default_yaml, conversation=conversation, max_new_tokens = 130000, batch_size=1, temperature=1, save_path=\"./outputs/lightfootcat_test/\")"
   ]
  },
  {
   "cell_type": "code",
   "execution_count": 19,
   "metadata": {},
   "outputs": [],
   "source": [
    "outputs = model(images, save=False, debug=False, save_file_name=\"two_images\")"
   ]
  },
  {
   "cell_type": "code",
   "execution_count": null,
   "metadata": {},
   "outputs": [],
   "source": []
  }
 ],
 "metadata": {
  "kernelspec": {
   "display_name": "lightfootcat",
   "language": "python",
   "name": "python3"
  },
  "language_info": {
   "codemirror_mode": {
    "name": "ipython",
    "version": 3
   },
   "file_extension": ".py",
   "mimetype": "text/x-python",
   "name": "python",
   "nbconvert_exporter": "python",
   "pygments_lexer": "ipython3",
   "version": "3.11.6"
  }
 },
 "nbformat": 4,
 "nbformat_minor": 2
}
