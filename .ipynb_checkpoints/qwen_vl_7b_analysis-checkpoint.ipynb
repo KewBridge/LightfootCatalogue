{
 "cells": [
  {
   "cell_type": "code",
   "execution_count": 1,
   "id": "32d8a20c-e910-437f-ad67-55076c27a9c3",
   "metadata": {},
   "outputs": [],
   "source": [
    "import os\n",
    "\n",
    "os.environ[\"PYTORCH_CUDA_ALLOC_CONF\"] = \"expandable_segments:True\""
   ]
  },
  {
   "cell_type": "code",
   "execution_count": 2,
   "id": "cd34f5dc-d941-4c56-b625-f3562cca9ab0",
   "metadata": {},
   "outputs": [
    {
     "name": "stdout",
     "output_type": "stream",
     "text": [
      "CPU times: user 512 ms, sys: 394 ms, total: 906 ms\n",
      "Wall time: 30.7 s\n"
     ]
    }
   ],
   "source": [
    "%%time\n",
    "import json\n",
    "import pandas as pd\n",
    "import numpy as np\n",
    "import cv2\n",
    "from PIL import Image\n",
    "#from tesserocr import PyTessBaseAPI, PSM, RIL, PT\n",
    "import matplotlib.pyplot as plt"
   ]
  },
  {
   "cell_type": "code",
   "execution_count": 3,
   "id": "293f0b15-241f-4e92-808c-4cfba8f6fd61",
   "metadata": {},
   "outputs": [
    {
     "name": "stderr",
     "output_type": "stream",
     "text": [
      "/mnt/shared/scratch/ikarunak/apps/conda/envs/lightfootcat/lib/python3.12/site-packages/tqdm/auto.py:21: TqdmWarning: IProgress not found. Please update jupyter and ipywidgets. See https://ipywidgets.readthedocs.io/en/stable/user_install.html\n",
      "  from .autonotebook import tqdm as notebook_tqdm\n"
     ]
    },
    {
     "name": "stdout",
     "output_type": "stream",
     "text": [
      "CPU times: user 1.69 s, sys: 1.06 s, total: 2.75 s\n",
      "Wall time: 1min 3s\n"
     ]
    }
   ],
   "source": [
    "%%time\n",
    "import lib.utils as utils\n",
    "import lib.config as config\n",
    "import lib.model as model\n",
    "import lib.roi as roi\n",
    "import lib.split_pages as spages\n",
    "import lib.utils as utils"
   ]
  },
  {
   "cell_type": "code",
   "execution_count": 4,
   "id": "c1ff61ac-acfe-4528-b22f-17f2d926363a",
   "metadata": {},
   "outputs": [],
   "source": [
    "image_path = \"images/cropped/The_Lightfoot_Herbarium_05_cropped_1.jpg\"\n",
    "image_dir = \"images/cropped/\""
   ]
  },
  {
   "cell_type": "code",
   "execution_count": 5,
   "id": "6d86f2b6-6f64-498a-b392-20f878d09fbc",
   "metadata": {},
   "outputs": [],
   "source": [
    "images = sorted(utils.load_images(image_dir))[:2]"
   ]
  },
  {
   "cell_type": "code",
   "execution_count": 6,
   "id": "b20f04ac-20dd-4ae0-ad49-515cc325bad3",
   "metadata": {},
   "outputs": [],
   "source": [
    "simple_prompt = \"Parse the text in the image into a JSON format\""
   ]
  },
  {
   "cell_type": "code",
   "execution_count": 7,
   "id": "c5df0930-6a4b-4cab-a10f-d578ee921b14",
   "metadata": {},
   "outputs": [
    {
     "name": "stderr",
     "output_type": "stream",
     "text": [
      "`Qwen2VLRotaryEmbedding` can now be fully parameterized by passing the model config through the `config` argument. All other arguments will be removed in v4.46\n",
      "Loading checkpoint shards: 100%|█████████████████████████████████████████████████████████████████████████████████████████████████████████████| 5/5 [01:05<00:00, 13.18s/it]\n"
     ]
    },
    {
     "name": "stdout",
     "output_type": "stream",
     "text": [
      "CPU times: user 2.22 s, sys: 10.9 s, total: 13.1 s\n",
      "Wall time: 1min 9s\n"
     ]
    }
   ],
   "source": [
    "%%time\n",
    "qwen_model = model.QWEN_Model(prompt=simple_prompt, max_new_tokens = 20000, batch_size=2)"
   ]
  },
  {
   "cell_type": "code",
   "execution_count": 8,
   "id": "f28537e6-1bd3-4c1f-a9a2-312376a8592b",
   "metadata": {
    "scrolled": true
   },
   "outputs": [
    {
     "name": "stdout",
     "output_type": "stream",
     "text": [
      ">>> Using: \n",
      " \tMaximum new tokens = 10000 \n",
      " \tBatch size = 2 \n",
      " \tsave_path = None\n",
      ">>> Batch 1 starting...\n",
      "\tProcessing text prompts...\n",
      "\tReading Images...\n",
      "\tProcessing inputs...\n",
      "\tMoving inputs to gpu...\n",
      "\tPerforming inference...\n",
      "\tInference Finished\n",
      "\tSeperating Ids...\n",
      "\tDecoding Ids...\n",
      "\tSeperating Outputs...\n",
      "\tOutputs stored!\n",
      "CPU times: user 1min 5s, sys: 750 ms, total: 1min 5s\n",
      "Wall time: 1min 17s\n"
     ]
    }
   ],
   "source": [
    "%%time\n",
    "outputs = qwen_model.batch_infer(images, save=False, debug=True)"
   ]
  },
  {
   "cell_type": "code",
   "execution_count": 9,
   "id": "4e3e81fb-08f6-43e4-b8e6-330fc04768e9",
   "metadata": {},
   "outputs": [],
   "source": [
    "out = outputs[0][1]"
   ]
  },
  {
   "cell_type": "code",
   "execution_count": 10,
   "id": "17cf6907-5f82-41be-b43d-c7ff43d7699e",
   "metadata": {
    "scrolled": true
   },
   "outputs": [
    {
     "name": "stdout",
     "output_type": "stream",
     "text": [
      "```json\n",
      "{\n",
      "    \"metadata\": {\n",
      "        \"division\": \"Dicotyledones\",\n",
      "        \"page\": \"132\"\n",
      "    },\n",
      "    \"contents\": [\n",
      "        {\n",
      "            \"familyName\": \"Aceraceae\",\n",
      "            \"species\": [\n",
      "                {\n",
      "                    \"speciesName\": \"Acer campestre L.\",\n",
      "                    \"folders\": [\n",
      "                        {\n",
      "                            \"description\": \"Acer campestre [TA]\",\n",
      "                            \"citations\": [\"TA\"]\n",
      "                        }\n",
      "                    ]\n",
      "                },\n",
      "                {\n",
      "                    \"speciesName\": \"Acer pseudoplatanus L.\",\n",
      "                    \"folders\": [\n",
      "                        {\n",
      "                            \"description\": \"Acer Pseudo-Platanus [G]. i. 'Maple. Bulls: [Bulstrode] Park' [JL]\",\n",
      "                            \"citations\": [\"G\", \"JL\"]\n",
      "                        },\n",
      "                        {\n",
      "                            \"description\": \"Acer Pseudo-Platanus [TA]\",\n",
      "                            \"citations\": [\"TA\"]\n",
      "                        }\n",
      "                    ]\n",
      "                }\n",
      "            ]\n",
      "        },\n",
      "        {\n",
      "            \"familyName\": \"Amaranthaceae\",\n",
      "            \"species\": [\n",
      "                {\n",
      "                    \"speciesName\": \"Amaranthus lividus L., Flora Europaea 1: 110 (1964)\",\n",
      "                    \"folders\": [\n",
      "                        {\n",
      "                            \"description\": \"Amaranthus Blitum [TA]. i. Cites Ray's Syn. 1957. ii. 'Blite Amaranth. Aug.' It is often found on Dunghills in the neighbourhood of London. I gather'd this on a Dunghill at Fulham near London' [JL]. iii. 'Amaranthus Blitum. Monoec: 5. and:' [JL]\",\n",
      "                            \"citations\": [\"TA\", \"JL\"]\n",
      "                        }\n",
      "                    ]\n",
      "                }\n",
      "            ]\n",
      "        },\n",
      "        {\n",
      "            \"familyName\": \"Araliaceae\",\n",
      "            \"species\": [\n",
      "                {\n",
      "                    \"speciesName\": \"Hedera helix L.\",\n",
      "                    \"folders\": [\n",
      "                        {\n",
      "                            \"description\": \"Hedera Helix [TA]\",\n",
      "                            \"citations\": [\"TA\"]\n",
      "                        }\n",
      "                    ]\n",
      "                }\n",
      "            ]\n",
      "        },\n",
      "        {\n",
      "            \"familyName\": \"Aristolochiaceae\",\n",
      "            \"species\": [\n",
      "                {\n",
      "                    \"speciesName\": \"Asarum europaeum L.\",\n",
      "                    \"folders\": [\n",
      "                        {\n",
      "                            \"description\": \"Asarum europaeum [TA]. i. 'Asarum europaeum Lin: Asarabacca. Anglis. ex horto' [JL]\",\n",
      "                            \"citations\": [\"TA\", \"JL\"]\n",
      "                        }\n",
      "                    ]\n",
      "                }\n",
      "            ]\n",
      "        },\n",
      "        {\n",
      "            \"familyName\": \"Balsaminaceae\",\n",
      "            \"species\": [\n",
      "                {\n",
      "                    \"speciesName\": \"Impatiens noli-tangere L.\",\n",
      "                    \"folders\": [\n",
      "                        {\n",
      "                            \"description\": \"Impatiens Noli me tangere [G]\",\n",
      "                            \"citations\": [\"G\"]\n",
      "                        }\n",
      "                    ]\n",
      "                }\n",
      "            ]\n",
      "        },\n",
      "        {\n",
      "            \"familyName\": \"Betulaceae\",\n",
      "            \"species\": [\n",
      "                {\n",
      "                    \"speciesName\": \"Alnus glutinosa (L.) Gaertn.\",\n",
      "                    \"folders\": [\n",
      "                        {\n",
      "                            \"description\": \"Betula Alnus [TA]\",\n",
      "                            \"citations\": [\"TA\"]\n",
      "                        }\n",
      "                    ]\n",
      "                },\n",
      "                {\n",
      "                    \"speciesName\": \"Betula nana L.\",\n",
      "                    \"folders\": [\n",
      "                        {\n",
      "                            \"description\": \"Betula nana [G]\",\n",
      "                            \"citations\": [\"G\"]\n",
      "                        }\n",
      "                    ]\n",
      "                }\n",
      "            ]\n",
      "        },\n",
      "        {\n",
      "            \"familyName\": \"Campanulaceae\",\n",
      "            \"species\": [\n",
      "                {\n",
      "                    \"speciesName\": \"Campanula latifolia L.\",\n",
      "                    \"folders\": [\n",
      "                        {\n",
      "                            \"description\": \"Companula latifolia [TA]\",\n",
      "                            \"citations\": [\"TA\"]\n",
      "                        },\n",
      "                        {\n",
      "                            \"description\": \"Companula latifolia [G]\",\n",
      "                            \"citations\": [\"G\"]\n",
      "                        }\n",
      "                    ]\n",
      "                },\n",
      "                {\n",
      "                    \"speciesName\": \"Campanula patula L.\",\n",
      "                    \"folders\": [\n",
      "                        {\n",
      "                            \"description\": \"Campanula patula [TA]\",\n",
      "                            \"citations\": [\"TA\"]\n",
      "                        }\n",
      "                    ]\n",
      "                },\n",
      "                {\n",
      "                    \"speciesName\": \"Campanula rapunculus L.\",\n",
      "                    \"folders\": [\n",
      "                        {\n",
      "                            \"description\": \"Campanula rapunculus [TA]\",\n",
      "                            \"citations\": [\"TA\"]\n",
      "                        }\n",
      "                    ]\n",
      "                }\n",
      "            ]\n",
      "        },\n",
      "        {\n",
      "            \"familyName\": \"Phyteuma tenerum R.Schulz\",\n",
      "            \"species\": [\n",
      "                {\n",
      "                    \"speciesName\": \"Phyteuma orbicularis [TA]\",\n",
      "                    \"folders\": [\n",
      "                        {\n",
      "                            \"description\": \"Phyteuma orbicularis [TA]\",\n",
      "                            \"citations\": [\"TA\"]\n",
      "                        }\n",
      "                    ]\n",
      "                }\n",
      "            ]\n",
      "        },\n",
      "        {\n",
      "            \"familyName\": \"Wahlenbergia hederacea (L.) Reichb.\",\n",
      "            \"species\": [\n",
      "                {\n",
      "                    \"speciesName\": \"Wahlenbergia hederacea [TA]. i. 'Carmathenshire' [JL]\",\n",
      "                    \"folders\": [\n",
      "                        {\n",
      "                            \"description\": \"Wahlenbergia hederacea [TA]. i. 'Carmathenshire' [JL]\",\n",
      "                            \"citations\": [\"TA\", \"JL\"]\n",
      "                        }\n",
      "                    ]\n",
      "                }\n",
      "            ]\n",
      "        }\n",
      "    ],\n",
      "    \"previous\": [\n",
      "        {\n",
      "            \"description\": \"Folder 2. Campanula rapunculus [G].\",\n",
      "            \"citations\": [\"G\"]\n",
      "        },\n",
      "        {\n",
      "            \"description\": \"Folder 2. Campanula rotundifolia [TA]. i. 'Near Perth' [JL].\",\n",
      "            \"citations\": [\"TA\", \"JL\"]\n",
      "        },\n",
      "        {\n",
      "            \"description\": \"Folder 2. Campanula trachelium L.\",\n",
      "            \"citations\": [\"G\"]\n",
      "        },\n",
      "        {\n",
      "            \"description\": \"Folder 1. Campanula Trachelium [TA].\",\n",
      "            \"citations\": [\"TA\"]\n",
      "        },\n",
      "        {\n",
      "            \"description\": \"Folder 2. Campanula Trachelium [G].\",\n",
      "            \"citations\": [\"G\"]\n",
      "        },\n",
      "        {\n",
      "            \"description\": \"Jasione montana L.\",\n",
      "            \"citations\": [\"TA\"]\n",
      "        },\n",
      "        {\n",
      "            \"description\": \"Legousia hybrida (L.) Delarb.\",\n",
      "            \"citations\": [\"TA\"]\n",
      "        },\n",
      "        {\n",
      "            \"description\": \"Lobelia dortmanna L.\",\n",
      "            \"citations\": [\"TA\"]\n",
      "        },\n",
      "        {\n",
      "            \"description\": \"Folder 1. Lobelia Dortmannia [TA]. i. Cites Ray's Syn. 287. ii. 'Water Gladiole. July & August. In the Lakes of North Wales & Westmoreland' [JL].\",\n",
      "            \"citations\": [\"TA\", \"JL\"]\n",
      "        },\n",
      "        {\n",
      "            \"description\": \"Folder 2. Lobelia Dortmanna [G]. i. 'Lobel: Dortmanna from Anglesey' [JL].\",\n",
      "            \"citations\": [\"G\", \"JL\"]\n",
      "        },\n",
      "        {\n",
      "            \"description\": \"Lobelia urens L.\",\n",
      "            \"citations\": [\"TA\"]\n",
      "        },\n",
      "        {\n",
      "            \"description\": \"Folder 1. Lobelia urens [G]. i. Cites Ray's Hist. 746. ii. 'Caustic Lobelia. Habitat solum humidum & spongiosum Ericeti cujusdam Shute Common dicti Devoniae, inter paludem turfosam & viam publican quae ab Axminster ad Honiton ducit. Plures plantas primum inventit Dom: Newbury e Coll: Exon: Oxon: circiter finem Octobris, Anno 1768' [JL]. iii. 'From Devonshire' [JL].\",\n",
      "            \"citations\": [\"G\", \"JL\"]\n",
      "        },\n",
      "        {\n",
      "            \"description\": \"Folders 3 and 4. Lobelia urens [G].\",\n",
      "            \"citations\": [\"G\"]\n",
      "        },\n",
      "        {\n",
      "            \"description\": \"Phyteuma tenerum R.Schulz\",\n",
      "            \"citations\": [\"TA\"]\n",
      "        },\n",
      "        {\n",
      "            \"description\": \"Wahlenbergia hederacea (L.) Reichb.\",\n",
      "            \"citations\": [\"TA\"]\n",
      "        }\n",
      "    ]\n",
      "}\n",
      "```\n"
     ]
    }
   ],
   "source": [
    "print(out)"
   ]
  },
  {
   "cell_type": "code",
   "execution_count": 1,
   "id": "cf573593-8bce-4a4a-b293-10bb541a762d",
   "metadata": {},
   "outputs": [],
   "source": [
    "import yaml\n",
    "import re"
   ]
  },
  {
   "cell_type": "code",
   "execution_count": 2,
   "id": "b605234a-02b3-4f3e-b889-b13360972548",
   "metadata": {},
   "outputs": [],
   "source": [
    "default_file = \"./prompts/default.yaml\"\n",
    "custom_file = \"./prompts/custom_sample.yaml\""
   ]
  },
  {
   "cell_type": "code",
   "execution_count": 3,
   "id": "a840b6e4-2ebb-4e3a-94c0-fc9e2aea7b6d",
   "metadata": {},
   "outputs": [],
   "source": [
    "from lib.promptLoader import PromptLoader"
   ]
  },
  {
   "cell_type": "code",
   "execution_count": 4,
   "id": "e413f309-feae-4aa2-a7b6-ff3fb9eecb1f",
   "metadata": {},
   "outputs": [],
   "source": [
    "pl = PromptLoader(custom_file)"
   ]
  },
  {
   "cell_type": "code",
   "execution_count": 5,
   "id": "e3975168-d206-415d-b791-835fab200d7d",
   "metadata": {},
   "outputs": [
    {
     "name": "stdout",
     "output_type": "stream",
     "text": [
      "inherit_default: True\n",
      "\n",
      "=> system\n",
      "  setup: You are an expert in horticulture, plant taxonomy and botanical catalogues and transcribing images to text json dicts\n",
      "\n",
      "\n",
      "  instructions: define this instructions here\n",
      "\n",
      "\n",
      "  context: The following images provided are snapshots of botanical catalogue pages from botanical books.  The pages contain information on species, where they were collected and in which folder they were stored.  The information is organised in order of plant taxonomy with the highest classification being family name.  Typically the page contain information seperated in one to two columns.  Family names are typically Capitalized and species names can be found italicized.  The contents of the folders are written under each species and sometimes found at the start of the page (mostly due to continuation from the previous page).\n",
      "\n",
      "\n",
      "  goal: Your task is to parse the given image into a JSON object that follows the provided rules, instructions and template.\n",
      "\n",
      "\n",
      "=> rules\n",
      "    metadata: Metadata for each page containing the division if available and page number of given image.\n",
      "\n",
      "    division: Division is defined by a non-capitalized, bold and larger font size. If it is not available set to N/A.  Do not attempt to fill this in if it is not available. \n",
      "\n",
      "\n",
      "    page: Page number as denoted on the top right or top left part of the image, typically depicted by 1 to 4 digits. If not available set to N/A.\n",
      "\n",
      "    contents: A list of dictionaries containing the familyName and species information for all families and species under them.\n",
      "\n",
      "    familyName: The scientific name of the family of the species, typically found capitalized. If not available do not try to fill in and set as N/A. Family name must be  Captialized.\n",
      "\n",
      "\n",
      "    species: A list of dictionaries containing all speciesName and folders.\n",
      "\n",
      "    speciesName: The full scientific name of the species as noted in the image. Do not change format or correct grammer.\n",
      "\n",
      "    folders: A list of dictionaries containing the description and citations for each folder under the noted species.\n",
      "\n",
      "    description: The description under each folder denoting where the plant was found and collected from.\n",
      "\n",
      "    citations: A list of all collectors and transcriptors. Typically found as capitalized initials in square brackets within the description. The number of characters for  each citation typically range between 1 to 4 characters. \n",
      "\n",
      "\n",
      "  template: {\n",
      "    \"metadata\":{\n",
      "        \"division\":\"\", \n",
      "        \"page\":\"\" \n",
      "        },\n",
      "    \"contents\":[ \n",
      "        {\n",
      "            \"familyName\":\"\", \n",
      "            \"species\":[ \n",
      "                {\"speciesName\":\"\",\n",
      "                \"folders\":[ \n",
      "                    {\"description\":\"\",\n",
      "                    \"citations\":[\"\",\"\"] \n",
      "                    }\n",
      "                   ]\n",
      "                }\n",
      "            ]\n",
      "        }\n",
      "        ]\n",
      "}\n",
      "\n",
      "\n",
      "=> user\n",
      "  prompt: Parse the input image for the unstructred text and refactor it into a JSON structure\n",
      "\n"
     ]
    }
   ],
   "source": [
    "pl.print_prompt()"
   ]
  },
  {
   "cell_type": "code",
   "execution_count": null,
   "id": "a07fc0a9-ebb1-47d8-b454-96d6cb3a8051",
   "metadata": {},
   "outputs": [],
   "source": []
  }
 ],
 "metadata": {
  "kernelspec": {
   "display_name": "Python 3 (ipykernel)",
   "language": "python",
   "name": "python3"
  },
  "language_info": {
   "codemirror_mode": {
    "name": "ipython",
    "version": 3
   },
   "file_extension": ".py",
   "mimetype": "text/x-python",
   "name": "python",
   "nbconvert_exporter": "python",
   "pygments_lexer": "ipython3",
   "version": "3.12.6"
  }
 },
 "nbformat": 4,
 "nbformat_minor": 5
}
