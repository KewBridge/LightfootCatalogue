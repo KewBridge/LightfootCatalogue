{
 "cells": [
  {
   "cell_type": "code",
   "execution_count": 1,
   "id": "32d8a20c-e910-437f-ad67-55076c27a9c3",
   "metadata": {},
   "outputs": [],
   "source": [
    "import os\n",
    "\n",
    "os.environ[\"PYTORCH_CUDA_ALLOC_CONF\"] = \"expandable_segments:True\""
   ]
  },
  {
   "cell_type": "code",
   "execution_count": 2,
   "id": "cd34f5dc-d941-4c56-b625-f3562cca9ab0",
   "metadata": {},
   "outputs": [
    {
     "name": "stdout",
     "output_type": "stream",
     "text": [
      "CPU times: user 587 ms, sys: 313 ms, total: 900 ms\n",
      "Wall time: 10.8 s\n"
     ]
    }
   ],
   "source": [
    "%%time\n",
    "import json\n",
    "import pandas as pd\n",
    "import numpy as np\n",
    "import cv2\n",
    "from PIL import Image\n",
    "#from tesserocr import PyTessBaseAPI, PSM, RIL, PT\n",
    "import matplotlib.pyplot as plt"
   ]
  },
  {
   "cell_type": "code",
   "execution_count": 3,
   "id": "293f0b15-241f-4e92-808c-4cfba8f6fd61",
   "metadata": {},
   "outputs": [
    {
     "name": "stderr",
     "output_type": "stream",
     "text": [
      "/mnt/shared/scratch/ikarunak/apps/conda/envs/lightfootcat/lib/python3.12/site-packages/tqdm/auto.py:21: TqdmWarning: IProgress not found. Please update jupyter and ipywidgets. See https://ipywidgets.readthedocs.io/en/stable/user_install.html\n",
      "  from .autonotebook import tqdm as notebook_tqdm\n"
     ]
    },
    {
     "name": "stdout",
     "output_type": "stream",
     "text": [
      "CPU times: user 1.9 s, sys: 1.09 s, total: 2.99 s\n",
      "Wall time: 31.3 s\n"
     ]
    }
   ],
   "source": [
    "%%time\n",
    "import lib.utils as utils\n",
    "import lib.config as config\n",
    "import lib.model as model\n",
    "import lib.roi as roi\n",
    "import lib.split_pages as spages\n",
    "import lib.utils as utils"
   ]
  },
  {
   "cell_type": "code",
   "execution_count": 4,
   "id": "c1ff61ac-acfe-4528-b22f-17f2d926363a",
   "metadata": {},
   "outputs": [],
   "source": [
    "image_path = \"images/cropped/The_Lightfoot_Herbarium_05_cropped_1.jpg\"\n",
    "image_dir = \"images/cropped/\""
   ]
  },
  {
   "cell_type": "code",
   "execution_count": 5,
   "id": "6d86f2b6-6f64-498a-b392-20f878d09fbc",
   "metadata": {},
   "outputs": [],
   "source": [
    "images = sorted(utils.load_images(image_dir))[:2]"
   ]
  },
  {
   "cell_type": "code",
   "execution_count": 6,
   "id": "1aa5c4d7-91ce-4656-bffd-dfc3a07ce519",
   "metadata": {},
   "outputs": [],
   "source": [
    "newprompt = \"\"\"\n",
    "The input image contains a cropped image of a botanical catalogue listing the contents of folders sorted and listed in taxonomic order.\n",
    "These information are splitted into columns in each page.\n",
    "The image provides the division name, family name, species name and their folders' contents. \n",
    "---\n",
    "An example of the provided format is:\n",
    "\n",
    "Dicotyledones\n",
    "ACERACEAE\n",
    "Acer campestre L.\n",
    "1 folder. Acer campestre [TA]\n",
    "Acer pseudoplatanus L.\n",
    "2 folders.\n",
    "Folder 1. Acer Pseudo-Platanus\n",
    "[G]. i. \"Maple. Bulls: [Bulstrode]\n",
    "Park\" [JL]\n",
    "Folder 2. Acer Pseudo-Platanus\n",
    "[TA].\n",
    "AMARANTHACEAE\n",
    "Amaranthus lividus L. Flora Europaea 1: 110 (1964)\n",
    "1 folder. Amaranthus Blitum [TA].\n",
    "i. Cities Ray's Syn. 1957. ii. \"Blite \n",
    "Amaranth. Aug. It is often found\n",
    "on Dunghills in the neighbourhood\n",
    "of London. I gather'd this on a\n",
    "Dunghill at Fulham near London\"\n",
    "[JL]. iii. \"Amaranthus Blitum.\n",
    "Monoec: 5. and:\" [JL]\n",
    "---\n",
    "\n",
    "where divison names are characterised by large bold words; family names as captial words; species names as italic words.\n",
    "The list of contents under each species lists the number of folders first and then their content. \n",
    "When more than one folder is provided roman (like i, ii, iii) are used to differentiate the folders.\n",
    "Furthermore, for each collection the collectors initials are also cited using square brackets '[]'.\n",
    "\n",
    "In some cases, the input image provided contains folder information from previously provided images and thus these information had continued from the last page.\n",
    "\n",
    "---\n",
    "Example of output lists of JSON dicts\n",
    "\n",
    "[\n",
    "{\n",
    "'division':'Dicotyledones'\n",
    "'contents': [{'family'='ACERACEAE', contents=[{'species'='Acer campestre L.', folders=[{'folder'=1, 'content'='Acer campestre [TA]'}]}, \n",
    "                                              {'species'='Acer pseudoplatanus L.', folders=[{'folder'=1, 'content'='Acer Pseudo-Platanus [G]. i. \"Maple. Bulls: [Bulstrode] Park\" [JL]'},\n",
    "                                              {'folder'=2, 'content'='Acer Pseudo-Platanus [TA]'}]}]\n",
    "},{'family'='AMARANTHACEAE', contents=[{'species'='Amaranthus lividus L. Flora Europaea 1: 110 (1964)', folders=[{'folder'=1, 'content'='Amaranthus Blitum [TA].\n",
    "i. Cities Ray's Syn. 1957. ii. \"Blite \n",
    "Amaranth. Aug. It is often found\n",
    "on Dunghills in the neighbourhood\n",
    "of London. I gather'd this on a\n",
    "Dunghill at Fulham near London\"\n",
    "[JL]. iii. \"Amaranthus Blitum.\n",
    "Monoec: 5. and:\" [JL]'}]}, ]}\n",
    "\n",
    "]}\n",
    "\n",
    "---\n",
    "\n",
    "\n",
    "Process the image using the following steps to generate a JSON file that supports the above provided structure\n",
    "\n",
    "1. Create a list of JSON files\n",
    "2. Find the division name where possible, if not available set as 'N/A'.\n",
    "3. Under the division, create a contents lists\n",
    "4. For each family name under division name create a JSON dict and add it to the list\n",
    "5. Under each family name find the species name and thier folder contents and add them to the list\n",
    "6. Where appropriate if a value for a specific key cannot be found, set it as 'N/A'\n",
    "7. In cases where extra text is provided before Division name, family names or species name, consider the division, family or species name as 'Extra info'\n",
    "\n",
    "Compile these information into a list of JSON dicts and return the list. Please output this list of JSON dicts and not the example. \n",
    "The example (denoted between --- and ---) is only to be used as a template for the structure of the JSON format.\n",
    "\n",
    "\n",
    "Family names are characterised by captial words whilst species names are characterised by italic words.\n",
    "The list of contents under each species lists the number of folders first and then their content. \n",
    "Furthermore, for each collection the collectors initials are also cited using square brackets '[]'.\n",
    "\"\"\""
   ]
  },
  {
   "cell_type": "code",
   "execution_count": 7,
   "id": "b20f04ac-20dd-4ae0-ad49-515cc325bad3",
   "metadata": {},
   "outputs": [],
   "source": [
    "simple_prompt = \"\"\"\n",
    "The input image contains a cropped image of a botanical catalogue listing the contents of folders sorted and listed in taxonomic order.\n",
    "The image provides the division name, family name, species name and their folders' contents. \n",
    "\n",
    "Transcribe the text in the image into a structured and labelled format.\n",
    "\"\"\""
   ]
  },
  {
   "cell_type": "code",
   "execution_count": 8,
   "id": "c5df0930-6a4b-4cab-a10f-d578ee921b14",
   "metadata": {},
   "outputs": [
    {
     "name": "stderr",
     "output_type": "stream",
     "text": [
      "`Qwen2VLRotaryEmbedding` can now be fully parameterized by passing the model config through the `config` argument. All other arguments will be removed in v4.46\n",
      "Loading checkpoint shards: 100%|█████████████████████████████████████████████████████████████████████████████████████████████████████████████| 5/5 [00:58<00:00, 11.72s/it]\n"
     ]
    },
    {
     "name": "stdout",
     "output_type": "stream",
     "text": [
      "CPU times: user 2.89 s, sys: 11.2 s, total: 14 s\n",
      "Wall time: 1min 1s\n"
     ]
    }
   ],
   "source": [
    "%%time\n",
    "qwen_model = model.QWEN_Model(prompt=simple_prompt, max_new_tokens = 5000, batch_size=1)"
   ]
  },
  {
   "cell_type": "code",
   "execution_count": 9,
   "id": "f28537e6-1bd3-4c1f-a9a2-312376a8592b",
   "metadata": {
    "scrolled": true
   },
   "outputs": [
    {
     "name": "stdout",
     "output_type": "stream",
     "text": [
      ">>> Using: \n",
      " \tMaximum new tokens = 5000 \n",
      " \tBatch size = 1 \n",
      " \tsave_path = None\n",
      ">>> Batch 1 starting...\n",
      "\tProcessing text prompts...\n",
      "\tReading Images...\n",
      "\tProcessing inputs...\n",
      "\tMoving inputs to gpu...\n",
      "\tPerforming inference...\n",
      "\tInference Finished\n",
      "\tSeperating Ids...\n",
      "\tDecoding Ids...\n",
      "\tSeperating Outputs...\n",
      "\tOutputs stored!\n",
      ">>> Batch 2 starting...\n",
      "\tProcessing text prompts...\n",
      "\tReading Images...\n",
      "\tProcessing inputs...\n",
      "\tMoving inputs to gpu...\n",
      "\tPerforming inference...\n",
      "\tInference Finished\n",
      "\tSeperating Ids...\n",
      "\tDecoding Ids...\n",
      "\tSeperating Outputs...\n",
      "\tOutputs stored!\n",
      "CPU times: user 1min 33s, sys: 3.73 s, total: 1min 37s\n",
      "Wall time: 1min 46s\n"
     ]
    }
   ],
   "source": [
    "%%time\n",
    "outputs = qwen_model.batch_infer(images, save=False, debug=True)"
   ]
  },
  {
   "cell_type": "code",
   "execution_count": 10,
   "id": "ea618094-015d-424c-87a3-3c0ef75a7396",
   "metadata": {},
   "outputs": [
    {
     "data": {
      "text/plain": [
       "[('images/cropped/The_Lightfoot_Herbarium_05_cropped_1.jpg',\n",
       "  '```json\\n{\\n  \"division\": \"Dicotyledones\",\\n  \"family\": \"Aceraceae\",\\n  \"species\": \"Acer campestre L.\",\\n  \"folders\": [\\n    {\\n      \"folder\": \"1\",\\n      \"contents\": \"Acer campestre [TA]\"\\n    }\\n  ],\\n  \"species\": \"Acer pseudoplatanus L.\",\\n  \"folders\": [\\n    {\\n      \"folder\": \"1\",\\n      \"contents\": \"Acer Pseudo-Platanus [G]. i. \\\\\"Maple. Bulls: [Bulstrode] Park\\\\\" [JL]\"\\n    },\\n    {\\n      \"folder\": \"2\",\\n      \"contents\": \"Acer Pseudo-Platanus [TA]\"\\n    }\\n  ],\\n  \"family\": \"Amaranthaceae\",\\n  \"species\": \"Amaranthus lividus L., Flora Europaea\",\\n  \"folders\": [\\n    {\\n      \"folder\": \"1\",\\n      \"contents\": \"Amaranthus Blitum [TA]. i. Cites Ray\\'s Syn. 1957. ii. \\\\\"Blite Amaranth. Aug.\\\\\" It is often found on Dunghills in the neighbourhood of London. I gather\\'d this on a Dunghill at Fulham near London\\\\\" [JL]. iii. \\\\\"Amaranthus Blitum. Monoec: 5. and:\\\\\" [JL]\"\\n    }\\n  ],\\n  \"family\": \"Araliaceae\",\\n  \"species\": \"Hedera helix L.\",\\n  \"folders\": [\\n    {\\n      \"folder\": \"1\",\\n      \"contents\": \"Hederaa Helix [TA]\"\\n    }\\n  ],\\n  \"family\": \"Aristolochiaceae\",\\n  \"species\": \"Asarum europaeum L.\",\\n  \"folders\": [\\n    {\\n      \"folder\": \"1\",\\n      \"contents\": \"Asarum europaeum [TA]. i. \\\\\"Asarum europaeum Lin: Asarabacca. Anglis. ex horto\\\\\" [JL]\"\\n    }\\n  ],\\n  \"family\": \"Balsaminaceae\",\\n  \"species\": \"Impatiens noli-tangere L.\",\\n  \"folders\": [\\n    {\\n      \"folder\": \"1\",\\n      \"contents\": \"Impatiens Noli me tangere [G]\"\\n    }\\n  ],\\n  \"family\": \"Betulaceae\",\\n  \"species\": \"Alnus glutinosa (L.) Gaertn.\",\\n  \"folders\": [\\n    {\\n      \"folder\": \"1\",\\n      \"contents\": \"Betula Alnus [TA]\"\\n    }\\n  ],\\n  \"species\": \"Betula nana L.\",\\n  \"folders\": [\\n    {\\n      \"folder\": \"1\",\\n      \"contents\": \"Betula nana [G]\"\\n    }\\n  ],\\n  \"family\": \"Campanulaceae\",\\n  \"species\": \"Campanula latifolia L.\",\\n  \"folders\": [\\n    {\\n      \"folder\": \"1\",\\n      \"contents\": \"Companula latifolia [TA]\"\\n    },\\n    {\\n      \"folder\": \"2\",\\n      \"contents\": \"Companula latifolia [G]\"\\n    }\\n  ],\\n  \"species\": \"Campanula patula L.\",\\n  \"folders\": [\\n    {\\n      \"folder\": \"1\",\\n      \"contents\": \"Campanula patula [TA]\"\\n    }\\n  ],\\n  \"species\": \"Campanula rapunculus L.\",\\n  \"folders\": [\\n    {\\n      \"folder\": \"1\",\\n      \"contents\": \"Campanula rapunculus [TA]\"\\n    }\\n  ],\\n  \"family\": \"Leguminosae\",\\n  \"species\": \"Jasione montana L.\",\\n  \"folders\": [\\n    {\\n      \"folder\": \"1\",\\n      \"contents\": \"Jasione montana [TA]\"\\n    }\\n  ],\\n  \"family\": \"Lobeliaceae\",\\n  \"species\": \"Lobelia dortmanna L.\",\\n  \"folders\": [\\n    {\\n      \"folder\": \"1\",\\n      \"contents\": \"Lobelia Dortmanna [TA]. i. Cites Ray\\'s Syn. 287. ii. \\\\\"Water Gladiole. July & August. In the Lakes of North Wales & Westmoreland\\\\\" [JL]. iii. \\\\\"Lobel: Dortmanna from Anglesey\\\\\" [JL]\"\\n    },\\n    {\\n      \"folder\": \"2\",\\n      \"contents\": \"Lobelia Dortmanna [G]\"\\n    }\\n  ],\\n  \"species\": \"Lobelia urens L.\",\\n  \"folders\": [\\n    {\\n      \"folder\": \"1\",\\n      \"contents\": \"Lobelia urens [G]. i. Cites Ray\\'s Hist. 746. ii. \\\\\"Caustic Lobelia. Habitat solum humidum & spongiosum Ericeti cujusdam Shute Common dicti Devoniae, inter paludem turfosam & viam publican quae ab Axminster ad Honiton ducit. Plures plantas primum inventit Dom: Newbury e Coll: Exon: Oxon: circiter finem Octobris, Anno 1768\\\\\" [JL]. iii. \\\\\"From Devonshire\\\\\" [JL]\"\\n    },\\n    {\\n      \"folder\": \"2\",\\n      \"contents\": \"Lobelia urens [TA]. i. \\\\\"Lobelia urens\\\\\" [JL]\"\\n    },\\n    {\\n      \"folder\": \"3\",\\n      \"contents\": \"Lobelia urens [G]\"\\n    },\\n    {\\n      \"folder\": \"4\",\\n      \"contents\": \"Lobelia urens [G]\"\\n    }\\n  ],\\n  \"family\": \"Phyteuma tenerum R.Schulz\",\\n  \"species\": \"Phyteuma orbicularis [TA]\",\\n  \"folders\": [\\n    {\\n      \"folder\": \"1\",\\n      \"contents\": \"Phyteuma orbicularis [TA]\"\\n    }\\n  ],\\n  \"family\": \"Wahlenbergiaceae\",\\n  \"species\": \"Wahlenbergia hederacea (L.) Reichb.\",\\n  \"folders\": [\\n    {\\n      \"folder\": \"1\",\\n      \"contents\": \"Campanula hederacea [TA]. i. \\\\\"Carmathenshire\\\\\" [JL]\"\\n    }\\n  ]\\n}\\n```'),\n",
       " ('images/cropped/The_Lightfoot_Herbarium_05_cropped_2.jpg',\n",
       "  '```json\\n{\\n  \"division\": \"Caprifoliaceae\",\\n  \"family\": \"Linnaea borealis L.\",\\n  \"species\": \"Linnaea borealis\",\\n  \"folders\": [\\n    {\\n      \"folder\": \"1 sheet. Linnaea borealis [JL].\",\\n      \"contents\": \"Cites Linn. Sp. Pl. 631; Bauh. Pin. 93. ii. \\\\\"This is a Native of Sweden, Siberia, Switzerland, Russia, Canada, & c. This Specimen was gathered & communicated by Jos: Banks Esqr. who discover’d it in Abundance in the Woods in Newfoundland\\\\\" [JL]. iii. \\\\\"In Scotland—See English Botany N.433\\\\\" [? G].\"\\n    }\\n  ]\\n}\\n```')]"
      ]
     },
     "execution_count": 10,
     "metadata": {},
     "output_type": "execute_result"
    }
   ],
   "source": [
    "outputs"
   ]
  },
  {
   "cell_type": "code",
   "execution_count": 15,
   "id": "4e3e81fb-08f6-43e4-b8e6-330fc04768e9",
   "metadata": {},
   "outputs": [],
   "source": [
    "out = outputs[1][1]"
   ]
  },
  {
   "cell_type": "code",
   "execution_count": 16,
   "id": "17cf6907-5f82-41be-b43d-c7ff43d7699e",
   "metadata": {},
   "outputs": [
    {
     "name": "stdout",
     "output_type": "stream",
     "text": [
      "```json\n",
      "{\n",
      "  \"division\": \"Caprifoliaceae\",\n",
      "  \"family\": \"Linnaea borealis L.\",\n",
      "  \"species\": \"Linnaea borealis\",\n",
      "  \"folders\": [\n",
      "    {\n",
      "      \"folder\": \"1 sheet. Linnaea borealis [JL].\",\n",
      "      \"contents\": \"Cites Linn. Sp. Pl. 631; Bauh. Pin. 93. ii. \\\"This is a Native of Sweden, Siberia, Switzerland, Russia, Canada, & c. This Specimen was gathered & communicated by Jos: Banks Esqr. who discover’d it in Abundance in the Woods in Newfoundland\\\" [JL]. iii. \\\"In Scotland—See English Botany N.433\\\" [? G].\"\n",
      "    }\n",
      "  ]\n",
      "}\n",
      "```\n"
     ]
    }
   ],
   "source": [
    "print(out)"
   ]
  },
  {
   "cell_type": "code",
   "execution_count": null,
   "id": "8f963e2f-6b6c-4074-acd3-e0b33267ddc4",
   "metadata": {},
   "outputs": [],
   "source": []
  }
 ],
 "metadata": {
  "kernelspec": {
   "display_name": "Python 3 (ipykernel)",
   "language": "python",
   "name": "python3"
  },
  "language_info": {
   "codemirror_mode": {
    "name": "ipython",
    "version": 3
   },
   "file_extension": ".py",
   "mimetype": "text/x-python",
   "name": "python",
   "nbconvert_exporter": "python",
   "pygments_lexer": "ipython3",
   "version": "3.12.6"
  }
 },
 "nbformat": 4,
 "nbformat_minor": 5
}
