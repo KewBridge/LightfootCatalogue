{
 "cells": [
  {
   "cell_type": "code",
   "execution_count": 2,
   "id": "cd34f5dc-d941-4c56-b625-f3562cca9ab0",
   "metadata": {},
   "outputs": [],
   "source": [
    "from PIL import Image\n",
    "import requests\n",
    "import torch\n",
    "#from torchvision import io\n",
    "from typing import Dict\n",
    "from transformers import Qwen2VLForConditionalGeneration, AutoTokenizer, AutoProcessor"
   ]
  },
  {
   "cell_type": "code",
   "execution_count": 3,
   "id": "198cff10-7467-40c2-8a2b-9c5ee8be4e71",
   "metadata": {},
   "outputs": [],
   "source": [
    "prompt = \"Process this image in two steps: Step 1: Turn the text in this picture into markdown. Indicate italics. \\\n",
    "            Indent lines which discuss folder contents as unordered lists Step 2: Convert the markdown text that you created in step 1 into JSON. \\\n",
    "            Use the heading texts as keys, and the folder details as nested numbered lists\\\n",
    "            Your output should consist of the markdown text, then a fenced JSON code block\"\n"
   ]
  },
  {
   "cell_type": "code",
   "execution_count": 16,
   "id": "1a491c6b-1b41-4317-8a10-f968003ce9d0",
   "metadata": {},
   "outputs": [
    {
     "name": "stderr",
     "output_type": "stream",
     "text": [
      "Loading checkpoint shards: 100%|██████████████████████████████████████████████████████████████████████████████████████████████████████████████| 5/5 [01:15<00:00, 15.06s/it]\n"
     ]
    },
    {
     "name": "stdout",
     "output_type": "stream",
     "text": [
      "['### Dicotyledones\\n\\n#### ACERACEAE\\n\\n**Acer campestre L.**\\n\\n- 1 folder. Acer campestre [TA]\\n\\n**Acer pseudoplatanus L.**\\n\\n- 2 folders.\\n\\n  - Folder 1. Acer Pseudo-Platanus [G]. i. \"Maple. Bulls: [Bulstrode] Park\" [JL]\\n  - Folder 2. Acer Pseudo-Platanus [TA].\\n\\n#### AMARANTHACEAE\\n\\n**Amaranthus lividus L., Flora Europaea 1: 110 (1964)**\\n\\n- 1 folder. Amaranthus Blitum [TA].\\n\\n  - i. Cites Ray\\'s Syn. 1957. ii. \"Blite Amaranth. Aug! It is often found on Dunghills in the neighbourhood of London. I gather\\'d this on a Dunghill at Fulham near London\" [JL]. iii. \"Amaranthus Blitum. Monoec: 5. and:\" [JL]\\n\\n#### ARALIACEAE\\n\\n**Hedera helix L.**\\n\\n- 1 folder. Hedera Helix [TA].\\n\\n#### ARISTOLOCHIACEAE\\n\\n**Asarum europaeum L.**\\n\\n- 1 folder. Asarum europaeum [TA].\\n\\n  - i. \"Asarum europaeum Lin: Asarabacca. Anglis. ex horto\" [JL].\\n\\n#### BALSAMINACEAE\\n\\n**Impatiens noli-tangere L.**\\n\\n- 1 folder. Impatiens Noli me tangere [G].\\n\\n#### BETULACEAE\\n\\n**Alnus glutinosa (L.) Gaertn.**\\n\\n- 1 folder. Betula Alnus [TA].\\n\\n**Betula nana L.**\\n\\n- 1 folder. Betula nana [G].\\n\\n#### CAMANULACEAE\\n\\n**Campanula latifolia L.**\\n\\n- 2 folders.\\n\\n  - Folder 1. Companula latifolia [TA].\\n  - Folder 2. Companula latifolia [G].\\n\\n**Campanula patula L.**\\n\\n- 1 folder. Campanula patula [TA].\\n\\n**Campanula rapunculus L.**\\n\\n- 2 folders.\\n\\n  - Folder 1. Campanula rapunculus [TA].\\n\\n```json\\n{\\n  \"ACERACEAE\": {\\n    \"Acer campestre L.\": {\\n      \"folders\": 1,\\n      \"folder_contents\": [\"Acer campestre [TA]\"]\\n    },\\n    \"Acer pseudoplatanus L.\": {\\n      \"folders\": 2,\\n      \"folder_contents\": [\\n        {\\n          \"folder\": \"Acer Pseudo-Platanus [G]\",\\n          \"contents\": [\\n            \"Maple. Bulls: [Bulstrode] Park\" [JL]\\n          ]\\n        },\\n        {\\n          \"folder\": \"Acer Pseudo-Platanus [TA]\",\\n          \"contents\": []\\n        }\\n      ]\\n    }\\n  },\\n  \"AMARANTHACEAE\": {\\n    \"Amaranthus lividus L., Flora Europaea 1: 110 (1964)\": {\\n      \"folders\": 1,\\n      \"folder_contents\": [\"Amaranthus Blitum [TA]\"],\\n      \"contents\": [\\n        \"Cites Ray\\'s Syn. 1957. ii. \\'Blite Amaranth. Aug! It is often found on Dunghills in the neighbourhood of London. I gather\\'d this on a Dunghill at Fulham near London\\' [JL]. iii. \\'Amaranthus Blitum. Monoec: 5. and:\\' [JL]\"\\n      ]\\n    }\\n  },\\n  \"ARALIACEAE\": {\\n    \"Hedera helix L.\": {\\n      \"folders\": 1,\\n      \"folder_contents\": [\"Hedera Helix [TA]\"]\\n    }\\n  },\\n  \"ARISTOLOCHIACEAE\": {\\n    \"Asarum europaeum L.\": {\\n      \"folders\": 1,\\n      \"folder_contents\": [\"Asarum europaeum [TA]\"],\\n      \"contents\": [\\n        \"Asarum europaeum Lin: Asarabacca. Anglis. ex horto\" [JL]\\n      ]\\n    }\\n  },\\n  \"BALSAMINACEAE\": {\\n    \"Impatiens noli-tangere L.\": {\\n      \"folders\": 1,\\n      \"folder_contents\": [\"Impatiens Noli me tangere [G]\"]\\n    }\\n  },\\n  \"BETULACEAE\": {\\n    \"Alnus glut']\n"
     ]
    }
   ],
   "source": [
    "%%time\n",
    "\n",
    "#Load the model in half-precision on the available device(s)\n",
    "model = Qwen2VLForConditionalGeneration.from_pretrained(\n",
    "    \"Qwen/Qwen2-VL-7B-Instruct\", torch_dtype=\"auto\", device_map=\"auto\"\n",
    ")\n",
    "processor = AutoProcessor.from_pretrained(\"Qwen/Qwen2-VL-7B-Instruct\")\n",
    "\n",
    "# Image\n",
    "url = \"./sample-images/pg132_a.jpeg\"\n",
    "image = Image.open(url)\n",
    "\n",
    "conversation = [\n",
    "    {\n",
    "        \"role\": \"user\",\n",
    "        \"content\": [\n",
    "            {\n",
    "                \"type\": \"image\",\n",
    "            },\n",
    "            {\"type\": \"text\", \"text\": prompt},\n",
    "        ],\n",
    "    }\n",
    "]\n",
    "\n",
    "\n",
    "# Preprocess the inputs\n",
    "text_prompt = processor.apply_chat_template(conversation, add_generation_prompt=True)\n",
    "# Excepted output: '<|im_start|>system\\nYou are a helpful assistant.<|im_end|>\\n<|im_start|>user\\n<|vision_start|><|image_pad|><|vision_end|>Describe this image.<|im_end|>\\n<|im_start|>assistant\\n'\n",
    "\n",
    "inputs = processor(\n",
    "    text=[text_prompt], images=[image], padding=True, return_tensors=\"pt\"\n",
    ")\n",
    "inputs = inputs.to(\"cuda\")\n",
    "\n",
    "# Inference: Generation of the output\n",
    "output_ids = model.generate(**inputs, max_new_tokens=1024) \n",
    "## Increasing the number of new tokens, increases the number of words recognised by the model with trade-off of speed\n",
    "## 1024 new tokens was capable of reading upto 70% of the input image (pg132_a.jpeg)\n",
    "generated_ids = [\n",
    "    output_ids[len(input_ids) :]\n",
    "    for input_ids, output_ids in zip(inputs.input_ids, output_ids)\n",
    "]\n",
    "output_text = processor.batch_decode(\n",
    "    generated_ids, skip_special_tokens=True, clean_up_tokenization_spaces=True\n",
    ")\n",
    "print(output_text)"
   ]
  },
  {
   "cell_type": "code",
   "execution_count": 17,
   "id": "3a91d807-8feb-411c-a1a9-ff27a1aeae62",
   "metadata": {},
   "outputs": [
    {
     "data": {
      "text/plain": [
       "[tensor([14374,   422, 86437,  ...,    77,   355, 34069], device='cuda:0')]"
      ]
     },
     "execution_count": 17,
     "metadata": {},
     "output_type": "execute_result"
    }
   ],
   "source": [
    "generated_ids"
   ]
  },
  {
   "cell_type": "code",
   "execution_count": null,
   "id": "7cc7f4cf-1696-415f-9297-9ae358102a8d",
   "metadata": {},
   "outputs": [],
   "source": []
  }
 ],
 "metadata": {
  "kernelspec": {
   "display_name": "Python 3 (ipykernel)",
   "language": "python",
   "name": "python3"
  },
  "language_info": {
   "codemirror_mode": {
    "name": "ipython",
    "version": 3
   },
   "file_extension": ".py",
   "mimetype": "text/x-python",
   "name": "python",
   "nbconvert_exporter": "python",
   "pygments_lexer": "ipython3",
   "version": "3.12.6"
  }
 },
 "nbformat": 4,
 "nbformat_minor": 5
}
