{
 "cells": [
  {
   "cell_type": "code",
   "execution_count": null,
   "id": "32d8a20c-e910-437f-ad67-55076c27a9c3",
   "metadata": {},
   "outputs": [],
   "source": [
    "import os\n",
    "\n",
    "os.environ[\"PYTORCH_CUDA_ALLOC_CONF\"] = \"expandable_segments:True\""
   ]
  },
  {
   "cell_type": "code",
   "execution_count": null,
   "id": "cd34f5dc-d941-4c56-b625-f3562cca9ab0",
   "metadata": {},
   "outputs": [],
   "source": [
    "%%time\n",
    "import json\n",
    "import pandas as pd\n",
    "import numpy as np\n",
    "import cv2\n",
    "from PIL import Image\n",
    "#from tesserocr import PyTessBaseAPI, PSM, RIL, PT\n",
    "import matplotlib.pyplot as plt"
   ]
  },
  {
   "cell_type": "code",
   "execution_count": null,
   "id": "293f0b15-241f-4e92-808c-4cfba8f6fd61",
   "metadata": {},
   "outputs": [],
   "source": [
    "%%time\n",
    "import lib.utils as utils\n",
    "from run import get_images\n",
    "#import lib.config as config\n",
    "import lib.model as model\n",
    "#import lib.roi as roi\n",
    "#import lib.split_pages as spages\n",
    "from lib.promptLoader import PromptLoader"
   ]
  },
  {
   "cell_type": "code",
   "execution_count": null,
   "id": "c1ff61ac-acfe-4528-b22f-17f2d926363a",
   "metadata": {},
   "outputs": [],
   "source": [
    "image_path = \"images/cropped/The_Lightfoot_Herbarium_05_cropped_1.jpg\"\n",
    "image_dir = \"images/cropped/\"\n",
    "default_yaml = None#\"./prompts/default_v2.yaml\"\n",
    "conversation = [dict(role=\"user\", content=[dict(type=\"image\"), \n",
    "                dict(type=\"text\", \n",
    "                     text=\"Extract the text from the image, preserving the structure and formatting. Ensure no grammatical correction is performed.\")])]"
   ]
  },
  {
   "cell_type": "code",
   "execution_count": null,
   "id": "6d86f2b6-6f64-498a-b392-20f878d09fbc",
   "metadata": {},
   "outputs": [],
   "source": [
    "images = sorted(utils.load_images(image_dir))[:10]"
   ]
  },
  {
   "cell_type": "code",
   "execution_count": null,
   "id": "08981e56-48ba-45ad-b918-02db61c9ed0e",
   "metadata": {},
   "outputs": [],
   "source": [
    "len(images)"
   ]
  },
  {
   "cell_type": "code",
   "execution_count": null,
   "id": "c5df0930-6a4b-4cab-a10f-d578ee921b14",
   "metadata": {},
   "outputs": [],
   "source": [
    "%%time\n",
    "qwen_model = model.QWEN_Model(prompt=default_yaml, conversation=conversation, max_new_tokens = 1000000, batch_size=1, temperature=1)"
   ]
  },
  {
   "cell_type": "code",
   "execution_count": null,
   "id": "7e825c61-4bf7-45bc-b0ab-718e1464f464",
   "metadata": {
    "scrolled": true
   },
   "outputs": [],
   "source": [
    "qwen_model.conversation"
   ]
  },
  {
   "cell_type": "code",
   "execution_count": null,
   "id": "f28537e6-1bd3-4c1f-a9a2-312376a8592b",
   "metadata": {
    "scrolled": true
   },
   "outputs": [],
   "source": [
    "%%time\n",
    "outputs = qwen_model.batch_infer(images, save=False, debug=True)"
   ]
  },
  {
   "cell_type": "code",
   "execution_count": null,
   "id": "4e3e81fb-08f6-43e4-b8e6-330fc04768e9",
   "metadata": {},
   "outputs": [],
   "source": [
    "out = outputs[3][1]"
   ]
  },
  {
   "cell_type": "code",
   "execution_count": null,
   "id": "17cf6907-5f82-41be-b43d-c7ff43d7699e",
   "metadata": {},
   "outputs": [],
   "source": [
    "print(out)"
   ]
  },
  {
   "cell_type": "code",
   "execution_count": null,
   "id": "7cfdc34d-554f-45dc-87c1-2466dae5ded7",
   "metadata": {},
   "outputs": [],
   "source": []
  }
 ],
 "metadata": {
  "kernelspec": {
   "display_name": "Python 3 (ipykernel)",
   "language": "python",
   "name": "python3"
  },
  "language_info": {
   "codemirror_mode": {
    "name": "ipython",
    "version": 3
   },
   "file_extension": ".py",
   "mimetype": "text/x-python",
   "name": "python",
   "nbconvert_exporter": "python",
   "pygments_lexer": "ipython3",
   "version": "3.12.6"
  }
 },
 "nbformat": 4,
 "nbformat_minor": 5
}
