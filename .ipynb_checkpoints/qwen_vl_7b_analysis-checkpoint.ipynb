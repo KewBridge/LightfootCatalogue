{
 "cells": [
  {
   "cell_type": "code",
   "execution_count": 1,
   "id": "32d8a20c-e910-437f-ad67-55076c27a9c3",
   "metadata": {},
   "outputs": [],
   "source": [
    "import os\n",
    "\n",
    "os.environ[\"PYTORCH_CUDA_ALLOC_CONF\"] = \"expandable_segments:True\""
   ]
  },
  {
   "cell_type": "code",
   "execution_count": 2,
   "id": "cd34f5dc-d941-4c56-b625-f3562cca9ab0",
   "metadata": {},
   "outputs": [
    {
     "name": "stdout",
     "output_type": "stream",
     "text": [
      "CPU times: user 559 ms, sys: 348 ms, total: 906 ms\n",
      "Wall time: 20 s\n"
     ]
    }
   ],
   "source": [
    "%%time\n",
    "import json\n",
    "import pandas as pd\n",
    "import numpy as np\n",
    "import cv2\n",
    "from PIL import Image\n",
    "#from tesserocr import PyTessBaseAPI, PSM, RIL, PT\n",
    "import matplotlib.pyplot as plt"
   ]
  },
  {
   "cell_type": "code",
   "execution_count": 3,
   "id": "293f0b15-241f-4e92-808c-4cfba8f6fd61",
   "metadata": {},
   "outputs": [
    {
     "name": "stderr",
     "output_type": "stream",
     "text": [
      "/mnt/shared/scratch/ikarunak/apps/conda/envs/lightfootcat/lib/python3.12/site-packages/tqdm/auto.py:21: TqdmWarning: IProgress not found. Please update jupyter and ipywidgets. See https://ipywidgets.readthedocs.io/en/stable/user_install.html\n",
      "  from .autonotebook import tqdm as notebook_tqdm\n"
     ]
    },
    {
     "name": "stdout",
     "output_type": "stream",
     "text": [
      "CPU times: user 1.97 s, sys: 989 ms, total: 2.96 s\n",
      "Wall time: 48.4 s\n"
     ]
    }
   ],
   "source": [
    "%%time\n",
    "import lib.utils as utils\n",
    "from run import get_images\n",
    "#import lib.config as config\n",
    "import lib.model as model\n",
    "#import lib.roi as roi\n",
    "#import lib.split_pages as spages\n",
    "from lib.promptLoader import PromptLoader"
   ]
  },
  {
   "cell_type": "code",
   "execution_count": 4,
   "id": "c1ff61ac-acfe-4528-b22f-17f2d926363a",
   "metadata": {},
   "outputs": [],
   "source": [
    "image_path = \"images/cropped/The_Lightfoot_Herbarium_05_cropped_1.jpg\"\n",
    "image_dir = \"images/cropped/\"\n",
    "default_yaml = \"./prompts/default_v2.yaml\""
   ]
  },
  {
   "cell_type": "code",
   "execution_count": 5,
   "id": "6d86f2b6-6f64-498a-b392-20f878d09fbc",
   "metadata": {},
   "outputs": [],
   "source": [
    "images = sorted(utils.load_images(image_dir))[:2]"
   ]
  },
  {
   "cell_type": "code",
   "execution_count": 6,
   "id": "08981e56-48ba-45ad-b918-02db61c9ed0e",
   "metadata": {},
   "outputs": [
    {
     "data": {
      "text/plain": [
       "2"
      ]
     },
     "execution_count": 6,
     "metadata": {},
     "output_type": "execute_result"
    }
   ],
   "source": [
    "len(images)"
   ]
  },
  {
   "cell_type": "code",
   "execution_count": 7,
   "id": "c5df0930-6a4b-4cab-a10f-d578ee921b14",
   "metadata": {},
   "outputs": [
    {
     "name": "stderr",
     "output_type": "stream",
     "text": [
      "/mnt/shared/scratch/ikarunak/apps/conda/envs/lightfootcat/lib/python3.12/site-packages/transformers/generation/configuration_utils.py:601: UserWarning: `do_sample` is set to `False`. However, `temperature` is set to `0.2` -- this flag is only used in sample-based generation modes. You should set `do_sample=True` or unset `temperature`. This was detected when initializing the generation config instance, which means the corresponding file may hold incorrect parameterization and should be fixed.\n",
      "  warnings.warn(\n",
      "/mnt/shared/scratch/ikarunak/apps/conda/envs/lightfootcat/lib/python3.12/site-packages/transformers/generation/configuration_utils.py:601: UserWarning: `do_sample` is set to `False`. However, `temperature` is set to `0.2` -- this flag is only used in sample-based generation modes. You should set `do_sample=True` or unset `temperature`.\n",
      "  warnings.warn(\n",
      "`Qwen2VLRotaryEmbedding` can now be fully parameterized by passing the model config through the `config` argument. All other arguments will be removed in v4.46\n",
      "Loading checkpoint shards: 100%|█████████████████████████████████████████| 5/5 [03:21<00:00, 40.21s/it]\n"
     ]
    },
    {
     "name": "stdout",
     "output_type": "stream",
     "text": [
      "CPU times: user 2.84 s, sys: 11.7 s, total: 14.5 s\n",
      "Wall time: 3min 26s\n"
     ]
    }
   ],
   "source": [
    "%%time\n",
    "qwen_model = model.QWEN_Model(prompt=default_yaml, max_new_tokens = 1000000, batch_size=1)"
   ]
  },
  {
   "cell_type": "code",
   "execution_count": 8,
   "id": "7e825c61-4bf7-45bc-b0ab-718e1464f464",
   "metadata": {
    "scrolled": true
   },
   "outputs": [
    {
     "data": {
      "text/plain": [
       "[{'role': 'system',\n",
       "  'content': 'You are an expert in extracting small text from botanical catalogues and organising them into JSON files with respect to a defined structure.\\n'},\n",
       " {'role': 'system',\n",
       "  'content': '## INSTRUCTIONS \\n1) **Extract Text**: Extract all text from the image, preserving the layout order and formatting as much as possible.\\n\\n2) **Organize into JSON**: Structure the extracted text from step 1 into JSON.\\n\\n3) **Assign Metadata**:\\n   - **Division**: Extract if available. Division is defined by a larger, bold font but not capitalized. If not found, set as \"N/A\". (e.g., \"Dicotyledone\").\\n   - **Page Number**: Capture the page number, typically found at the top corners of the page. If not found, set as \"N/A\". (e.g., \"132\").\\n\\n4) **Identify Family Names**:\\n   - Each family name is written in uppercase (e.g., \"ACERACEAE\").\\n   - Store it as `familyName` in the JSON structure.\\n   - Ensure family name is in Capital Letters\\n\\n5) **Identify Species**:\\n   - Species names appear in italics and are typically followed by an author abbreviation (e.g., \"Acer campestre L.\").\\n   - Species names are generally found under family names.\\n   - Store each as `speciesName` under its respective `familyName`.\\n\\n6) **Capture Folder Details**:\\n   - Each species may have one or more folders labeled as \"Folder X\".\\n   - Extract the folder number (`folderNo`) and description. Use the text after \"Folder X\" as `description`.\\n   - Check the next column for continued text where appropriate\\n\\n7) **Capture Additional Text**:\\n   - Extract text before initial family name and perform steps 5 and 6\\n   - Where no species information is available, store the text as it is under \"noFamilyName\"\\n\\n8) **Validation**:\\n   - Ensure all text extracted in step 1 is correctly organised into JSON\\n   - Leave fields empty or set to \"N/A\" if information is not available.\\n   - Avoid duplicate keys and ensure all keys are in camelCase.\\n   - Ensure JSON is valid with no trailing commas or unquoted keys.\\n   - Do not perform grammar checks or corrections.\\n   \\n9) Explain step-by-step what you have done till now\\n'},\n",
       " {'role': 'system',\n",
       "  'content': '## RULES \\nMetadata: Metadata for each page, containing the division (if available) and page number.\\nDivision: The division is defined by a non-capitalized, bold, and larger font size. If unavailable, set to \"N/A\".\\n\\nPage: Page number, located at the top left or right. If unavailable, set to \"N/A\".\\nContents: A list of dictionaries containing each family\\'s name and species details.\\nFamilyname: The scientific family name in uppercase. If not available, set as \"N/A\".\\n\\nSpecies: A list of dictionaries for each species under the family, containing `speciesName` and `folders`.\\nSpeciesname: The full scientific name of the species as written in the image. No corrections.\\n\\nFolders: A list of dictionaries, each representing a folder with `description` and `citations`.\\nFolderno: The folder number, often represented as \"Folder, X.\" where X is the number. Folder number must be an integer.\\nDescription: A description of the folder contents, including location or collection details.\\n\\nNofamilyname: a list of dictionaries and text much like contents but for additional text that are found before the first family name.\\n\\n'},\n",
       " {'role': 'system',\n",
       "  'content': '## TEMPLATE \\n{\\n    \"metadata\": {\\n        \"division\": \"\", \\n        \"page\": \"\"\\n    },\\n    \"contents\": [ \\n        {\\n            \"familyName\": \"\", \\n            \"species\": [ \\n                {\\n                    \"speciesName\": \"\",\\n                    \"folders\": [ \\n                        {\\n                            folderNo: \"\",\\n                            \"description\": \"\"\\n                        },\\n                    ],\\n                },\\n            ]\\n        },\\n    ],\\n    \"noFamilyName\": [\\n        \"\", {\\n                    \"speciesName\": \"\",\\n                    \"folders\": [ \\n                        {\\n                            folderNo: \"\",\\n                            \"description\": \"\"\\n                        },\\n                    ],\\n                },\\n    ]\\n}\\n'},\n",
       " {'role': 'user',\n",
       "  'content': [{'type': 'image'},\n",
       "   {'type': 'text',\n",
       "    'text': 'Extract the text from the botanical catalogue. Format it into the given JSON structure.'}]}]"
      ]
     },
     "execution_count": 8,
     "metadata": {},
     "output_type": "execute_result"
    }
   ],
   "source": [
    "qwen_model.conversation"
   ]
  },
  {
   "cell_type": "code",
   "execution_count": 9,
   "id": "f28537e6-1bd3-4c1f-a9a2-312376a8592b",
   "metadata": {
    "scrolled": true
   },
   "outputs": [
    {
     "name": "stdout",
     "output_type": "stream",
     "text": [
      ">>> Using: \n",
      " \tMaximum new tokens = 1000000 \n",
      " \tBatch size = 1 \n",
      " \tsave_path = None\n",
      ">>> Batch 1 starting...\n",
      "\tProcessing text prompts...\n",
      "\tReading Images...\n",
      "\tProcessing inputs...\n",
      "\tMoving inputs to gpu...\n",
      "\tPerforming inference...\n",
      "\tInference Finished\n",
      "\tSeperating Ids...\n",
      "\tDecoding Ids...\n",
      "\tSeperating Outputs...\n",
      "\tOutputs stored!\n",
      ">>> Batch 2 starting...\n",
      "\tProcessing text prompts...\n",
      "\tReading Images...\n",
      "\tProcessing inputs...\n",
      "\tMoving inputs to gpu...\n",
      "\tPerforming inference...\n",
      "\tInference Finished\n",
      "\tSeperating Ids...\n",
      "\tDecoding Ids...\n",
      "\tSeperating Outputs...\n",
      "\tOutputs stored!\n",
      "CPU times: user 2min 26s, sys: 4.75 s, total: 2min 31s\n",
      "Wall time: 2min 49s\n"
     ]
    }
   ],
   "source": [
    "%%time\n",
    "outputs = qwen_model.batch_infer(images, save=False, debug=True)"
   ]
  },
  {
   "cell_type": "code",
   "execution_count": 12,
   "id": "4e3e81fb-08f6-43e4-b8e6-330fc04768e9",
   "metadata": {},
   "outputs": [],
   "source": [
    "out = outputs[0][1]"
   ]
  },
  {
   "cell_type": "code",
   "execution_count": 13,
   "id": "17cf6907-5f82-41be-b43d-c7ff43d7699e",
   "metadata": {},
   "outputs": [
    {
     "name": "stdout",
     "output_type": "stream",
     "text": [
      "```json\n",
      "{\n",
      "    \"metadata\": {\n",
      "        \"division\": \"Dicotyledones\",\n",
      "        \"page\": \"132\"\n",
      "    },\n",
      "    \"contents\": [\n",
      "        {\n",
      "            \"familyName\": \"Aceraceae\",\n",
      "            \"species\": [\n",
      "                {\n",
      "                    \"speciesName\": \"Acer campestre L.\",\n",
      "                    \"folders\": [\n",
      "                        {\n",
      "                            \"folderNo\": \"1\",\n",
      "                            \"description\": \"Acer campestre [TA]\"\n",
      "                        }\n",
      "                    ]\n",
      "                },\n",
      "                {\n",
      "                    \"speciesName\": \"Acer pseudoplatanus L.\",\n",
      "                    \"folders\": [\n",
      "                        {\n",
      "                            \"folderNo\": \"1\",\n",
      "                            \"description\": \"Acer Pseuodoplatanus [G]. i. \\\"Maple. Bulls: [Bulstrode] Park\\\" [JL]\"\n",
      "                        },\n",
      "                        {\n",
      "                            \"folderNo\": \"2\",\n",
      "                            \"description\": \"Acer Pseudo-Platanus [TA]\"\n",
      "                        }\n",
      "                    ]\n",
      "                }\n",
      "            ]\n",
      "        },\n",
      "        {\n",
      "            \"familyName\": \"Amaranthaceae\",\n",
      "            \"species\": [\n",
      "                {\n",
      "                    \"speciesName\": \"Amaranthus lividus L., Flora Europaea 1: 110 (1964\",\n",
      "                    \"folders\": [\n",
      "                        {\n",
      "                            \"folderNo\": \"1\",\n",
      "                            \"description\": \"Amaranthus Blitum [TA]. i. Cites Ray's Syn. 1957. ii. \\\"Blite Amaranth. Aug.\\\" It is often found on Dunghills in the neighbourhood of London. I gather'd this on a Dunghill at Fulham near London\\\" [JL]. iii. \\\"Amaranthus Blitum. Monoec: 5. and:\\\" [JL]\"\n",
      "                        }\n",
      "                    ]\n",
      "                }\n",
      "            ]\n",
      "        },\n",
      "        {\n",
      "            \"familyName\": \"A family name is uppercase\",\n",
      "            \"species\": [\n",
      "                {\n",
      "                    \"speciesName\": \"A species name in italics and followed by an author abbreviation\",\n",
      "                    \"folders\": [\n",
      "                        {\n",
      "                            \"folderNo\": \"1\",\n",
      "                            \"description\": \"Folder 1. Lobelia Dortmannia [TA]. i. Cites Ray's Syn. 287. ii. \\\"Water Gladiole. July & August. In the Lakes of North Wales & Westmoreland\\\" [JL].\"\n",
      "                        },\n",
      "                        {\n",
      "                            \"folderNo\": \"2\",\n",
      "                            \"description\": \"Folder 2. Lobelia Dortmannia [G]. i. \\\"Lobel: Dortmannia from Anglesey\\\" [JL].\"\n",
      "                        }\n",
      "                    ]\n",
      "                }\n",
      "            ]\n",
      "        },\n",
      "        {\n",
      "            \"familyName\": \"Araliaceae\",\n",
      "            \"species\": [\n",
      "                {\n",
      "                    \"speciesName\": \"Hedera helix L.\",\n",
      "                    \"folders\": [\n",
      "                        {\n",
      "                            \"folderNo\": \"1\",\n",
      "                            \"description\": \"Hedera Helix [TA]\"\n",
      "                        }\n",
      "                    ]\n",
      "                }\n",
      "            ]\n",
      "        },\n",
      "        {\n",
      "            \"familyName\": \"Aristolochiaceae\",\n",
      "            \"species\": [\n",
      "                {\n",
      "                    \"speciesName\": \"Asarum europaeum L.\",\n",
      "                    \"folders\": [\n",
      "                        {\n",
      "                            \"folderNo\": \"1\",\n",
      "                            \"description\": \"Asarum europaeum [TA]. i. \\\"Asarum europaeum Lin: Asarabacca. Anglis. ex horto\\\" [JL]\"\n",
      "                        }\n",
      "                    ]\n",
      "                }\n",
      "            ]\n",
      "        },\n",
      "        {\n",
      "            \"familyName\": \"Balsaminaceae\",\n",
      "            \"species\": [\n",
      "                {\n",
      "                    \"speciesName\": \"Impatiens noli-tangere L.\",\n",
      "                    \"folders\": [\n",
      "                        {\n",
      "                            \"folderNo\": \"1 folderNo\",\n",
      "                            \"description\": \"Folder 1 description\"\n",
      "                        }\n",
      "                    ]\n",
      "                }\n",
      "            ]\n",
      "        },\n",
      "        {\n",
      "            \"familyName\": \"Betulaceae\",\n",
      "            \"species\": [\n",
      "                {\n",
      "                    \"speciesName\": \"Alnus glutinosa (L.) Gaertn.\",\n",
      "                    \"folders\": [\n",
      "                        {\n",
      "                            \"folderNo\": \"1 folderNo\",\n",
      "                            \"description\": \"Folder  description\"\n",
      "                        }\n",
      "                    ]\n",
      "                },\n",
      "                {\n",
      "                    \"speciesName\": \"Betula nana L.\",\n",
      "                    \"folders\": [\n",
      "                        {\n",
      "                            \"folderNo\": \"1\",\n",
      "                            \"description\": \"Betula nana [G]\"\n",
      "                        }\n",
      "                    ]\n",
      "                }\n",
      "            ]\n",
      "        },\n",
      "        {\n",
      "            \"familyName\": \"Campanulaceae\",\n",
      "            \"species\": [\n",
      "                {\n",
      "                    \"speciesName\": \"Campanula latifolia L.\",\n",
      "                    \"folders\": [\n",
      "                        {\n",
      "                            \"folderNo\": \"1\",\n",
      "                            \"description\": \"Folder 1. Companula latifolia [TA].\"\n",
      "                        },\n",
      "                        {\n",
      "                            \"folderNo\": \"2\",\n",
      "                            \"description\": \"Folder 2. Companula latifolia [G].\"\n",
      "                        }\n",
      "                    ]\n",
      "                },\n",
      "                {\n",
      "                    \"speciesName\": \"Campanula patula L.\",\n",
      "                    \"folders\": [\n",
      "                        {\n",
      "                            \"folderNo\": \"1 folderNo\",\n",
      "                            \"description\": \"Folder  description\"\n",
      "                        }\n",
      "                    ]\n",
      "                },\n",
      "                {\n",
      "                    \"speciesName\": \"Campanula rapunculus L.\",\n",
      "                    \"folders\": [\n",
      "                        {\n",
      "                            \"folderNo\": \"1 folderNo\",\n",
      "                            \"description\": \"Folder  description\"\n",
      "                        }\n",
      "                    ]\n",
      "                }\n",
      "            ]\n",
      "        },\n",
      "        {\n",
      "            \"familyName\": \"Phyteuma tenerum R.Schulz\",\n",
      "            \"species\": [\n",
      "                {\n",
      "                    \"speciesName\": \"Phyteuma orbicularis [TA].\",\n",
      "                    \"folders\": [\n",
      "                        {\n",
      "                            \"folderNo\": \"1 folderNo\",\n",
      "                            \"description\": \"Folder  description\"\n",
      "                        }\n",
      "                    ]\n",
      "                }\n",
      "            ]\n",
      "        },\n",
      "        {\n",
      "            \"familyName\": \"Wahlenbergia hederacea (L.) Reichb.\",\n",
      "            \"species\": [\n",
      "                {\n",
      "                    \"speciesName\": \"Wahlenbergia hederacea [TA]. i. \\\"Carmathenshire\\\" [JL].\",\n",
      "                    \"folders\": [\n",
      "                        {\n",
      "                            \"folderNo\": \"1\",\n",
      "                            \"description\": \"Folder 1 description\"\n",
      "                        }\n",
      "                    ]\n",
      "                }\n",
      "            ]\n",
      "        }\n",
      "    ],\n",
      "    \"noFamilyName\": [\n",
      "        {\n",
      "            \"speciesName\": \"Acer campestre L.\",\n",
      "            \"folders\": [\n",
      "                {\n",
      "                    \"folderNo\": \"1\",\n",
      "                    \"description\": \"Acer campestre [TA]\"\n",
      "                }\n",
      "            ]\n",
      "        },\n",
      "        {\n",
      "            \"speciesName\": \"Acer pseudoplatanus L.\",\n",
      "            \"folders\": [\n",
      "                {\n",
      "                    \"folderNo\": \"1\",\n",
      "                    \"description\": \"Acer pseuodoplatanus [G]. i. \\\"Maple. Bulls: [Bulstrode] Park\\\" [JL]\"\n",
      "                },\n",
      "                {\n",
      "                    \"folderNo\": \"2\",\n",
      "                    \"description\": \"Acer Pseudo-Platanus [TA]\"\n",
      "                }\n",
      "            ]\n",
      "        }\n",
      "    ]\n",
      "}\n",
      "```\n"
     ]
    }
   ],
   "source": [
    "print(out)"
   ]
  },
  {
   "cell_type": "code",
   "execution_count": null,
   "id": "7cfdc34d-554f-45dc-87c1-2466dae5ded7",
   "metadata": {},
   "outputs": [],
   "source": []
  }
 ],
 "metadata": {
  "kernelspec": {
   "display_name": "Python 3 (ipykernel)",
   "language": "python",
   "name": "python3"
  },
  "language_info": {
   "codemirror_mode": {
    "name": "ipython",
    "version": 3
   },
   "file_extension": ".py",
   "mimetype": "text/x-python",
   "name": "python",
   "nbconvert_exporter": "python",
   "pygments_lexer": "ipython3",
   "version": "3.12.6"
  }
 },
 "nbformat": 4,
 "nbformat_minor": 5
}
