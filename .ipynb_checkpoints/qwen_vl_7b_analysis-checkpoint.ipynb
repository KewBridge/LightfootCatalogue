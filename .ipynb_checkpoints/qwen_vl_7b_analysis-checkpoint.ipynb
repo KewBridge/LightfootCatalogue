{
 "cells": [
  {
   "cell_type": "code",
   "execution_count": 1,
   "id": "32d8a20c-e910-437f-ad67-55076c27a9c3",
   "metadata": {},
   "outputs": [],
   "source": [
    "import os\n",
    "\n",
    "os.environ[\"PYTORCH_CUDA_ALLOC_CONF\"] = \"expandable_segments:True\""
   ]
  },
  {
   "cell_type": "code",
   "execution_count": 2,
   "id": "cd34f5dc-d941-4c56-b625-f3562cca9ab0",
   "metadata": {},
   "outputs": [
    {
     "name": "stdout",
     "output_type": "stream",
     "text": [
      "CPU times: user 558 ms, sys: 315 ms, total: 874 ms\n",
      "Wall time: 8.42 s\n"
     ]
    }
   ],
   "source": [
    "%%time\n",
    "import json\n",
    "import pandas as pd\n",
    "import numpy as np\n",
    "import cv2\n",
    "from PIL import Image\n",
    "#from tesserocr import PyTessBaseAPI, PSM, RIL, PT\n",
    "import matplotlib.pyplot as plt"
   ]
  },
  {
   "cell_type": "code",
   "execution_count": 3,
   "id": "293f0b15-241f-4e92-808c-4cfba8f6fd61",
   "metadata": {},
   "outputs": [
    {
     "name": "stderr",
     "output_type": "stream",
     "text": [
      "/mnt/shared/scratch/ikarunak/apps/conda/envs/lightfootcat/lib/python3.12/site-packages/tqdm/auto.py:21: TqdmWarning: IProgress not found. Please update jupyter and ipywidgets. See https://ipywidgets.readthedocs.io/en/stable/user_install.html\n",
      "  from .autonotebook import tqdm as notebook_tqdm\n"
     ]
    },
    {
     "name": "stdout",
     "output_type": "stream",
     "text": [
      "CPU times: user 1.89 s, sys: 1.05 s, total: 2.94 s\n",
      "Wall time: 20.8 s\n"
     ]
    }
   ],
   "source": [
    "%%time\n",
    "import lib.utils as utils\n",
    "import lib.config as config\n",
    "import lib.model as model\n",
    "import lib.roi as roi\n",
    "import lib.split_pages as spages\n",
    "import lib.utils as utils"
   ]
  },
  {
   "cell_type": "code",
   "execution_count": 4,
   "id": "c1ff61ac-acfe-4528-b22f-17f2d926363a",
   "metadata": {},
   "outputs": [],
   "source": [
    "image_path = \"images/cropped/The_Lightfoot_Herbarium_05_cropped_1.jpg\"\n",
    "image_dir = \"images/cropped/\""
   ]
  },
  {
   "cell_type": "code",
   "execution_count": 5,
   "id": "6d86f2b6-6f64-498a-b392-20f878d09fbc",
   "metadata": {},
   "outputs": [],
   "source": [
    "images = sorted(utils.load_images(image_dir))[:4]"
   ]
  },
  {
   "cell_type": "code",
   "execution_count": 6,
   "id": "1aa5c4d7-91ce-4656-bffd-dfc3a07ce519",
   "metadata": {},
   "outputs": [],
   "source": [
    "newprompt = \"\"\"\n",
    "The input image contains a cropped image of a botanical catalogue listing the contents of folders sorted and listed in taxonomic order.\n",
    "These information are splitted into columns in each page.\n",
    "The image provides the division name, family name, species name and their folders' contents. \n",
    "---\n",
    "An example of the provided format is:\n",
    "\n",
    "Dicotyledones\n",
    "ACERACEAE\n",
    "Acer campestre L.\n",
    "1 folder. Acer campestre [TA]\n",
    "Acer pseudoplatanus L.\n",
    "2 folders.\n",
    "Folder 1. Acer Pseudo-Platanus\n",
    "[G]. i. \"Maple. Bulls: [Bulstrode]\n",
    "Park\" [JL]\n",
    "Folder 2. Acer Pseudo-Platanus\n",
    "[TA].\n",
    "AMARANTHACEAE\n",
    "Amaranthus lividus L. Flora Europaea 1: 110 (1964)\n",
    "1 folder. Amaranthus Blitum [TA].\n",
    "i. Cities Ray's Syn. 1957. ii. \"Blite \n",
    "Amaranth. Aug. It is often found\n",
    "on Dunghills in the neighbourhood\n",
    "of London. I gather'd this on a\n",
    "Dunghill at Fulham near London\"\n",
    "[JL]. iii. \"Amaranthus Blitum.\n",
    "Monoec: 5. and:\" [JL]\n",
    "---\n",
    "\n",
    "where divison names are characterised by large bold words; family names as captial words; species names as italic words.\n",
    "The list of contents under each species lists the number of folders first and then their content. \n",
    "When more than one folder is provided roman (like i, ii, iii) are used to differentiate the folders.\n",
    "Furthermore, for each collection the collectors initials are also cited using square brackets '[]'.\n",
    "\n",
    "In some cases, the input image provided contains folder information from previously provided images and thus these information had continued from the last page.\n",
    "\n",
    "---\n",
    "Example of output lists of JSON dicts\n",
    "\n",
    "[\n",
    "{\n",
    "'division':'Dicotyledones'\n",
    "'contents': [{'family'='ACERACEAE', contents=[{'species'='Acer campestre L.', folders=[{'folder'=1, 'content'='Acer campestre [TA]'}]}, \n",
    "                                              {'species'='Acer pseudoplatanus L.', folders=[{'folder'=1, 'content'='Acer Pseudo-Platanus [G]. i. \"Maple. Bulls: [Bulstrode] Park\" [JL]'},\n",
    "                                              {'folder'=2, 'content'='Acer Pseudo-Platanus [TA]'}]}]\n",
    "},{'family'='AMARANTHACEAE', contents=[{'species'='Amaranthus lividus L. Flora Europaea 1: 110 (1964)', folders=[{'folder'=1, 'content'='Amaranthus Blitum [TA].\n",
    "i. Cities Ray's Syn. 1957. ii. \"Blite \n",
    "Amaranth. Aug. It is often found\n",
    "on Dunghills in the neighbourhood\n",
    "of London. I gather'd this on a\n",
    "Dunghill at Fulham near London\"\n",
    "[JL]. iii. \"Amaranthus Blitum.\n",
    "Monoec: 5. and:\" [JL]'}]}, ]}\n",
    "\n",
    "]}\n",
    "\n",
    "---\n",
    "\n",
    "\n",
    "Process the image using the following steps to generate a JSON file that supports the above provided structure\n",
    "\n",
    "1. Create a list of JSON files\n",
    "2. Find the division name where possible, if not available set as 'N/A'.\n",
    "3. Under the division, create a contents lists\n",
    "4. For each family name under division name create a JSON dict and add it to the list\n",
    "5. Under each family name find the species name and thier folder contents and add them to the list\n",
    "6. Where appropriate if a value for a specific key cannot be found, set it as 'N/A'\n",
    "7. In cases where extra text is provided before Division name, family names or species name, consider the division, family or species name as 'Extra info'\n",
    "\n",
    "Compile these information into a list of JSON dicts and return the list. Please output this list of JSON dicts and not the example. \n",
    "The example (denoted between --- and ---) is only to be used as a template for the structure of the JSON format.\n",
    "\n",
    "\n",
    "Family names are characterised by captial words whilst species names are characterised by italic words.\n",
    "The list of contents under each species lists the number of folders first and then their content. \n",
    "Furthermore, for each collection the collectors initials are also cited using square brackets '[]'.\n",
    "\"\"\""
   ]
  },
  {
   "cell_type": "code",
   "execution_count": 7,
   "id": "b20f04ac-20dd-4ae0-ad49-515cc325bad3",
   "metadata": {},
   "outputs": [],
   "source": [
    "simple_prompt = \"\"\"\n",
    "The input image contains a cropped image of a botanical catalogue listing the contents of folders sorted and listed in taxonomic order.\n",
    "The image provides the family name, species name and their folders' contents. \n",
    "The input image may rarely include big bold titles that should be ignored in this context.\n",
    "\n",
    "The input image can either start with a new species and its contents or be a continuation from another species.\n",
    "\n",
    "Is this image a continuation or a new species?\n",
    "\"\"\""
   ]
  },
  {
   "cell_type": "code",
   "execution_count": 8,
   "id": "c5df0930-6a4b-4cab-a10f-d578ee921b14",
   "metadata": {},
   "outputs": [
    {
     "name": "stderr",
     "output_type": "stream",
     "text": [
      "`Qwen2VLRotaryEmbedding` can now be fully parameterized by passing the model config through the `config` argument. All other arguments will be removed in v4.46\n",
      "Loading checkpoint shards: 100%|█████████████████████████████████████████████████████████████████████████████████████████████████████████████| 5/5 [00:44<00:00,  8.81s/it]\n"
     ]
    },
    {
     "name": "stdout",
     "output_type": "stream",
     "text": [
      "CPU times: user 2.87 s, sys: 11.2 s, total: 14.1 s\n",
      "Wall time: 47.6 s\n"
     ]
    }
   ],
   "source": [
    "%%time\n",
    "qwen_model = model.QWEN_Model(prompt=simple_prompt, max_new_tokens = 5000, batch_size=1)"
   ]
  },
  {
   "cell_type": "code",
   "execution_count": 9,
   "id": "f28537e6-1bd3-4c1f-a9a2-312376a8592b",
   "metadata": {
    "scrolled": true
   },
   "outputs": [
    {
     "name": "stdout",
     "output_type": "stream",
     "text": [
      ">>> Using: \n",
      " \tMaximum new tokens = 5000 \n",
      " \tBatch size = 1 \n",
      " \tsave_path = None\n",
      ">>> Batch 1 starting...\n",
      "\tProcessing text prompts...\n",
      "\tReading Images...\n",
      "\tProcessing inputs...\n",
      "\tMoving inputs to gpu...\n",
      "\tPerforming inference...\n",
      "\tInference Finished\n",
      "\tSeperating Ids...\n",
      "\tDecoding Ids...\n",
      "\tSeperating Outputs...\n",
      "\tOutputs stored!\n",
      ">>> Batch 2 starting...\n",
      "\tProcessing text prompts...\n",
      "\tReading Images...\n",
      "\tProcessing inputs...\n",
      "\tMoving inputs to gpu...\n",
      "\tPerforming inference...\n",
      "\tInference Finished\n",
      "\tSeperating Ids...\n",
      "\tDecoding Ids...\n",
      "\tSeperating Outputs...\n",
      "\tOutputs stored!\n",
      ">>> Batch 3 starting...\n",
      "\tProcessing text prompts...\n",
      "\tReading Images...\n",
      "\tProcessing inputs...\n",
      "\tMoving inputs to gpu...\n",
      "\tPerforming inference...\n",
      "\tInference Finished\n",
      "\tSeperating Ids...\n",
      "\tDecoding Ids...\n",
      "\tSeperating Outputs...\n",
      "\tOutputs stored!\n",
      ">>> Batch 4 starting...\n",
      "\tProcessing text prompts...\n",
      "\tReading Images...\n",
      "\tProcessing inputs...\n",
      "\tMoving inputs to gpu...\n",
      "\tPerforming inference...\n",
      "\tInference Finished\n",
      "\tSeperating Ids...\n",
      "\tDecoding Ids...\n",
      "\tSeperating Outputs...\n",
      "\tOutputs stored!\n",
      "CPU times: user 59.8 s, sys: 8.07 s, total: 1min 7s\n",
      "Wall time: 1min 18s\n"
     ]
    }
   ],
   "source": [
    "%%time\n",
    "outputs = qwen_model.batch_infer(images, save=False, debug=True)"
   ]
  },
  {
   "cell_type": "code",
   "execution_count": 10,
   "id": "ea618094-015d-424c-87a3-3c0ef75a7396",
   "metadata": {},
   "outputs": [
    {
     "data": {
      "text/plain": [
       "[('images/cropped/The_Lightfoot_Herbarium_05_cropped_1.jpg',\n",
       "  'This image is a continuation from another species.'),\n",
       " ('images/cropped/The_Lightfoot_Herbarium_05_cropped_2.jpg',\n",
       "  'This image is a continuation from another species.'),\n",
       " ('images/cropped/The_Lightfoot_Herbarium_06_cropped_1.jpg',\n",
       "  'This image is a continuation from another species.'),\n",
       " ('images/cropped/The_Lightfoot_Herbarium_06_cropped_2.jpg',\n",
       "  'This image is a continuation from another species.')]"
      ]
     },
     "execution_count": 10,
     "metadata": {},
     "output_type": "execute_result"
    }
   ],
   "source": [
    "outputs"
   ]
  },
  {
   "cell_type": "code",
   "execution_count": 11,
   "id": "4e3e81fb-08f6-43e4-b8e6-330fc04768e9",
   "metadata": {},
   "outputs": [],
   "source": [
    "out = outputs[1][1]"
   ]
  },
  {
   "cell_type": "code",
   "execution_count": 12,
   "id": "17cf6907-5f82-41be-b43d-c7ff43d7699e",
   "metadata": {},
   "outputs": [
    {
     "name": "stdout",
     "output_type": "stream",
     "text": [
      "This image is a continuation from another species.\n"
     ]
    }
   ],
   "source": [
    "print(out)"
   ]
  },
  {
   "cell_type": "code",
   "execution_count": 13,
   "id": "f7fe58d9-d3b8-45f1-bf81-96c5d577541a",
   "metadata": {},
   "outputs": [],
   "source": [
    "# Define the JSON format and the keys\n",
    "# Define the rules for each key\n",
    "# Define the structure of the JSON format\n",
    "# Write instructions to the system prompt\n",
    "# Teach the system prompt"
   ]
  },
  {
   "cell_type": "code",
   "execution_count": null,
   "id": "0e1df606-1e79-42e4-a65d-efcbc5c31634",
   "metadata": {},
   "outputs": [],
   "source": []
  }
 ],
 "metadata": {
  "kernelspec": {
   "display_name": "Python 3 (ipykernel)",
   "language": "python",
   "name": "python3"
  },
  "language_info": {
   "codemirror_mode": {
    "name": "ipython",
    "version": 3
   },
   "file_extension": ".py",
   "mimetype": "text/x-python",
   "name": "python",
   "nbconvert_exporter": "python",
   "pygments_lexer": "ipython3",
   "version": "3.12.6"
  }
 },
 "nbformat": 4,
 "nbformat_minor": 5
}
