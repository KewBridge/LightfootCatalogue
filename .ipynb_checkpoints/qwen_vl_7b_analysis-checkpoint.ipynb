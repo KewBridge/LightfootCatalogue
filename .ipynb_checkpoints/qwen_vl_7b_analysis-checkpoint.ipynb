{
 "cells": [
  {
   "cell_type": "code",
   "execution_count": 24,
   "id": "cd34f5dc-d941-4c56-b625-f3562cca9ab0",
   "metadata": {},
   "outputs": [],
   "source": [
    "import json\n",
    "import pandas as pd\n",
    "import numpy as np"
   ]
  },
  {
   "cell_type": "code",
   "execution_count": 65,
   "id": "1321752a-ce7b-4699-b71c-8c50bebdca3f",
   "metadata": {},
   "outputs": [],
   "source": [
    "with open(\"./sample-images/text_files/pg133.json\", \"r\") as file_:\n",
    "    json_file = json.load(file_)"
   ]
  },
  {
   "cell_type": "code",
   "execution_count": 66,
   "id": "a4e4aa50-047a-45a1-80ee-2f2d56a0647a",
   "metadata": {},
   "outputs": [
    {
     "data": {
      "text/plain": [
       "{'Folder 2. Campanula hederacea [G]. i. \"Devon & Cornwall\" [JL]': {'Linnaea borealis L.': {'1 sheet': {'Linnaea borealis [JL]': {'Cites Linn. Sp. Pl. 631; Bauh. Pin. 93': '',\n",
       "     'This is a Native of Sweden, Siberia, Switzerland, Russia, Canada, & c. This Specimen was gathered & communicated by Jos: Banks Esqr. who discoverd it in Abundance in the Woods in Newfoundland [JL]': '',\n",
       "     'In ScotlandSee English Botany N.433 [? G]': ''}}},\n",
       "  'Lonicera periclymenum L.': {'1 folder': {'Lonicera periclymenum [TA]': ''}},\n",
       "  'Viburnum lantana L.': {'1 folder': {'Viburnum lantana [TA]': ''}},\n",
       "  'Viburnum opulus L.': {'1 folder': {'Viburnum opulus [TA]': ''}}},\n",
       " 'Caryophyllaceae': {'Arenaria serpyllifolia L.': {'1 folder': {'Arenaria Serpyllifolia [TA]': ''}},\n",
       "  'Bufonia tenuifolia L., Flora Europaea 1: 133 (1964)': {'1 folder': {'Bufonia Tenuifolia [TA]': ''}},\n",
       "  'Cerastium alpinum L.': {'2 folders': {'Folder 1. Cerastium latifolium [G]': {'i. Cites Rays Syn. 349': '',\n",
       "     'ii. \"Cerastium alpinum. This was gathered upon Snowdon at the top of the highest Rock calld Clogwyn y Garnedh. June\" [JL]': '',\n",
       "     'iii. \"Top of Snowdon\" [JL]': '',\n",
       "     'iv. \"Dr. Solander affirms this to be the true Cerastium alpinum. I had it from Snowdon. He found it at Terra del Fuego & named it C. hirtum with a mark of Dubitation, but now thinks them both one\" [JL]': ''},\n",
       "    'Folder 2. Cerastium arvense [TA]; Cerastium latifolium [G]': {'i. \"Clogwyn d\" [JL]': '',\n",
       "     'ii. \"Cerast: alpin: Ben Lomond\" [JL]': ''}}},\n",
       "  'Cerastium arvense L.': {'2 folders': {'Folder 1. Cerastium arvense [TA]': {'i. \"Cerastium arvense. This must be right tho the leaves are hoary\" [JL]': '',\n",
       "     'ii. \"Cerastium arvense. Very common in Norfolk. Why does Lin. put the word glabris in his Specific Description in opposition to truth & the Testimony of all Authors\" [B]': ''},\n",
       "    'Folder 2. Cerastium arvense [G]': {'See also under C. arcticum Folder 1.': ''}}},\n",
       "  'Cerastium fontanum Baumg., subsp. triviale (Link) Jalas, Flora Europaea 1: 142 (1964)': {'1 sheet': {'Cerastium vulgaris [TA]; C. vulgatum Huds. and C. viscosum Linn. [G]': {'i. \"Pray inform me': ''}}}}}"
      ]
     },
     "execution_count": 66,
     "metadata": {},
     "output_type": "execute_result"
    }
   ],
   "source": [
    "json_file"
   ]
  },
  {
   "cell_type": "code",
   "execution_count": 67,
   "id": "926921a3-032d-4b06-b4bb-d629b1e24385",
   "metadata": {},
   "outputs": [],
   "source": [
    "tabular = pd.DataFrame(columns=[\"family\", \"species\", \"folder\", \"contents\"])\n"
   ]
  },
  {
   "cell_type": "code",
   "execution_count": 68,
   "id": "d1ce5346-997f-4304-88a1-899a2ab7e6a2",
   "metadata": {},
   "outputs": [
    {
     "name": "stdout",
     "output_type": "stream",
     "text": [
      "{'1 sheet': {'Linnaea borealis [JL]': {'Cites Linn. Sp. Pl. 631; Bauh. Pin. 93': '', 'This is a Native of Sweden, Siberia, Switzerland, Russia, Canada, & c. This Specimen was gathered & communicated by Jos: Banks Esqr. who discoverd it in Abundance in the Woods in Newfoundland [JL]': '', 'In ScotlandSee English Botany N.433 [? G]': ''}}}\n"
     ]
    },
    {
     "ename": "KeyError",
     "evalue": "'folder_contents'",
     "output_type": "error",
     "traceback": [
      "\u001b[0;31m---------------------------------------------------------------------------\u001b[0m",
      "\u001b[0;31mKeyError\u001b[0m                                  Traceback (most recent call last)",
      "File \u001b[0;32m<timed exec>:4\u001b[0m\n",
      "\u001b[0;31mKeyError\u001b[0m: 'folder_contents'"
     ]
    }
   ],
   "source": [
    "%%time\n",
    "for family, f_val in json_file.items():\n",
    "    for species, s_val in f_val.items():\n",
    "        print(s_val)\n",
    "        for folder_name in s_val['folder_contents']:\n",
    "            if isinstance(folder_name, str):\n",
    "                tabular.loc[len(tabular)] = [family, species, folder_name, None]\n",
    "            else:\n",
    "                if \"contents\" in folder_name:\n",
    "                    for content in folder_name['contents']:\n",
    "                        tabular.loc[len(tabular)] = [family, species, folder_name['folder'], content]\n",
    "                else:\n",
    "                    tabular.loc[len(tabular)] = [family, species, folder_name['folder'], None]\n",
    "\n",
    "            if \"contents\" in s_val and tabular.loc[len(tabular)-1][\"contents\"] is None:\n",
    "                tabular.loc[len(tabular)-1, \"contents\"] = s_val[\"contents\"][0]\n",
    "                                \n",
    "\n",
    "            "
   ]
  },
  {
   "cell_type": "code",
   "execution_count": 62,
   "id": "e0b84e75-3c2b-4ec8-a3dd-83fe29d1f914",
   "metadata": {},
   "outputs": [
    {
     "data": {
      "text/html": [
       "<div>\n",
       "<style scoped>\n",
       "    .dataframe tbody tr th:only-of-type {\n",
       "        vertical-align: middle;\n",
       "    }\n",
       "\n",
       "    .dataframe tbody tr th {\n",
       "        vertical-align: top;\n",
       "    }\n",
       "\n",
       "    .dataframe thead th {\n",
       "        text-align: right;\n",
       "    }\n",
       "</style>\n",
       "<table border=\"1\" class=\"dataframe\">\n",
       "  <thead>\n",
       "    <tr style=\"text-align: right;\">\n",
       "      <th></th>\n",
       "      <th>family</th>\n",
       "      <th>species</th>\n",
       "      <th>folder</th>\n",
       "      <th>contents</th>\n",
       "    </tr>\n",
       "  </thead>\n",
       "  <tbody>\n",
       "    <tr>\n",
       "      <th>0</th>\n",
       "      <td>ACERACEAE</td>\n",
       "      <td>Acer campestre L.</td>\n",
       "      <td>Acer campestre [TA]</td>\n",
       "      <td>None</td>\n",
       "    </tr>\n",
       "    <tr>\n",
       "      <th>1</th>\n",
       "      <td>ACERACEAE</td>\n",
       "      <td>Acer pseudoplatanus L.</td>\n",
       "      <td>Acer Pseudo-Platanus [G]</td>\n",
       "      <td>Maple. Bulls: [Bulstrode] Park [JL]</td>\n",
       "    </tr>\n",
       "    <tr>\n",
       "      <th>2</th>\n",
       "      <td>ACERACEAE</td>\n",
       "      <td>Acer pseudoplatanus L.</td>\n",
       "      <td>Acer Pseudo-Platanus [TA]</td>\n",
       "      <td>None</td>\n",
       "    </tr>\n",
       "    <tr>\n",
       "      <th>3</th>\n",
       "      <td>AMARANTHACEAE</td>\n",
       "      <td>Amaranthus lividus L., Flora Europaea 1: 110 (...</td>\n",
       "      <td>Amaranthus Blitum [TA]</td>\n",
       "      <td>Cites Ray's Syn. 1957. ii. 'Blite Amaranth. Au...</td>\n",
       "    </tr>\n",
       "    <tr>\n",
       "      <th>4</th>\n",
       "      <td>ARALIACEAE</td>\n",
       "      <td>Hedera helix L.</td>\n",
       "      <td>Hedera Helix [TA]</td>\n",
       "      <td>None</td>\n",
       "    </tr>\n",
       "    <tr>\n",
       "      <th>5</th>\n",
       "      <td>ARISTOLOCHIACEAE</td>\n",
       "      <td>Asarum europaeum L.</td>\n",
       "      <td>Asarum europaeum [TA]</td>\n",
       "      <td>Asarum europaeum Lin: Asarabacca. Anglis. ex h...</td>\n",
       "    </tr>\n",
       "    <tr>\n",
       "      <th>6</th>\n",
       "      <td>BALSAMINACEAE</td>\n",
       "      <td>Impatiens noli-tangere L.</td>\n",
       "      <td>Impatiens Noli me tangere [G]</td>\n",
       "      <td>None</td>\n",
       "    </tr>\n",
       "    <tr>\n",
       "      <th>7</th>\n",
       "      <td>BETULACEAE</td>\n",
       "      <td>Alnus glutinosa (L.) Gaertn.</td>\n",
       "      <td>Betula Alnus [TA]</td>\n",
       "      <td>None</td>\n",
       "    </tr>\n",
       "    <tr>\n",
       "      <th>8</th>\n",
       "      <td>BETULACEAE</td>\n",
       "      <td>Betula nana L.</td>\n",
       "      <td>Betula nana [G]</td>\n",
       "      <td>None</td>\n",
       "    </tr>\n",
       "    <tr>\n",
       "      <th>9</th>\n",
       "      <td>CAMANULACEAE</td>\n",
       "      <td>Campanula latifolia L.</td>\n",
       "      <td>Companula latifolia [TA]</td>\n",
       "      <td>None</td>\n",
       "    </tr>\n",
       "    <tr>\n",
       "      <th>10</th>\n",
       "      <td>CAMANULACEAE</td>\n",
       "      <td>Campanula latifolia L.</td>\n",
       "      <td>Companula latifolia [G]</td>\n",
       "      <td>None</td>\n",
       "    </tr>\n",
       "    <tr>\n",
       "      <th>11</th>\n",
       "      <td>CAMANULACEAE</td>\n",
       "      <td>Campanula patula L.</td>\n",
       "      <td>Campanula patula [TA]</td>\n",
       "      <td>None</td>\n",
       "    </tr>\n",
       "    <tr>\n",
       "      <th>12</th>\n",
       "      <td>CAMANULACEAE</td>\n",
       "      <td>Campanula rapunculus L.</td>\n",
       "      <td>Campanula rapunculus [TA]</td>\n",
       "      <td>None</td>\n",
       "    </tr>\n",
       "  </tbody>\n",
       "</table>\n",
       "</div>"
      ],
      "text/plain": [
       "              family                                            species  \\\n",
       "0          ACERACEAE                                  Acer campestre L.   \n",
       "1          ACERACEAE                             Acer pseudoplatanus L.   \n",
       "2          ACERACEAE                             Acer pseudoplatanus L.   \n",
       "3      AMARANTHACEAE  Amaranthus lividus L., Flora Europaea 1: 110 (...   \n",
       "4         ARALIACEAE                                    Hedera helix L.   \n",
       "5   ARISTOLOCHIACEAE                                Asarum europaeum L.   \n",
       "6      BALSAMINACEAE                          Impatiens noli-tangere L.   \n",
       "7         BETULACEAE                       Alnus glutinosa (L.) Gaertn.   \n",
       "8         BETULACEAE                                     Betula nana L.   \n",
       "9       CAMANULACEAE                             Campanula latifolia L.   \n",
       "10      CAMANULACEAE                             Campanula latifolia L.   \n",
       "11      CAMANULACEAE                                Campanula patula L.   \n",
       "12      CAMANULACEAE                            Campanula rapunculus L.   \n",
       "\n",
       "                           folder  \\\n",
       "0             Acer campestre [TA]   \n",
       "1        Acer Pseudo-Platanus [G]   \n",
       "2       Acer Pseudo-Platanus [TA]   \n",
       "3          Amaranthus Blitum [TA]   \n",
       "4               Hedera Helix [TA]   \n",
       "5           Asarum europaeum [TA]   \n",
       "6   Impatiens Noli me tangere [G]   \n",
       "7               Betula Alnus [TA]   \n",
       "8                 Betula nana [G]   \n",
       "9        Companula latifolia [TA]   \n",
       "10        Companula latifolia [G]   \n",
       "11          Campanula patula [TA]   \n",
       "12      Campanula rapunculus [TA]   \n",
       "\n",
       "                                             contents  \n",
       "0                                                None  \n",
       "1                 Maple. Bulls: [Bulstrode] Park [JL]  \n",
       "2                                                None  \n",
       "3   Cites Ray's Syn. 1957. ii. 'Blite Amaranth. Au...  \n",
       "4                                                None  \n",
       "5   Asarum europaeum Lin: Asarabacca. Anglis. ex h...  \n",
       "6                                                None  \n",
       "7                                                None  \n",
       "8                                                None  \n",
       "9                                                None  \n",
       "10                                               None  \n",
       "11                                               None  \n",
       "12                                               None  "
      ]
     },
     "execution_count": 62,
     "metadata": {},
     "output_type": "execute_result"
    }
   ],
   "source": [
    "tabular"
   ]
  },
  {
   "cell_type": "code",
   "execution_count": 56,
   "id": "33adfd61-66f5-4578-95e8-3d4ca3f96dda",
   "metadata": {},
   "outputs": [],
   "source": [
    "tabular.loc[3]['contents']"
   ]
  },
  {
   "cell_type": "code",
   "execution_count": 70,
   "id": "67ae3e4a-9961-44ed-8b8d-bafc2277085a",
   "metadata": {},
   "outputs": [
    {
     "name": "stdout",
     "output_type": "stream",
     "text": [
      "Traceback (most recent call last):\n",
      "  File \"/mnt/shared/projects/rbgk/projects/lightfootcatalogue/LightfootCatalogue/run.py\", line 5, in <module>\n",
      "    import lib.utils as utils\n",
      "  File \"/mnt/shared/projects/rbgk/projects/lightfootcatalogue/LightfootCatalogue/lib/utils.py\", line 68\n",
      "    except:\n",
      "    ^^^^^^\n",
      "SyntaxError: invalid syntax\n"
     ]
    }
   ],
   "source": [
    "!python run.py \"./sample-images\""
   ]
  },
  {
   "cell_type": "code",
   "execution_count": null,
   "id": "90d272c3-4010-41a7-a955-a2815e90de2f",
   "metadata": {},
   "outputs": [],
   "source": []
  }
 ],
 "metadata": {
  "kernelspec": {
   "display_name": "Python 3 (ipykernel)",
   "language": "python",
   "name": "python3"
  },
  "language_info": {
   "codemirror_mode": {
    "name": "ipython",
    "version": 3
   },
   "file_extension": ".py",
   "mimetype": "text/x-python",
   "name": "python",
   "nbconvert_exporter": "python",
   "pygments_lexer": "ipython3",
   "version": "3.12.6"
  }
 },
 "nbformat": 4,
 "nbformat_minor": 5
}
