{
 "cells": [
  {
   "cell_type": "code",
   "execution_count": null,
   "id": "32d8a20c-e910-437f-ad67-55076c27a9c3",
   "metadata": {},
   "outputs": [],
   "source": [
    "import os\n",
    "\\\n",
    "os.environ[\"PYTORCH_CUDA_ALLOC_CONF\"] = \"expandable_segments:True\"\n",
    "os.environ[\"TORCH_USE_CUDA_DSA\"] = \"1\"\n"
   ]
  },
  {
   "cell_type": "code",
   "execution_count": null,
   "id": "293f0b15-241f-4e92-808c-4cfba8f6fd61",
   "metadata": {},
   "outputs": [],
   "source": [
    "%%time\n",
    "import lib.utils.utils as utils\n",
    "from run import get_images\n",
    "#import lib.config as config\n",
    "from lib.model.base_model import BaseModel\n",
    "#import lib.roi as roi\n",
    "#import lib.split_pages as spages\n",
    "from lib.utils.promptLoader import PromptLoader"
   ]
  },
  {
   "cell_type": "code",
   "execution_count": null,
   "id": "c1ff61ac-acfe-4528-b22f-17f2d926363a",
   "metadata": {},
   "outputs": [],
   "source": [
    "image_path = \"images/cropped/The_Lightfoot_Herbarium_05_cropped_2.jpg\"\n",
    "image_dir = \"images/cropped/\"\n",
    "default_yaml = \"./prompts/default_v2.yaml\"\n",
    "conversation = None\n",
    "if default_yaml is None:\n",
    "     conversation = [dict(role=\"user\", content=[dict(type=\"image\"), \n",
    "                    dict(type=\"text\", \n",
    "                         text=\"Extract the text from both columns in the image, preserving the structure and formatting, ensure no grammatical correction is performed.\")])]"
   ]
  },
  {
   "cell_type": "code",
   "execution_count": null,
   "id": "930fe29a",
   "metadata": {},
   "outputs": [],
   "source": [
    "print(image_path)"
   ]
  },
  {
   "cell_type": "code",
   "execution_count": null,
   "id": "6d86f2b6-6f64-498a-b392-20f878d09fbc",
   "metadata": {},
   "outputs": [],
   "source": [
    "images = sorted(utils.load_images(image_dir))[:10]"
   ]
  },
  {
   "cell_type": "code",
   "execution_count": null,
   "id": "08981e56-48ba-45ad-b918-02db61c9ed0e",
   "metadata": {},
   "outputs": [],
   "source": [
    "images"
   ]
  },
  {
   "cell_type": "code",
   "execution_count": null,
   "id": "c5df0930-6a4b-4cab-a10f-d578ee921b14",
   "metadata": {},
   "outputs": [],
   "source": [
    "%%time\n",
    "model = BaseModel(\"qwen_model\", prompt=default_yaml, conversation=conversation, max_new_tokens = 100000, batch_size=1, temperature=0.4)"
   ]
  },
  {
   "cell_type": "code",
   "execution_count": null,
   "id": "7e825c61-4bf7-45bc-b0ab-718e1464f464",
   "metadata": {
    "scrolled": true
   },
   "outputs": [],
   "source": [
    "model.conversation"
   ]
  },
  {
   "cell_type": "code",
   "execution_count": null,
   "id": "f28537e6-1bd3-4c1f-a9a2-312376a8592b",
   "metadata": {
    "scrolled": true
   },
   "outputs": [],
   "source": [
    "%%time\n",
    "outputs = model(images, save=False, debug=True)"
   ]
  },
  {
   "cell_type": "code",
   "execution_count": null,
   "id": "4e3e81fb-08f6-43e4-b8e6-330fc04768e9",
   "metadata": {},
   "outputs": [],
   "source": [
    "image_name, out = outputs[3]"
   ]
  },
  {
   "cell_type": "code",
   "execution_count": null,
   "id": "17cf6907-5f82-41be-b43d-c7ff43d7699e",
   "metadata": {},
   "outputs": [],
   "source": [
    "print(image_name)\n",
    "print(\"=\"*10)\n",
    "print(out)"
   ]
  },
  {
   "cell_type": "code",
   "execution_count": null,
   "id": "70c1decb",
   "metadata": {},
   "outputs": [],
   "source": [
    "final_message = \"\\n\\n\".join([message for _, message in outputs])\n",
    "final_message += \"\\n\\nMonocotyledone\\n\\n Sup\"\n",
    "final_message += \"\\n\\nAlgae\\n\\n Hello World\"\n",
    "final_message += \"\\n\\nMonocotyledone\\n\\n Sup\""
   ]
  },
  {
   "cell_type": "code",
   "execution_count": null,
   "id": "e9807ca8",
   "metadata": {},
   "outputs": [],
   "source": [
    "print(final_message)"
   ]
  },
  {
   "cell_type": "code",
   "execution_count": null,
   "id": "c4fadd6c",
   "metadata": {},
   "outputs": [],
   "source": [
    "import re\n",
    "def clean_message(message):\n",
    "\n",
    "    result = re.sub(r\"\\*\\*(.+?)\\*\\*\", r\"\\1\", message, flags=re.MULTILINE) # Remove any markdown (bold) on strings\n",
    "    result = re.sub(r\"```\", \"\", result, flags=re.MULTILINE) # Remove any markdown\n",
    "    result = re.sub(r\"^Catalogue|catalogue$\", \"\", result, flags=re.MULTILINE) # Remove Catalogue/catalogue\n",
    "    result = re.sub(r\"^[0-9]+$\", \"\", result, flags=re.MULTILINE) # Remove page numbers\n",
    "    result = re.sub(r\"^John Lightfoot$\", \"\", result, flags=re.MULTILINE) # Remove John Lightfoot name if on its own\n",
    "    result = re.sub(r\"\\n{3,}\", \"\", result)\n",
    "    \n",
    "    return result\n",
    "\n",
    "def split_division(message, divisions=[\"Dicotyledones\", \"Monocotyledone\", \"Pteridophyta\", \"Hepaticae\", \"Algae\"]):\n",
    "\n",
    "    if divisions is None:\n",
    "        return [(\"MAIN\", message)]\n",
    "    \n",
    "    division_str = \"|\".join(divisions)\n",
    "    regex = re.compile(f\"({division_str})\")\n",
    "    result = re.split(regex, message)\n",
    "\n",
    "    result = list(filter(None,result))\n",
    "\n",
    "    return list(zip(result[::2], result[1::2]))\n",
    "\n",
    "def split_family(message):\n",
    "\n",
    "    regex = re.compile(\"\\n\\n(?=[A-Z ]+\\n)\")\n",
    "\n",
    "    result = re.split(regex, message)\n",
    "\n",
    "    return list(filter(None,result))\n",
    "\n",
    "def convertToTextBlocks(message, divisions=[\"Dicotyledones\", \"Monocotyledone\", \"Pteridophyta\", \"Hepaticae\", \"Algae\"]):\n",
    "\n",
    "    cleaned_message = clean_message(message)\n",
    "\n",
    "    division_splits = split_division(cleaned_message, divisions)\n",
    "\n",
    "    splits = {}\n",
    "\n",
    "    for division, division_text in division_splits:\n",
    "\n",
    "        if division in splits:\n",
    "            splits[division].extend(split_family(division_text))\n",
    "        else:\n",
    "            splits[division] = split_family(division_text)\n",
    "    \n",
    "    return splits\n"
   ]
  },
  {
   "cell_type": "code",
   "execution_count": null,
   "id": "abfbcbaa",
   "metadata": {},
   "outputs": [],
   "source": [
    "result = convertToTextBlocks(final_message)"
   ]
  },
  {
   "cell_type": "code",
   "execution_count": null,
   "id": "c889e723",
   "metadata": {},
   "outputs": [],
   "source": [
    "result"
   ]
  },
  {
   "cell_type": "code",
   "execution_count": null,
   "id": "bac0ccd8",
   "metadata": {},
   "outputs": [],
   "source": [
    "split_result"
   ]
  },
  {
   "cell_type": "code",
   "execution_count": null,
   "id": "87d81081",
   "metadata": {},
   "outputs": [],
   "source": [
    "print(family_split[0][9])"
   ]
  },
  {
   "cell_type": "code",
   "execution_count": null,
   "id": "d334f172",
   "metadata": {},
   "outputs": [],
   "source": [
    "print(result)"
   ]
  },
  {
   "cell_type": "code",
   "execution_count": null,
   "id": "241be6a5",
   "metadata": {},
   "outputs": [],
   "source": [
    "import math"
   ]
  },
  {
   "cell_type": "code",
   "execution_count": null,
   "id": "d1f101bd",
   "metadata": {},
   "outputs": [],
   "source": [
    "math.ceil(0.4578)"
   ]
  },
  {
   "cell_type": "code",
   "execution_count": null,
   "id": "520f6c82",
   "metadata": {},
   "outputs": [],
   "source": []
  }
 ],
 "metadata": {
  "kernelspec": {
   "display_name": "lightfootcat",
   "language": "python",
   "name": "python3"
  },
  "language_info": {
   "codemirror_mode": {
    "name": "ipython",
    "version": 3
   },
   "file_extension": ".py",
   "mimetype": "text/x-python",
   "name": "python",
   "nbconvert_exporter": "python",
   "pygments_lexer": "ipython3",
   "version": "3.12.6"
  }
 },
 "nbformat": 4,
 "nbformat_minor": 5
}
