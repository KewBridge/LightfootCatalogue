{
 "cells": [
  {
   "cell_type": "code",
   "execution_count": 1,
   "id": "32d8a20c-e910-437f-ad67-55076c27a9c3",
   "metadata": {},
   "outputs": [],
   "source": [
    "import os\n",
    "\n",
    "os.environ[\"PYTORCH_CUDA_ALLOC_CONF\"] = \"expandable_segments:True\""
   ]
  },
  {
   "cell_type": "code",
   "execution_count": 2,
   "id": "cd34f5dc-d941-4c56-b625-f3562cca9ab0",
   "metadata": {},
   "outputs": [
    {
     "name": "stdout",
     "output_type": "stream",
     "text": [
      "CPU times: user 676 ms, sys: 442 ms, total: 1.12 s\n",
      "Wall time: 51.7 s\n"
     ]
    }
   ],
   "source": [
    "%%time\n",
    "import json\n",
    "import pandas as pd\n",
    "import numpy as np\n",
    "import cv2\n",
    "from PIL import Image\n",
    "#from tesserocr import PyTessBaseAPI, PSM, RIL, PT\n",
    "import matplotlib.pyplot as plt"
   ]
  },
  {
   "cell_type": "code",
   "execution_count": 3,
   "id": "293f0b15-241f-4e92-808c-4cfba8f6fd61",
   "metadata": {},
   "outputs": [
    {
     "name": "stderr",
     "output_type": "stream",
     "text": [
      "/mnt/shared/scratch/ikarunak/apps/conda/envs/lightfootcat/lib/python3.12/site-packages/tqdm/auto.py:21: TqdmWarning: IProgress not found. Please update jupyter and ipywidgets. See https://ipywidgets.readthedocs.io/en/stable/user_install.html\n",
      "  from .autonotebook import tqdm as notebook_tqdm\n"
     ]
    },
    {
     "name": "stdout",
     "output_type": "stream",
     "text": [
      "CPU times: user 2.11 s, sys: 1.27 s, total: 3.37 s\n",
      "Wall time: 2min 19s\n"
     ]
    }
   ],
   "source": [
    "%%time\n",
    "import lib.utils as utils\n",
    "import lib.config as config\n",
    "import lib.model as model\n",
    "import lib.roi as roi\n",
    "import lib.split_pages as spages\n",
    "import lib.utils as utils"
   ]
  },
  {
   "cell_type": "code",
   "execution_count": 4,
   "id": "c1ff61ac-acfe-4528-b22f-17f2d926363a",
   "metadata": {},
   "outputs": [],
   "source": [
    "image_path = \"images/cropped/The_Lightfoot_Herbarium_05_cropped_1.jpg\"\n",
    "image_dir = \"images/cropped/\""
   ]
  },
  {
   "cell_type": "code",
   "execution_count": 5,
   "id": "6d86f2b6-6f64-498a-b392-20f878d09fbc",
   "metadata": {},
   "outputs": [],
   "source": [
    "images = sorted(utils.load_images(image_dir))[:4]"
   ]
  },
  {
   "cell_type": "code",
   "execution_count": 6,
   "id": "1aa5c4d7-91ce-4656-bffd-dfc3a07ce519",
   "metadata": {},
   "outputs": [],
   "source": [
    "newprompt = \"\"\"\n",
    "The input image contains a cropped image of a botanical catalogue listing the contents of folders sorted and listed in taxonomic order.\n",
    "These information are splitted into columns in each page.\n",
    "The image provides the division name, family name, species name and their folders' contents. \n",
    "---\n",
    "An example of the provided format is:\n",
    "\n",
    "Dicotyledones\n",
    "ACERACEAE\n",
    "Acer campestre L.\n",
    "1 folder. Acer campestre [TA]\n",
    "Acer pseudoplatanus L.\n",
    "2 folders.\n",
    "Folder 1. Acer Pseudo-Platanus\n",
    "[G]. i. \"Maple. Bulls: [Bulstrode]\n",
    "Park\" [JL]\n",
    "Folder 2. Acer Pseudo-Platanus\n",
    "[TA].\n",
    "AMARANTHACEAE\n",
    "Amaranthus lividus L. Flora Europaea 1: 110 (1964)\n",
    "1 folder. Amaranthus Blitum [TA].\n",
    "i. Cities Ray's Syn. 1957. ii. \"Blite \n",
    "Amaranth. Aug. It is often found\n",
    "on Dunghills in the neighbourhood\n",
    "of London. I gather'd this on a\n",
    "Dunghill at Fulham near London\"\n",
    "[JL]. iii. \"Amaranthus Blitum.\n",
    "Monoec: 5. and:\" [JL]\n",
    "---\n",
    "\n",
    "where divison names are characterised by large bold words; family names as captial words; species names as italic words.\n",
    "The list of contents under each species lists the number of folders first and then their content. \n",
    "When more than one folder is provided roman (like i, ii, iii) are used to differentiate the folders.\n",
    "Furthermore, for each collection the collectors initials are also cited using square brackets '[]'.\n",
    "\n",
    "In some cases, the input image provided contains folder information from previously provided images and thus these information had continued from the last page.\n",
    "\n",
    "---\n",
    "Example of output lists of JSON dicts\n",
    "\n",
    "[\n",
    "{\n",
    "'division':'Dicotyledones'\n",
    "'contents': [{'family'='ACERACEAE', contents=[{'species'='Acer campestre L.', folders=[{'folder'=1, 'content'='Acer campestre [TA]'}]}, \n",
    "                                              {'species'='Acer pseudoplatanus L.', folders=[{'folder'=1, 'content'='Acer Pseudo-Platanus [G]. i. \"Maple. Bulls: [Bulstrode] Park\" [JL]'},\n",
    "                                              {'folder'=2, 'content'='Acer Pseudo-Platanus [TA]'}]}]\n",
    "},{'family'='AMARANTHACEAE', contents=[{'species'='Amaranthus lividus L. Flora Europaea 1: 110 (1964)', folders=[{'folder'=1, 'content'='Amaranthus Blitum [TA].\n",
    "i. Cities Ray's Syn. 1957. ii. \"Blite \n",
    "Amaranth. Aug. It is often found\n",
    "on Dunghills in the neighbourhood\n",
    "of London. I gather'd this on a\n",
    "Dunghill at Fulham near London\"\n",
    "[JL]. iii. \"Amaranthus Blitum.\n",
    "Monoec: 5. and:\" [JL]'}]}, ]}\n",
    "\n",
    "]}\n",
    "\n",
    "---\n",
    "\n",
    "\n",
    "Process the image using the following steps to generate a JSON file that supports the above provided structure\n",
    "\n",
    "1. Create a list of JSON files\n",
    "2. Find the division name where possible, if not available set as 'N/A'.\n",
    "3. Under the division, create a contents lists\n",
    "4. For each family name under division name create a JSON dict and add it to the list\n",
    "5. Under each family name find the species name and thier folder contents and add them to the list\n",
    "6. Where appropriate if a value for a specific key cannot be found, set it as 'N/A'\n",
    "7. In cases where extra text is provided before Division name, family names or species name, consider the division, family or species name as 'Extra info'\n",
    "\n",
    "Compile these information into a list of JSON dicts and return the list. Please output this list of JSON dicts and not the example. \n",
    "The example (denoted between --- and ---) is only to be used as a template for the structure of the JSON format.\n",
    "\n",
    "\n",
    "Family names are characterised by captial words whilst species names are characterised by italic words.\n",
    "The list of contents under each species lists the number of folders first and then their content. \n",
    "Furthermore, for each collection the collectors initials are also cited using square brackets '[]'.\n",
    "\"\"\""
   ]
  },
  {
   "cell_type": "code",
   "execution_count": 7,
   "id": "b20f04ac-20dd-4ae0-ad49-515cc325bad3",
   "metadata": {},
   "outputs": [],
   "source": [
    "simple_prompt = \"Parse the text in the image into a JSON format\""
   ]
  },
  {
   "cell_type": "code",
   "execution_count": 8,
   "id": "c5df0930-6a4b-4cab-a10f-d578ee921b14",
   "metadata": {},
   "outputs": [
    {
     "name": "stderr",
     "output_type": "stream",
     "text": [
      "`Qwen2VLRotaryEmbedding` can now be fully parameterized by passing the model config through the `config` argument. All other arguments will be removed in v4.46\n",
      "Loading checkpoint shards: 100%|█████████████████████████████████████████████████████████████████████████████████████████████████████████████| 5/5 [02:46<00:00, 33.26s/it]\n"
     ]
    },
    {
     "name": "stdout",
     "output_type": "stream",
     "text": [
      "CPU times: user 2.92 s, sys: 11.3 s, total: 14.2 s\n",
      "Wall time: 2min 54s\n"
     ]
    }
   ],
   "source": [
    "%%time\n",
    "qwen_model = model.QWEN_Model(prompt=simple_prompt, max_new_tokens = 5000, batch_size=1)"
   ]
  },
  {
   "cell_type": "code",
   "execution_count": 9,
   "id": "f28537e6-1bd3-4c1f-a9a2-312376a8592b",
   "metadata": {
    "scrolled": true
   },
   "outputs": [
    {
     "name": "stdout",
     "output_type": "stream",
     "text": [
      ">>> Using: \n",
      " \tMaximum new tokens = 5000 \n",
      " \tBatch size = 1 \n",
      " \tsave_path = None\n",
      ">>> Batch 1 starting...\n",
      "\tProcessing text prompts...\n",
      "\tReading Images...\n",
      "\tProcessing inputs...\n",
      "\tMoving inputs to gpu...\n",
      "\tPerforming inference...\n",
      "\tInference Finished\n",
      "\tSeperating Ids...\n",
      "\tDecoding Ids...\n",
      "\tSeperating Outputs...\n",
      "\tOutputs stored!\n",
      ">>> Batch 2 starting...\n",
      "\tProcessing text prompts...\n",
      "\tReading Images...\n",
      "\tProcessing inputs...\n",
      "\tMoving inputs to gpu...\n",
      "\tPerforming inference...\n",
      "\tInference Finished\n",
      "\tSeperating Ids...\n",
      "\tDecoding Ids...\n",
      "\tSeperating Outputs...\n",
      "\tOutputs stored!\n",
      ">>> Batch 3 starting...\n",
      "\tProcessing text prompts...\n",
      "\tReading Images...\n",
      "\tProcessing inputs...\n",
      "\tMoving inputs to gpu...\n",
      "\tPerforming inference...\n",
      "\tInference Finished\n",
      "\tSeperating Ids...\n",
      "\tDecoding Ids...\n",
      "\tSeperating Outputs...\n",
      "\tOutputs stored!\n",
      ">>> Batch 4 starting...\n",
      "\tProcessing text prompts...\n",
      "\tReading Images...\n",
      "\tProcessing inputs...\n",
      "\tMoving inputs to gpu...\n",
      "\tPerforming inference...\n",
      "\tInference Finished\n",
      "\tSeperating Ids...\n",
      "\tDecoding Ids...\n",
      "\tSeperating Outputs...\n",
      "\tOutputs stored!\n",
      "CPU times: user 5min 12s, sys: 9.67 s, total: 5min 22s\n",
      "Wall time: 6min 10s\n"
     ]
    }
   ],
   "source": [
    "%%time\n",
    "outputs = qwen_model.batch_infer(images, save=False, debug=True)"
   ]
  },
  {
   "cell_type": "code",
   "execution_count": 10,
   "id": "ea618094-015d-424c-87a3-3c0ef75a7396",
   "metadata": {},
   "outputs": [
    {
     "data": {
      "text/plain": [
       "[('images/cropped/The_Lightfoot_Herbarium_05_cropped_1.jpg',\n",
       "  '{\\n    \"metadata\": {\\n        \"division\": \"N/A\",\\n        \"page\": \"132\"\\n    },\\n    \"contents\": [\\n        {\\n            \"familyName\": \"Aceraceae\",\\n            \"species\": [\\n                {\\n                    \"speciesName\": \"Acer campestre L.\",\\n                    \"folders\": [\\n                        {\\n                            \"description\": \"1 folder. Acer campestre [TA]\",\\n                            \"citations\": [\"N/a\"]\\n                        }\\n                    ]\\n                },\\n                {\\n                    \"speciesName\": \"Acer pseudoplatanus L.\",\\n                    \"folders\": [\\n                        {\\n                            \"description\": \"2 folders.\",\\n                            \"citations\": [\"n/a\"]\\n                        }\\n                    ]\\n                }\\n            ]\\n        },\\n        {\\n            \"familyName\": \"Amaranthaceae\",\\n            \"species\": [\\n                {\\n                    \"speciesName\": \"Amaranthus lividus L., Flora Europaea 1: 110 (1964\",\\n                    \"folders\": [\\n                        {\\n                            \"description\": \"1 folder. Amaranthus Blitum [TA]. i. Cites Ray\\'s Syn. 1957. ii. \\\\\"Blite Amaranth. Aug.\\\\\" It is often found on Dunghills in the neighbourhood of London. I gather\\'d this on a Dunghill at Fulham near London\\\\\" [JL]. iii. \\\\\"Amaranthus Blitum. Monoec: 5 and: \\\\\" [JL]\",\\n                            \"citations\": [\"n/a\"]\\n                        }\\n                    ]\\n                }\\n            ]\\n        },\\n        {\\n            \"familyName\": \"Araliaceae\",\\n            \"species\": [\\n                {\\n                    \"speciesName\": \"Hedera helix L.\",\\n                    \"folders\": [\\n                        {\\n                            \"description\": \"1 folder. Hedera Helix [TA]\",\\n                            \"citations\": [\"n/a\"]\\n                        }\\n                    ]\\n                }\\n            ]\\n        },\\n        {\\n            \"familyName\": \"Aristolochiaceae\",\\n            \"species\": [\\n                {\\n                    \"speciesName\": \"Asarum europaeum L.\",\\n                    \"folders\": [\\n                        {\\n                            \"description\": \"1 folder. Asarum europaeum [TA]. i. \\\\\"Asarum europaeum Lin: Asara-bacca. Anglis. ex horto\\\\\" [JL]\",\\n                            \"citations\": [\"n/a\"]\\n                        }\\n                    ]\\n                }\\n            ]\\n        },\\n        {\\n            \"familyName\": \"Balsaminaceae\",\\n            \"species\": [\\n                {\\n                    \"speciesName\": \"Impatiens noli-tangere L.\",\\n                    \"folders\": [\\n                        {\\n                            \"description\": \"1 folder. Impatiiens Noli me tangere [G]\",\\n                            \"citations\": [\"n/a\"]\\n                        }\\n                    ]\\n                }\\n            ]\\n        },\\n        {\\n            \"familyName\": \"Betulaceae\",\\n            \"species\": [\\n                {\\n                    \"speciesName\": \"Alnus glutinosa (L.) Gaertn.\",\\n                    \"folders\": [\\n                        {\\n                            \"description\": \"1 folder. Betula Alnus [TA]\",\\n                            \"citations\": [\"n/a\"]\\n                        }\\n                    ]\\n                },\\n                {\\n                    \"speciesName\": \"Betula nana L.\",\\n                    \"folders\": [\\n                        {\\n                            \"description\": \"1 folder. Betula nana [G]\",\\n                            \"citations\": [\"n/a\"]\\n                        }\\n                    ]\\n                }\\n            ]\\n        },\\n        {\\n            \"familyName\": \"Campanulaceae\",\\n            \"species\": [\\n                {\\n                    \"speciesName\": \"Campanula latifolia L.\",\\n                    \"folders\": [\\n                        {\\n                            \"description\": \"2 folders.\",\\n                            \"citations\": [\"n/a\"]\\n                        }\\n                    ]\\n                },\\n                {\\n                    \"speciesName\": \"Campanula patula L.\",\\n                    \"folders\": [\\n                        {\\n                            \"description\": \"1 folder. Campanula patula [TA]\",\\n                            \"citations\": [\"n/a\"]\\n                        }\\n                    ]\\n                },\\n                {\\n                    \"speciesName\": \"Campanula rapunculus L.\",\\n                    \"folders\": [\\n                        {\\n                            \"description\": \"2 folders.\",\\n                            \"citations\": [\"n/a\"]\\n                        }\\n                    ]\\n                }\\n            ]\\n        },\\n        {\\n            \"familyName\": \"Phyteuma tenerum R.Schulz\",\\n            \"species\": [\\n                {\\n                    \"speciesName\": \"Phyteuma tenerum R.Schulz\",\\n                    \"folders\": [\\n                        {\\n                            \"description\": \"1 folder. Phyteuma orbicularis [TA]\",\\n                            \"citations\": [\"n/a\"]\\n                        }\\n                    ]\\n                }\\n            ]\\n        },\\n        {\\n            \"familyName\": \"Wahlenbergia hederacea (L.) Reichb.\",\\n            \"species\": [\\n                {\\n                    \"speciesName\": \"Wahlenbergia hederacea (L.) Reichb.\",\\n                    \"folders\": [\\n                        {\\n                            \"description\": \"2 folders.\",\\n                            \"citations\": [\"n/a\"]\\n                        }\\n                    ]\\n                }\\n            ]\\n        }\\n    ],\\n    \"previous\": [\\n        {\\n            \"description\": \"Folder 2. Campanula rapunculus [G].\",\\n            \"citations\": [\"n/a\"]\\n        }\\n    ]\\n}'),\n",
       " ('images/cropped/The_Lightfoot_Herbarium_05_cropped_2.jpg',\n",
       "  '{\\n    \"metadata\": {\\n        \"division\": \"Caryophyllaceae\",\\n        \"page\": \"133\"\\n    },\\n    \"contents\": [\\n        {\\n            \"familyName\": \"Caryophyllaceae\",\\n            \"species\": [\\n                {\\n                    \"speciesName\": \"Arenaria serpyllifolia L.\",\\n                    \"folders\": [\\n                        {\\n                            \"description\": \"1 folder. Arenaria Serpyllifolia [TA].\",\\n                            \"citations\": [\"\", \"\"]\\n                        }\\n                    ]\\n                },\\n                {\\n                    \"speciesName\": \"Bufonia tenuifolia L., Flora Europaea 1: 133 (1964\",\\n                    \"folders\": [\\n                        {\\n                            \"description\": \"1 folder. Bufonia Tenuifolia [TA].\",\\n                            \"citations\": [\"\", \"\"]\\n                        }\\n                    ]\\n                },\\n                {\\n                    \"speciesName\": \"Cerastium alpinum L.\",\\n                    \"folders\": [\\n                        {\\n                            \"description\": \"Folder 1. Cerastium latifolium [G]. i. \\\\\"Cerastium alpinum. This was gathered upon Snowdon at the top of the highest Rock call\\'d Clogwyn y Garnedh. June\\\\\" [JL]. ii. \\\\\"Top of Snowdon\\\\\" [JL]. iv. \\\\\"Dr. Solander affirms this to be the true Cerastium alpinum. I had it from Snowdon. He found it at Terra del Fuego & named it C. hirtum with a mark of Dubitation, but now now thinks them both one\\\\\" [JL].\",\\n                            \"citations\": [\"\", \"\"]\\n                        },\\n                        {\\n                            \"description\": \"Folder 2. Cerastium alpinum [TA]; Cerastium latifolium [G]. i. \\\\\"Clogwyn d\\\\\" [JL]. ii. \\\\\"Cerast: alpin: Ben Lomond\\\\\" [JL].\",\\n                            \"citations\": [\"\", \"\"]\\n                        }\\n                    ]\\n                },\\n                {\\n                    \"speciesName\": \"Cerastium arvense L.\",\\n                    \"folders\": [\\n                        {\\n                            \"description\": \"Folder 1. Cerastium arvense [TA]. i. \\\\\"Cerastium arvense. This must be right tho\\' the leaves are hoaryy\\\\\" [JL]. ii. \\\\\"Cerastium arvense. Very common in Norfolk. Why does Lin. put the word glabris in his Specific Description in opposition to truth & the Testimony of all Authors\\\\\" [B].\",\\n                            \"citations\": [\"\", \"\"]\\n                        },\\n                        {\\n                            \"description\": \"Folder 2. Cerastium arvense [G]. [See also under C. arcticum Folder 1.]\",\\n                            \"citations\": [\"\", \"\"]\\n                        }\\n                    ]\\n                },\\n                {\\n                    \"speciesName\": \"Cerastium fontanum Baumg., subsp. triviale (Link) Jalas, Flora Europaea 1: 142 (1964)\",\\n                    \"folders\": [\\n                        {\\n                            \"description\": \"1 sheet. Cerastium vulgaris [TA]; C. vulgatum Huds. and C. viscosum Linn. [G]. i. \\\\\"Pray inform me\",\\n                            \"citations\": [\"\", \"\"]\\n                        }\\n                    ]\\n                }\\n            ]\\n        }\\n    ],\\n    \"previous\": [\\n        {\\n            \"description\": \"Folder 2. Campanula hederacea [G]. i. \\\\\"Devon & Cornwal\\\\\" [JL].\",\\n            \"citations\": [\"\", \"\"]\\n        }\\n    ]\\n}'),\n",
       " ('images/cropped/The_Lightfoot_Herbarium_06_cropped_1.jpg',\n",
       "  '{\\n    \"metadata\": {\\n        \"division\": \"N/a\",\\n        \"page\": \"134\"\\n    },\\n    \"contents\": [\\n        {\\n            \"familyName\": \"Cucubalbus\",\\n            \"species\": [\\n                {\\n                    \"speciesName\": \"baccifer L.\",\\n                    \"folders\": [\\n                        {\\n                            \"description\": \"3 folders and 1 sheet.\",\\n                            \"citations\": [\\n                                \"Bulstrode [JL]\",\\n                                \"Bulstrode [JL]\"\\n                            ]\\n                        },\\n                        {\\n                            \"description\": \"Folder 1. Cucubalbus baccifer [G]. i. \\\\\"Bulstrode\\\\\" [JL].\",\\n                            \"citations\": [\\n                                \"Bulstrode [JL]\"\\n                            ]\\n                        },\\n                        {\\n                            \"description\": \"Folder 2. Cucubalbus baccifer [G]. i. \\\\\"Bulstrode\\\\\" [JL].\",\\n                            \"citations\": [\\n                                \"Bulstrode [JL]\"\\n                            ]\\n                        },\\n                        {\\n                            \"description\": \"Folder 3. Cucubalalbus baccifer [G]. Sheet 1. Cucubalalbus baccifer [JL]. i. \\\\\"Cucubalalbus bacciferus calyicibus campanulatis, petalis distantibus, pericarpiis coloratis, ramis divaricatis. Lin: Syst: Nat. Cucubalalbus Plinii. R. Syn: 267.\\\\\" ii. \\\\\"Berry-bearing Chickweed. July & Aug!. This this plant was found growing spontaneously in the Isle of Man, by Dr. Richardson\\\\\" [JL]. [On loose label in pencil:] \\\\\"? I. of Dogs\\\\\" [Riddelsell].\",\\n                            \"citations\": [\\n                                \"Bulstrode [JL]\",\\n                                \"Bulstrode [JL]\"\\n                            ]\\n                        }\\n                    ]\\n                }\\n            ]\\n        },\\n        {\\n            \"familyName\": \"Herniia\",\\n            \"species\": [\\n                {\\n                    \"speciesName\": \"ciliolata Meld.\",\\n                    \"folders\": [\\n                        {\\n                            \"description\": \"2 folders.\",\\n                            \"citations\": [\\n                                \"Hernia glabra [TA]. i. Hernia glabra. Cites Lin: Sp. Pl: Hernia; Ray\\'s Syn: 160. ii. \\\\\"Smooth Rupture-wort. This specimen was gathered from the Lizard Point in Cornwall & communicated by Mr. Hudson\\\\\" [JL].\",\\n                                \"Hernia glabra [G].\"\\n                            ]\\n                        }\\n                    ]\\n                }\\n            ]\\n        },\\n        {\\n            \"familyName\": \"Hernia\",\\n            \"species\": [\\n                {\\n                    \"speciesName\": \"hirsuta L.\",\\n                    \"folders\": [\\n                        {\\n                            \"description\": \"2 folders.\",\\n                            \"citations\": [\\n                                \"Hernia hirsuta [TA]. i. \\\\\"Hern: hirsuta according to Yalden\\\\\" [JL]. ii. \\\\\"Hernia hirsuta. Gordon\\'s Garden [?]; D. o. P: [possibly the Duchess of Portland] [JL].\",\\n                                \"Hernia glabra [G].\"\\n                            ]\\n                        }\\n                    ]\\n                }\\n            ]\\n        },\\n        {\\n            \"familyName\": \"Illecebrum\",\\n            \"species\": [\\n                {\\n                    \"speciesName\": \"verticillatum L.\",\\n                    \"folders\": [\\n                        {\\n                            \"description\": \"1 folder. Illecebrum verticillatum [TA]. i. \\\\\"Illecebrum verticillatum floribus verticillatis nudis, caulibus procumbentibus. Lin: Sp: Pl: Corrigiola. Ray\\'s Syn: 160. Verticillate Knot Grass. July. In Marshes & moist Places about Pensans in Cornwall\\\\\" [JL]. ii. \\\\\"The verticillate sample I rec\\'d from Mr. Banks collected at Pensans, wth I take to be be the true Illeceb: verticill: but the other seems to be be rather Illeceb: cymosum, & perhaps the Polygonum maritimum Ray: 161 near Weston. This this from Mr. Hudson\\\\\" [JL].\",\\n                            \"citations\": [\\n                                \"Bulstrode [JL]\",\\n                                \"Bulstrode [JL]\"\\n                            ]\\n                        }\\n                    ]\\n                }\\n            ]\\n        },\\n        {\\n            \"familyName\": \"Dianthus\",\\n            \"species\": [\\n                {\\n                    \"speciesName\": \"armeria L.\",\\n                    \"folders\": [\\n                        {\\n                            \"description\": \"1 folder. Dianthus armeria [TA].\",\\n                            \"citations\": [\\n                                \"Dianthus armeria [TA]\"\\n                            ]\\n                        }\\n                    ]\\n                },\\n                {\\n                    \"speciesName\": \"caryophyllus L.\",\\n                    \"folders\": [\\n                        {\\n                            \"description\": \"1 folder. Dianthus caryophyllus [TA]. i. \\\\\"Dianthus caryophyllus Lin: Ray Syn: p. 336. no. 3. on Rochester Castle Walls & c.\\\\\" [JL]. ii. \\\\\"& single Clove mentioned in Ray on Rochester Walls\\\\\" [?]; \\\\\"??? is this not from a Garden\\\\\" [JL].\",\\n                            \"citations\": [\\n                                \"Dianthus caryophyllus [TA]\",\\n                                \"Dianthus caryophyllus [TA]\"\\n                            ]\\n                        }\\n                    ]\\n                },\\n                {\\n                    \"speciesName\": \"deltoides L.\",\\n                    \"folders\": [\\n                        {\\n                            \"description\": \"2 folders.\",\\n                            \"citations\": [\\n                                \"Dianthus glaucus? [TA]. i. \\\\\"Dianthus glaucus pro certo. Kew. respondet. fig: Dillen:\\\\\" [JL]. ii. \\\\\"This Aiton [William Aiton] says is is the Dianthus glaucus. White flowers with a purple Circle. Kew. compare it with Dianth: deltoides\\\\\" [JL].\",\\n                                \"Dianthus deltoides [TA]. \\\\\"Dianthus Deltoides. Salt Hill\\\\\" [?].\"\\n                            ]\\n                        }\\n                    ]\\n                },\\n                {\\n                    \"speciesName\": \"gratianopolitanus Vill.\",\\n                    \"folders\": [\\n                        {\\n                            \"description\": \"2 folders.\",\\n                            \"citations\": [\\n                                \"Dianthus Prolifer [TA]. i. \\\\\"Dianthus prolifer\\\\\" [JL]. ii. \\\\\"Diananthus prolifer of Eaton. Q: July Aug\\'. Kew. In Selsey Island Sussex\\\\\" [JL].\",\\n                                \"Diananthus prolifer [TA]. \\\\\"Dianthus Prolifer. Salt Hill\\\\\" [?].\"\\n                            ]\\n                        }\\n                    ]\\n                }\\n            ]\\n        },\\n        {\\n            \"familyName\": \"Kohlräuschia\",\\n            \"species\": [\\n                {\\n                    \"speciesName\": \"prolifera (L.) Kunth\",\\n                    \"folders\": [\\n                        {\\n                            \"description\": \"1 folder and 1 sheet.\",\\n                            \"citations\": [\\n                                \"Diananthus Prolifer [TA]. i. \\\\\"Diananthus prolifer\\\\\" [JL]. ii. \\\\\"Diananthus prolifer of Eaton. Q: July Aug\\'. Kew. In Selsey Island Sussex\\\\\" [JL].\",\\n                                \"Diananthus Prolifer [TA]. \\\\\"Diananthus Prolifer. Salt Hill\\\\\" [?].\"\\n                            ]\\n                        }\\n                    ]\\n                }\\n            ]\\n        }\\n    ],\\n    \"previous\": [\\n        {\\n            \"description\": \"Folder 1. Dianthus arenarius Hud. [TA]. i. \\\\\"Cheddar brought into a Garden\\\\\" [JL]. ii. \\\\\"Diananthus arenarius the true. Sent by Mr. Banks to Bulstrode from Cheddar.\\\\\" [JL].\",\\n            \"citations\": [\\n                \"Cheddar brought into a Garden [JL]\",\\n                \"Diananthus arenarius the true. Sent by Mr. Banks to Bulstrode from Cheddar. [JL]\"\\n            ]\\n        },\\n        {\\n            \"description\": \"Folder 2. Diananthus virginicus [TA]; Diananthus arenarius Huds. [G]. i. \\\\\"Diananth: arenar: Bulstrode. Q: an non idem Mr. Banks\\'s\\\\\" [JL].\",\\n            \"citations\": [\\n                \"Diananthus virginicus [TA]; Diananthus arenarius Huds. [G]. i. \\\\\"Diananth: arenar: Bulstrode. Q: an non idem Mr. Banks\\'s\\\\\" [JL]\"\\n            ]\\n        },\\n        {\\n            \"description\": \"Folder 1. Hernia glabra [TA]. i. Hernia glabra. Cites Lin: Sp. Pl: Hernia; Ray\\'s Syn: 160. ii. \\\\\"Smooth Rupture-wort. This specimen was gathered from the Lizard Point in Cornwall & communicated by Mr. Hudson\\\\\" [JL].\",\\n            \"citations\": [\\n                \"Hernia glabra [TA]. i. Hernia glabra. Cites Lin: Sp. Pl: Hernia; Ray\\'s Syn: 160. ii. \\\\\"Smooth Rupture-wort. This specimen was gathered from the Lizard Point in Cornwall & communicated by Mr. Hudson\\\\\" [JL].\"\\n            ]\\n        },\\n        {\\n            \"description\": \"Folder 2. Hernia glabra [G].\",\\n            \"citations\": [\\n                \"Hernia glabra [G].\"\\n            ]\\n        },\\n        {\\n            \"description\": \"Folder 1. Hernia hirsuta [TA]. i. \\\\\"Hern: hirsuta according to Yalden\\\\\" [JL]. ii. \\\\\"Hernia hirsuta. Gordon\\'s Garden [?]; D. o. P: [possibly the Duchess of Portland] [JL].\",\\n            \"citations\": [\\n                \"Hernia hirsuta [TA]. i. \\\\\"Hern: hirsuta according to Yalden\\\\\" [JL]. ii. \\\\\"Hernia hirsuta. Gordon\\'s Garden [?]; D. o. P: [possibly the Duchess of Portland] [JL].\"\\n            ]\\n        },\\n        {\\n            \"description\": \"Folder 2. Hernia glabra [G].\",\\n            \"citations\": [\\n                \"Hernia glabra [G].\"\\n            ]\\n        },\\n        {\\n            \"description\": \"Folder 1. Illecebrum verticillatum [TA]. i. \\\\\"Illecebrum verticillatum floribus verticillatis nudis, caulibus procumbentibus. Lin: Sp: Pl: Corrigiola. Ray\\'s Syn: 160. Verticillate Knot Grass. July. In Marshes & moist Places about Pensans in Cornwall\\\\\" [JL]. ii. \\\\\"The verticillate sample I rec\\'d from Mr. Banks collected at Pensans, wth I take to be the true Illeceb: verticill: but the other seems to be rather Illeceb: cymosum, & perhaps the Polygonum maritimum Ray: 161 near Weston. This this from Mr. Hudson\\\\\" [JL].\",\\n            \"citations\": [\\n                \"Illecebrum verticillatum [TA]. i. \\\\\"Illecebrum verticillatum floribus verticillatis nudis, caulibus procumbentibus. Lin: Sp: Pl: Corrigiola. Ray\\'s Syn: 160. Verticillate Knot Grass. July. in Marshes & moist Places about Pensans in Cornwall\\\\\" [JL]. ii. \\\\\"The verticillate sample I rec\\'d from Mr. Banks collected at Pensans, wth I take to be the true Illeceb: verticill: but the other seems to be rather Illeceb: cymosum, & perhaps the Polygonum maritimum Ray: 161 near Weston. this from Mr. Hudson\\\\\" [JL].\"\\n            ]\\n        }\\n    ]\\n}'),\n",
       " ('images/cropped/The_Lightfoot_Herbarium_06_cropped_2.jpg',\n",
       "  '{\\n    \"metadata\": {\\n        \"division\": \"N/a\",\\n        \"page\": \"135\"\\n    },\\n    \"contents\": [\\n        {\\n            \"familyName\": \"Lychnis\",\\n            \"species\": [\\n                {\\n                    \"speciesName\": \"Lychnis coronaria\",\\n                    \"folders\": [\\n                        {\\n                            \"description\": \"Flora Europaea 1: 156 (1964)\",\\n                            \"citations\": [\"TA\"]\\n                        }\\n                    ]\\n                },\\n                {\\n                    \"speciesName\": \"Lychnis viscaria\",\\n                    \"folders\": [\\n                        {\\n                            \"description\": \"Flora Scotica ed. 1, 1102 ( (1777)\",\\n                            \"citations\": [\"TA\"]\\n                        }\\n                    ]\\n                },\\n                {\\n                    \"speciesName\": \"Minuartia hybrida\",\\n                    \"folders\": [\\n                        {\\n                            \"description\": \"Flora Scotica ed. 1, 1124, 1139 ( (1777)\",\\n                            \"citations\": [\"TA\"]\\n                        }\\n                    ]\\n                },\\n                {\\n                    \"speciesName\": \"Minuartia sedoides\",\\n                    \"folders\": [\\n                        {\\n                            \"description\": \"Flora Scotica ed. 1, 232, 1124, 1139 (1777)\",\\n                            \"citations\": [\"TA\"]\\n                        }\\n                    ]\\n                },\\n                {\\n                    \"speciesName\": \"Minuartia verna\",\\n                    \"folders\": [\\n                        {\\n                            \"description\": \"Flora Scotica ed. 1, 231, 1140 (1777)\",\\n                            \"citations\": [\"TA\"]\\n                        }\\n                    ]\\n                },\\n                {\\n                    \"speciesName\": \"Sagina maritima\",\\n                    \"folders\": [\\n                        {\\n                            \"description\": \"Flora Scotica ed. 1, 244 (1777)\",\\n                            \"citations\": [\"TA\"]\\n                        }\\n                    ]\\n                },\\n                {\\n                    \"speciesName\": \"Sagina nodosa\",\\n                    \"folders\": [\\n                        {\\n                            \"description\": \"Flora Scotica ed. 1, 244 (1777)\",\\n                            \"citations\": [\"TA\"]\\n                        }\\n                    ]\\n                },\\n                {\\n                    \"speciesName\": \"Sagina procumbens\",\\n                    \"folders\": [\\n                        {\\n                            \"description\": \"Flora Scotica ed. 1, 244 (1777)\",\\n                            \"citations\": [\"TA\"]\\n                        }\\n                    ]\\n                },\\n                {\\n                    \"speciesName\": \"Sagina saginoides\",\\n                    \"folders\": [\\n                        {\\n                            \"description\": \"Flora Scotica ed. 1, 244 (1777)\",\\n                            \"citations\": [\"TA\"]\\n                        }\\n                    ]\\n                },\\n                {\\n                    \"speciesName\": \"Sagina subulata\",\\n                    \"folders\": [\\n                        {\\n                            \"description\": \"Flora Scotica ed. 1, 224 (1777)\",\\n                            \"citations\": [\"TA\"]\\n                        }\\n                    ]\\n                }\\n            ]\\n        },\\n        \"previous\": [\\n            {\\n                \"description\": \"Flora Scotica ed. 1, 224 (1777)\",\\n                \"citations\": [\"TA\"]\\n            }\\n        ]\\n    }\\n}')]"
      ]
     },
     "execution_count": 10,
     "metadata": {},
     "output_type": "execute_result"
    }
   ],
   "source": [
    "outputs"
   ]
  },
  {
   "cell_type": "code",
   "execution_count": 15,
   "id": "4e3e81fb-08f6-43e4-b8e6-330fc04768e9",
   "metadata": {},
   "outputs": [],
   "source": [
    "out = outputs[1][1]"
   ]
  },
  {
   "cell_type": "code",
   "execution_count": 17,
   "id": "17cf6907-5f82-41be-b43d-c7ff43d7699e",
   "metadata": {},
   "outputs": [
    {
     "name": "stdout",
     "output_type": "stream",
     "text": [
      "{'metadata': {'division': 'Caryophyllaceae', 'page': '133'}, 'contents': [{'familyName': 'Caryophyllaceae', 'species': [{'speciesName': 'Arenaria serpyllifolia L.', 'folders': [{'description': '1 folder. Arenaria Serpyllifolia [TA].', 'citations': ['', '']}]}, {'speciesName': 'Bufonia tenuifolia L., Flora Europaea 1: 133 (1964', 'folders': [{'description': '1 folder. Bufonia Tenuifolia [TA].', 'citations': ['', '']}]}, {'speciesName': 'Cerastium alpinum L.', 'folders': [{'description': 'Folder 1. Cerastium latifolium [G]. i. \"Cerastium alpinum. This was gathered upon Snowdon at the top of the highest Rock call\\'d Clogwyn y Garnedh. June\" [JL]. ii. \"Top of Snowdon\" [JL]. iv. \"Dr. Solander affirms this to be the true Cerastium alpinum. I had it from Snowdon. He found it at Terra del Fuego & named it C. hirtum with a mark of Dubitation, but now now thinks them both one\" [JL].', 'citations': ['', '']}, {'description': 'Folder 2. Cerastium alpinum [TA]; Cerastium latifolium [G]. i. \"Clogwyn d\" [JL]. ii. \"Cerast: alpin: Ben Lomond\" [JL].', 'citations': ['', '']}]}, {'speciesName': 'Cerastium arvense L.', 'folders': [{'description': 'Folder 1. Cerastium arvense [TA]. i. \"Cerastium arvense. This must be right tho\\' the leaves are hoaryy\" [JL]. ii. \"Cerastium arvense. Very common in Norfolk. Why does Lin. put the word glabris in his Specific Description in opposition to truth & the Testimony of all Authors\" [B].', 'citations': ['', '']}, {'description': 'Folder 2. Cerastium arvense [G]. [See also under C. arcticum Folder 1.]', 'citations': ['', '']}]}, {'speciesName': 'Cerastium fontanum Baumg., subsp. triviale (Link) Jalas, Flora Europaea 1: 142 (1964)', 'folders': [{'description': '1 sheet. Cerastium vulgaris [TA]; C. vulgatum Huds. and C. viscosum Linn. [G]. i. \"Pray inform me', 'citations': ['', '']}]}]}], 'previous': [{'description': 'Folder 2. Campanula hederacea [G]. i. \"Devon & Cornwal\" [JL].', 'citations': ['', '']}]}\n"
     ]
    }
   ],
   "source": [
    "print(eval(out))"
   ]
  },
  {
   "cell_type": "code",
   "execution_count": null,
   "id": "cf573593-8bce-4a4a-b293-10bb541a762d",
   "metadata": {},
   "outputs": [],
   "source": []
  }
 ],
 "metadata": {
  "kernelspec": {
   "display_name": "Python 3 (ipykernel)",
   "language": "python",
   "name": "python3"
  },
  "language_info": {
   "codemirror_mode": {
    "name": "ipython",
    "version": 3
   },
   "file_extension": ".py",
   "mimetype": "text/x-python",
   "name": "python",
   "nbconvert_exporter": "python",
   "pygments_lexer": "ipython3",
   "version": "3.12.6"
  }
 },
 "nbformat": 4,
 "nbformat_minor": 5
}
