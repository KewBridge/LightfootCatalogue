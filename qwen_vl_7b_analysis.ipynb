{
 "cells": [
  {
   "cell_type": "code",
   "execution_count": 1,
   "id": "32d8a20c-e910-437f-ad67-55076c27a9c3",
   "metadata": {},
   "outputs": [],
   "source": [
    "import os\n",
    "\n",
    "os.environ[\"PYTORCH_CUDA_ALLOC_CONF\"] = \"expandable_segments:True\""
   ]
  },
  {
   "cell_type": "code",
   "execution_count": 2,
   "id": "cd34f5dc-d941-4c56-b625-f3562cca9ab0",
   "metadata": {},
   "outputs": [
    {
     "name": "stdout",
     "output_type": "stream",
     "text": [
      "CPU times: user 445 ms, sys: 288 ms, total: 733 ms\n",
      "Wall time: 2.31 s\n"
     ]
    }
   ],
   "source": [
    "%%time\n",
    "import json\n",
    "import pandas as pd\n",
    "import numpy as np\n",
    "import cv2\n",
    "from PIL import Image\n",
    "#from tesserocr import PyTessBaseAPI, PSM, RIL, PT\n",
    "import matplotlib.pyplot as plt"
   ]
  },
  {
   "cell_type": "code",
   "execution_count": 3,
   "id": "293f0b15-241f-4e92-808c-4cfba8f6fd61",
   "metadata": {},
   "outputs": [
    {
     "name": "stderr",
     "output_type": "stream",
     "text": [
      "/mnt/shared/scratch/ikarunak/apps/conda/envs/lightfootcat/lib/python3.12/site-packages/tqdm/auto.py:21: TqdmWarning: IProgress not found. Please update jupyter and ipywidgets. See https://ipywidgets.readthedocs.io/en/stable/user_install.html\n",
      "  from .autonotebook import tqdm as notebook_tqdm\n"
     ]
    },
    {
     "name": "stdout",
     "output_type": "stream",
     "text": [
      "CPU times: user 1.46 s, sys: 917 ms, total: 2.38 s\n",
      "Wall time: 6.12 s\n"
     ]
    }
   ],
   "source": [
    "%%time\n",
    "import lib.utils as utils\n",
    "#import lib.config as config\n",
    "import lib.model as model\n",
    "#import lib.roi as roi\n",
    "#import lib.split_pages as spages"
   ]
  },
  {
   "cell_type": "code",
   "execution_count": 4,
   "id": "c1ff61ac-acfe-4528-b22f-17f2d926363a",
   "metadata": {},
   "outputs": [],
   "source": [
    "image_path = \"images/cropped/The_Lightfoot_Herbarium_05_cropped_1.jpg\"\n",
    "image_dir = \"images/cropped/\"\n",
    "default_yaml = \"./prompts/default.yaml\""
   ]
  },
  {
   "cell_type": "code",
   "execution_count": 5,
   "id": "6d86f2b6-6f64-498a-b392-20f878d09fbc",
   "metadata": {},
   "outputs": [],
   "source": [
    "images = sorted(utils.load_images(image_dir))[:2]"
   ]
  },
  {
   "cell_type": "code",
   "execution_count": 6,
   "id": "e19393ae-f445-44ba-8a12-e20278cc54c7",
   "metadata": {},
   "outputs": [],
   "source": [
    "simple_prompt = \"Parse the input image for the text and refactor it into a JSON structure\""
   ]
  },
  {
   "cell_type": "code",
   "execution_count": 7,
   "id": "c5df0930-6a4b-4cab-a10f-d578ee921b14",
   "metadata": {},
   "outputs": [
    {
     "name": "stderr",
     "output_type": "stream",
     "text": [
      "`Qwen2VLRotaryEmbedding` can now be fully parameterized by passing the model config through the `config` argument. All other arguments will be removed in v4.46\n",
      "Loading checkpoint shards: 100%|█████████████████████████████████████████████████████████████████████████████████████████████████████████████| 5/5 [00:38<00:00,  7.70s/it]\n"
     ]
    },
    {
     "name": "stdout",
     "output_type": "stream",
     "text": [
      "CPU times: user 2.25 s, sys: 11.4 s, total: 13.6 s\n",
      "Wall time: 41.1 s\n"
     ]
    }
   ],
   "source": [
    "%%time\n",
    "qwen_model = model.QWEN_Model(prompt=default_yaml, max_new_tokens = 20000, batch_size=2)"
   ]
  },
  {
   "cell_type": "code",
   "execution_count": 8,
   "id": "7e825c61-4bf7-45bc-b0ab-718e1464f464",
   "metadata": {},
   "outputs": [
    {
     "data": {
      "text/plain": [
       "[{'role': 'system',\n",
       "  'content': 'SETUP: \\nYou are an expert in horticulture, plant taxonomy and botanical catalogues\\n'},\n",
       " {'role': 'system',\n",
       "  'content': 'CONTEXT: \\nThe following images provided are snapshots of botanical catalogue pages from botanical books.  The pages contain information on species, where they were collected and in which folder they were stored.  The information is organised in order of plant taxonomy with the highest classification being family name.  Typically the page contain information seperated in one to two columns.  Family names are typically Capitalized and species names can be found italicized.  The contents of the folders are written under each species and sometimes found at the start of the page (mostly due to continuation from the previous page).\\n'},\n",
       " {'role': 'system',\n",
       "  'content': 'GOAL: \\nYour task is to parse the given image into a JSON object that follows the provided rules, instructions and template.\\n'},\n",
       " {'role': 'system',\n",
       "  'content': 'INSTRUCTIONS: \\n1) Parse the image for all of the unstructed text\\n2) Refactor the unstructed text from step 1 into a json structed outlined below\\n3) JSON key values should be left empty or set to N/A if the corresponding information is not found\\n4) Duplicate dictionary keys are not allowed\\n5) Ensure all JSON keys are in camel case\\n6) Ensure all JSON key-value pairs strictly follow the format and data types specified in the template below.\\n7) Ensure all text is transcribed from the image\\n8) Ensure all species are listed under the correct family names as denoted in the image. Do not try to correct this.\\n9) Do not attempt any correction or grammer checks\\n10) Ensure output JSON is valid JSON format. It should not have trailing commas or unqouted keys\\n11) Only return the JSON structure as a string\\n'},\n",
       " {'role': 'system',\n",
       "  'content': 'RULES: \\nMetadata: Metadata for each page containing the division if available and page number of given image.\\nDivision: Division is defined by a non-capitalized, bold and larger font size. If it is not available set to N/A.  Do not attempt to fill this in if it is not available. \\n\\nPage: Page number as denoted on the top right or top left part of the image, typically depicted by 1 to 4 digits. If not available set to N/A.\\nContents: A list of dictionaries containing the familyName and species information for all families and species under them.\\nFamilyname: The scientific name of the family of the species, typically found capitalized. If not available do not try to fill in and set as N/A. Family name must be  Captialized.\\n\\nSpecies: A list of dictionaries containing all speciesName and folders.\\nSpeciesname: The full scientific name of the species as noted in the image. Do not change format or correct grammer.\\nFolders: A list of dictionaries containing the description and citations for each folder under the noted species.\\nDescription: The description under each folder denoting where the plant was found and collected from.\\nCitations: A list of all collectors and transcriptors. Typically found as capitalized initials in square brackets within the description. The number of characters for  each citation typically range between 1 to 4 characters. \\n\\n'},\n",
       " {'role': 'system',\n",
       "  'content': 'TEMPLATE: \\n{\\n    \"metadata\":{\\n        \"division\":\"\", \\n        \"page\":\"\" \\n        },\\n    \"contents\":[ \\n        {\\n            \"familyName\":\"\", \\n            \"species\":[ \\n                {\"speciesName\":\"\",\\n                \"folders\":[ \\n                    {\"description\":\"\",\\n                    \"citations\":[\"\",\"\"] \\n                    }\\n                   ]\\n                }\\n            ]\\n        }\\n        ]\\n}\\n'},\n",
       " {'role': 'user',\n",
       "  'content': [{'type': 'image'},\n",
       "   {'type': 'text',\n",
       "    'text': 'Parse the input image for the text and refactor it into a JSON structure'}]}]"
      ]
     },
     "execution_count": 8,
     "metadata": {},
     "output_type": "execute_result"
    }
   ],
   "source": [
    "qwen_model.conversation"
   ]
  },
  {
   "cell_type": "code",
   "execution_count": 9,
   "id": "f28537e6-1bd3-4c1f-a9a2-312376a8592b",
   "metadata": {
    "scrolled": true
   },
   "outputs": [
    {
     "name": "stdout",
     "output_type": "stream",
     "text": [
      ">>> Using: \n",
      " \tMaximum new tokens = 20000 \n",
      " \tBatch size = 2 \n",
      " \tsave_path = None\n",
      ">>> Batch 1 starting...\n",
      "\tProcessing text prompts...\n",
      "\tReading Images...\n",
      "\tProcessing inputs...\n",
      "\tMoving inputs to gpu...\n",
      "\tPerforming inference...\n",
      "\tInference Finished\n",
      "\tSeperating Ids...\n",
      "\tDecoding Ids...\n",
      "\tSeperating Outputs...\n",
      "\tOutputs stored!\n",
      "\t== Saving Pairs For Batch 1 ==\n",
      ">>> Saving text output for images/cropped/The_Lightfoot_Herbarium_05_cropped_1.jpg\n",
      ">>>> Saving JSON...\n",
      ">>>> Saving CSV...\n",
      ">>> Saving text output for images/cropped/The_Lightfoot_Herbarium_05_cropped_2.jpg\n",
      ">>>> Saving JSON...\n",
      ">>>> Saving CSV...\n",
      "\t== Saving Done For Batch 1  ==\n",
      "CPU times: user 43.7 s, sys: 743 ms, total: 44.4 s\n",
      "Wall time: 45.9 s\n"
     ]
    }
   ],
   "source": [
    "%%time\n",
    "outputs = qwen_model.batch_infer(images, save=True, debug=True)"
   ]
  },
  {
   "cell_type": "code",
   "execution_count": 10,
   "id": "4e3e81fb-08f6-43e4-b8e6-330fc04768e9",
   "metadata": {},
   "outputs": [],
   "source": [
    "out = outputs[0][1]"
   ]
  },
  {
   "cell_type": "code",
   "execution_count": 11,
   "id": "17cf6907-5f82-41be-b43d-c7ff43d7699e",
   "metadata": {
    "scrolled": true
   },
   "outputs": [
    {
     "name": "stdout",
     "output_type": "stream",
     "text": [
      "```json\n",
      "{\n",
      "    \"metadata\": {\n",
      "        \"division\": \"N/A\",\n",
      "        \"page\": \"132\"\n",
      "    },\n",
      "    \"contents\": [\n",
      "        {\n",
      "            \"familyName\": \"Aceraceae\",\n",
      "            \"species\": [\n",
      "                {\n",
      "                    \"speciesName\": \"Acer campestre L.\",\n",
      "                    \"folders\": [\n",
      "                        {\n",
      "                            \"description\": \"1 folder. Acer campestre [TA]\",\n",
      "                            \"citations\": [\"N/A\"]\n",
      "                        }\n",
      "                    ]\n",
      "                },\n",
      "                {\n",
      "                    \"speciesName\": \"Acer pseudoplatanus L.\",\n",
      "                    \"folders\": [\n",
      "                        {\n",
      "                            \"description\": \"2 folders. Folder 1. Acer Pseudo-Platanus [G]. i. \\\"Maple. Bulls: [Bulstrode] Park\\\" [JL] Folder 2. Acer Pseudo-Platanus [TA].\",\n",
      "                            \"citations\": [\"N/A\"]\n",
      "                        }\n",
      "                    ]\n",
      "                }\n",
      "            ]\n",
      "        },\n",
      "        {\n",
      "            \"familyName\": \"Amaranthaceae\",\n",
      "            \"species\": [\n",
      "                {\n",
      "                    \"speciesName\": \"Amaranthus lividus L., Flora Europaea 1: 110 (1964)\",\n",
      "                    \"folders\": [\n",
      "                        {\n",
      "                            \"description\": \"1 folder. Amaranthus Blitum [TA]. i. Cites Ray's Syn. 1957. ii. \\\"Blite Amaranth. Aug.\\\" It is often found on Dunghills in the neighbourhood of London. I gather'd this on a Dunghill at Fulham near London\\\" [JL]. iii. \\\"Amaranthus Blitum. Monoec: 5. and:\\\" [JL]\",\n",
      "                            \"citations\": [\"N/A\"]\n",
      "                        }\n",
      "                    ]\n",
      "                }\n",
      "            ]\n",
      "        },\n",
      "        {\n",
      "            \"familyName\": \"Araliaceae\",\n",
      "            \"species\": [\n",
      "                {\n",
      "                    \"speciesName\": \"Hedera helix L.\",\n",
      "                    \"folders\": [\n",
      "                        {\n",
      "                            \"description\": \"1 folder. Hedera Helix [TA].\",\n",
      "                            \"citations\": [\"N/A\"]\n",
      "                        }\n",
      "                    ]\n",
      "                }\n",
      "            ]\n",
      "        },\n",
      "        {\n",
      "            \"familyName\": \"Aristolochiaceae\",\n",
      "            \"species\": [\n",
      "                {\n",
      "                    \"speciesName\": \"Asarum europaeum L.\",\n",
      "                    \"folders\": [\n",
      "                        {\n",
      "                            \"description\": \"1 folder. Asarum europaeum [TA]. i. \\\"Asarum europaeum Lin: Asarabacca. Anglis. ex horto\\\" [JL]\",\n",
      "                            \"citations\": [\"N/A\"]\n",
      "                        }\n",
      "                    ]\n",
      "                }\n",
      "            ]\n",
      "        },\n",
      "        {\n",
      "            \"familyName\": \"Balsaminaceae\",\n",
      "            \"species\": [\n",
      "                {\n",
      "                    \"speciesName\": \"Impatiens noli-tangere L.\",\n",
      "                    \"folders\": [\n",
      "                        {\n",
      "                            \"description\": \"1 folder. Impatiens Noli me tangere [G].\",\n",
      "                            \"citations\": [\"N/A\"]\n",
      "                        }\n",
      "                    ]\n",
      "                }\n",
      "            ]\n",
      "        },\n",
      "        {\n",
      "            \"familyName\": \"Betulaceae\",\n",
      "            \"species\": [\n",
      "                {\n",
      "                    \"speciesName\": \"Alnus glutinosa (L.) Gaertn.\",\n",
      "                    \"folders\": [\n",
      "                        {\n",
      "                            \"description\": \"1 folder. Betula Alnus [TA].\",\n",
      "                            \"citations\": [\"N/A\"]\n",
      "                        }\n",
      "                    ]\n",
      "                },\n",
      "                {\n",
      "                    \"speciesName\": \"Betula nana L.\",\n",
      "                    \"folders\": [\n",
      "                        {\n",
      "                            \"description\": \"1 folder. Betula nana [G].\",\n",
      "                            \"citations\": [\"N/A\"]\n",
      "                        }\n",
      "                    ]\n",
      "                }\n",
      "            ]\n",
      "        },\n",
      "        {\n",
      "            \"familyName\": \"Campanulaceae\",\n",
      "            \"species\": [\n",
      "                {\n",
      "                    \"speciesName\": \"Campanula latifolia L.\",\n",
      "                    \"folders\": [\n",
      "                        {\n",
      "                            \"description\": \"2 folders. Folder 1. Companula latifolia [TA]. Folder 2. Companula latifolia [G].\",\n",
      "                            \"citations\": [\"N/A\"]\n",
      "                        }\n",
      "                    ]\n",
      "                },\n",
      "                {\n",
      "                    \"speciesName\": \"Campanula patula L.\",\n",
      "                    \"folders\": [\n",
      "                        {\n",
      "                            \"description\": \"1 folder. Campanula patula [TA].\",\n",
      "                            \"citations\": [\"N/A\"]\n",
      "                        }\n",
      "                    ]\n",
      "                },\n",
      "                {\n",
      "                    \"speciesName\": \"Campanula rapunculus L.\",\n",
      "                    \"folders\": [\n",
      "                        {\n",
      "                            \"description\": \"2 folders. Folder 1. Campanula rapunculus [TA].\",\n",
      "                            \"citations\": [\"N/A\"]\n",
      "                        }\n",
      "                    ]\n",
      "                }\n",
      "            ]\n",
      "        },\n",
      "        {\n",
      "            \"familyName\": \"Phyteuma tenerum R.Schulz\",\n",
      "            \"species\": [\n",
      "                {\n",
      "                    \"speciesName\": \"Phyteuma tenerum R.Schulz\",\n",
      "                    \"folders\": [\n",
      "                        {\n",
      "                            \"description\": \"1 folder. Phyteuma orbicularis [TA].\",\n",
      "                            \"citations\": [\"N/A\"]\n",
      "                        }\n",
      "                    ]\n",
      "                }\n",
      "            ]\n",
      "        },\n",
      "        {\n",
      "            \"familyName\": \"Wahlenbergia hederacea (L.) Reichb.\",\n",
      "            \"species\": [\n",
      "                {\n",
      "                    \"speciesName\": \"Wahlenbergia hederacea (L.) Reichb.\",\n",
      "                    \"folders\": [\n",
      "                        {\n",
      "                            \"description\": \"2 folders. Folder 1. Campanula hederacea [TA]. i. \\\"Carmathenshire\\\" [JL].\",\n",
      "                            \"citations\": [\"N/A\"]\n",
      "                        }\n",
      "                    ]\n",
      "                }\n",
      "            ]\n",
      "        }\n",
      "    ]\n",
      "}\n",
      "```\n"
     ]
    }
   ],
   "source": [
    "print(out)"
   ]
  },
  {
   "cell_type": "code",
   "execution_count": null,
   "id": "2d9d3f5b-42fc-4e3a-b5a7-3eacb509ec8a",
   "metadata": {},
   "outputs": [],
   "source": []
  }
 ],
 "metadata": {
  "kernelspec": {
   "display_name": "Python 3 (ipykernel)",
   "language": "python",
   "name": "python3"
  },
  "language_info": {
   "codemirror_mode": {
    "name": "ipython",
    "version": 3
   },
   "file_extension": ".py",
   "mimetype": "text/x-python",
   "name": "python",
   "nbconvert_exporter": "python",
   "pygments_lexer": "ipython3",
   "version": "3.12.6"
  }
 },
 "nbformat": 4,
 "nbformat_minor": 5
}
