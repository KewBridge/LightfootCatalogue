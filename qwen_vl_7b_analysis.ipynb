{
 "cells": [
  {
   "cell_type": "code",
   "execution_count": 1,
   "id": "cd34f5dc-d941-4c56-b625-f3562cca9ab0",
   "metadata": {},
   "outputs": [
    {
     "name": "stdout",
     "output_type": "stream",
     "text": [
      "CPU times: user 599 ms, sys: 440 ms, total: 1.04 s\n",
      "Wall time: 1min 28s\n"
     ]
    }
   ],
   "source": [
    "%%time\n",
    "import json\n",
    "import pandas as pd\n",
    "import numpy as np\n",
    "import cv2\n",
    "from PIL import Image\n",
    "#from tesserocr import PyTessBaseAPI, PSM, RIL, PT\n",
    "import matplotlib.pyplot as plt"
   ]
  },
  {
   "cell_type": "code",
   "execution_count": 2,
   "id": "293f0b15-241f-4e92-808c-4cfba8f6fd61",
   "metadata": {},
   "outputs": [
    {
     "name": "stderr",
     "output_type": "stream",
     "text": [
      "/mnt/shared/scratch/ikarunak/apps/conda/envs/lightfootcat/lib/python3.12/site-packages/tqdm/auto.py:21: TqdmWarning: IProgress not found. Please update jupyter and ipywidgets. See https://ipywidgets.readthedocs.io/en/stable/user_install.html\n",
      "  from .autonotebook import tqdm as notebook_tqdm\n"
     ]
    },
    {
     "name": "stdout",
     "output_type": "stream",
     "text": [
      "CPU times: user 1.74 s, sys: 1.13 s, total: 2.87 s\n",
      "Wall time: 2min 58s\n"
     ]
    }
   ],
   "source": [
    "%%time\n",
    "import lib.utils as utils\n",
    "import lib.config as config\n",
    "import lib.model as model\n",
    "import lib.roi as roi\n",
    "import lib.split_pages as spages\n",
    "import lib.utils as utils"
   ]
  },
  {
   "cell_type": "code",
   "execution_count": 3,
   "id": "c1ff61ac-acfe-4528-b22f-17f2d926363a",
   "metadata": {},
   "outputs": [],
   "source": [
    "image_path = \"images/cropped/The_Lightfoot_Herbarium_05_cropped_1.jpg\"\n",
    "image_dir = \"images/cropped/\""
   ]
  },
  {
   "cell_type": "code",
   "execution_count": 4,
   "id": "6d86f2b6-6f64-498a-b392-20f878d09fbc",
   "metadata": {},
   "outputs": [],
   "source": [
    "images = utils.load_images(image_dir)[:2]"
   ]
  },
  {
   "cell_type": "code",
   "execution_count": 5,
   "id": "1aa5c4d7-91ce-4656-bffd-dfc3a07ce519",
   "metadata": {},
   "outputs": [],
   "source": [
    "newprompt = \"\"\"\n",
    "Process this image in two steps:\n",
    "\n",
    "Step 1: Turn the text in this picture into markdown. Indicate italics. Indent lines which discuss folder contents as unordered lists\n",
    "\n",
    "Step 2: Convert the markdown text that you created in step 1 into JSON. Use the heading texts as keys, and the folder details as nested numbered lists\n",
    "\n",
    "Your output should consist of the markdown text\n",
    "\"\"\""
   ]
  },
  {
   "cell_type": "code",
   "execution_count": 6,
   "id": "c5df0930-6a4b-4cab-a10f-d578ee921b14",
   "metadata": {},
   "outputs": [
    {
     "name": "stderr",
     "output_type": "stream",
     "text": [
      "`Qwen2VLRotaryEmbedding` can now be fully parameterized by passing the model config through the `config` argument. All other arguments will be removed in v4.46\n",
      "Loading checkpoint shards: 100%|███████████████████████████████████████████████████████████████████████| 5/5 [00:03<00:00,  1.53it/s]\n"
     ]
    }
   ],
   "source": [
    "qwen_model = model.QWEN_Model(prompt=newprompt, batch_size=2)"
   ]
  },
  {
   "cell_type": "code",
   "execution_count": 7,
   "id": "f28537e6-1bd3-4c1f-a9a2-312376a8592b",
   "metadata": {
    "scrolled": true
   },
   "outputs": [
    {
     "name": "stdout",
     "output_type": "stream",
     "text": [
      ">>> Using: \n",
      " \tMaximum new tokens = 5000 \n",
      " \tBatch size = 2 \n",
      " \tsave_path = None\n",
      ">>> Batch 1 starting...\n",
      "\tProcessing text prompts...\n",
      "\tReading Images...\n",
      "\tProcessing inputs...\n",
      "\tMoving inputs to gpu...\n",
      "\tPerforming inference...\n",
      "\tInference Finished\n",
      "tensor([[151643, 151643, 151643,  ..., 151643, 151643, 151643],\n",
      "        [151644,   8948,    198,  ...,    935,  73594, 151645]])\n",
      "\tSeperating Ids...\n",
      "[tensor([ 14374,   3757,   8658,  ..., 151643, 151643, 151643]), tensor([ 73594,  60073,    198,  ...,    935,  73594, 151645])]\n",
      "\tDecoding Ids...\n",
      "['### John Lightfoot\\n\\n#### pauciflorus Lightfoot]\\n- \"Scirpus pauciflorus. Scotland. β\" [JL]\\n- \"My Scirpus pauciflorus. Flor: Scot: appendix. Some of the Specimens by Teesdale [possibly Mr. Teesdale, rather than the place] from Yorkshire. Scheuch. Agr: t. 7, f. 9, Pag: 364. I have examined & found it not to be the Schoenus ferrugineus Lin: because it has no Involucrum mucronatum, & is much smaller & more pliant. It certainly is different from Scirpus caespitosus as having truncated vaginae & c.\" [JL]\\n\\n#### Eleogiton fluitans (L.) Link\\n- 2 folders.\\n  - Folder 1. Scirpus fluitans [TA], Flora Scotica ed. 1, 88 (1777).\\n    - i. Cites Linn. Sp. Pl. 71; Ray\\'s Syn. 431; Moris. Sect. 8, t. 10, f. 31; Pluk. t. 35, f. 1.\\n    - ii. \"Scirpus fluitans\" [JL]\\n    - iii. \"Floating Club-rush. In Gravel Pits that have been full of Water in the Winter, upon Hounslow-Heath, Wandsworth Common, Hillingdon Heath near Uxbridge, & c. July\" [JL]\\n    - iv. \"Hounslow Heath\" [?]\\n  - Folder 2. Scirpus fluitans [G].\\n    - i. Cites Linn. Sp. Pl. 71; Ray\\'s Syn. 431.\\n    - ii. \"Scirpus fluitans\" [JL]\\n    - iii. \"Floating Club-rush. In Ponds & Gravel Pits that are dry\\'d up in the Summer. July & August\" [JL]\\n    - iv. \"Scirpus fluitans? Teesdale [possibly Mr. Teesdale], Yorkshire\" [JL]\\n\\n#### Isolepis setacea (L.) R.Br.\\n- 1 folder. Scirpus Setaceus [TA], Flora Scotica ed. 1, 88 (1777).\\n  - i. Cites Linn. Sp. Pl. 73; Ray\\'s Syn. 430; Moris. Hist. Sect. 8, t. 10, f. 23.\\n  - ii. \"Scirpus setaceus\" [JL]\\n  - iii. \"The Least Rush. In gravelly & sandy Places that are a little moist. It is an Annual, & flourishes in July & Aug.\"\\n\\n#### Rhynchospora alba (L.) Vahl\\n- 2 folders.\\n  - Folder 1. Schoenus albus [TA], Flora Scotica ed. 1, 87 (1777).\\n    - i. Cites Linn. Sp. Pl. 65; Ray\\'s Syn. 427.\\n    - ii. \"White-flowered Schoenus or Rush-Grass. In Bogs, as at Virginy Water [Virginia Water near Bagshot in Surrey] between Egham & Bagshot, & in a Bog between West Wickham & Croydon in Surrey. July\"\\n    - iii. \"Schoenus albus\" [JL]\\n  - Folder 2. Schoenus albus [G].\\n\\n#### Rhynchospora fusca (L.) Ait. f.\\n- 2 folders.\\n  - Folder 1. Schoenus ferrugineus [G].\\n    - i. \"A mile before you come to Wareham from Weymouth\" [JL]\\n\\n#### Eriophorum vaginatum L.\\n- 2 folders.\\n  - Folder 1. Eriophorum vaginatum', '```markdown\\n# John Lightfoot\\n\\n## Banks\\n- [JL] P.H. Raven identified this specimen as *C. alpina*.\\n\\n## Folder 2: Circaea alpina ex horto\\n- [JL]\\n\\n### Circaea lutetiana L.\\n- 1 folder. *Circaea lutetiana* [TA], i. \"Circaea lutetiana\" [JL]. ii. \"Circaea lutetiana. Racemo unico. Common in our Woods. I wanted to see a perfect Specimen of the Alpina; for I have long suspected that it is only this Variety\" [B]; \"Bryant\" [JL]; \"The C. alpina differs in habit of Growth. I sent Roots of C - alpina\" [JL].\\n\\n### Epilobium anagallidifolium Lam.\\n- 1 folder and 1 sheet.\\n- Folder 1. *Epilobium alpinum* [TA], Flora Scotica ed. 1, t. 199, 1122 (1777). i. \"Epilobium alpinum Lin: From Ben-Lomond in Scotland\" [JL]. ii. \"from Loch-Broom Mountains in Ross-shire Scotland\" [JL].\\n- Sheet 1. *Epilobium alpinum* [G].\\n\\n### Epilobium hirsutum L.\\n- 1 folder. *Epilobium hirsutum* [TA]; *E. ramosum* [G]. i. \"Epilobium ramosum. Huds: Epilobium hirsutum. Lin:\" [JL].\\n\\n### Epilobium montanum L.\\n- 1 folder. *Epilobium montanum* [TA]. i. \"Epilobium montanum\" [JL]. ii. \"Bulls Grove [grove in Bulstrode Park]\" [JL].\\n\\n### Epilobium palustre L.\\n- 1 folder and 1 sheet.\\n- Folder 1. *Epilobium palustre* [TA]. i. \"Epilobium palustre var. β Lin: In the Bogs at Virginia Water on Bagshot Heath; a large Specimen\" [JL].\\n- Sheet 1. *Epilobium palustre* [G].\\n\\n### Epilobium parviflorum Schreb.\\n- 1 folder. *Epilobium hirsutum* [G]. i. \"Epilobium hirsutum Huds: sed var. β. Epilob: hirsut: Rodmoor near Newent, Glocestershire\" [JL]. ii. \"Epilobium hirsutum. Small-flower’d hairy Willow herb. Rodmore\" [JL].\\n\\n### Epilobium tetragonum L.\\n- 1 folder. *Epilobium tetragonum* [TA].\\n\\n## Folder 1: Oxalis acetosella [TA]\\n- 1 folder. *Oxalis acetosella* [TA].\\n\\n## Folder 1: Chelidonium majus [TA]\\n- 1 folder. *Chelidonium majus* [TA].\\n\\n## Folder 1: Corydalis claviculata (L.) DC.\\n- 2 folders.\\n- Folder 1. *Fumaria claviculata* [G], Flora Scotica ed. 1, 380 (1777).\\n- Folder 2. *Fumaria claviculata* [TA].\\n\\n## Folder 1: Fumaria? bastardii Boreau\\n- 1 folder. *Fumaria capreolata* [L]: f: [TA]. i. \"F: capreolata\" [JL]. [Probably *F. bastardii* but specimen is inadequate for definite determination.]\\n\\n## Folder 1: Fumaria officinalis L.\\n- 1 folder. *Fumaria officinalis* [TA]. i. \"Cowleyfield [near Uxbridge in Middlesex]. Common Fumitory\" [JL].\\n\\n## Folder 1: Glaucium flavum Crantz\\n- 2 folders.\\n- Folder 1. *Chelidonium Glaucium* [G], Flora Scotica ed. 1, 279 (1777). i. \"Portland\" [JL].\\n- Folder 2. *Chelidonium Glaucium* [TA]. i. \"Chelidonium Glaucium\" [JL].\\n\\n## Folder 1: Meconopsis cambrica (L.) Vig.\\n- 1 folder. *Papaver cambricum* [TA]. i. \"Papaver Cambricum\" [JL].\\n\\n## Folder 1: Papaver argemone L.\\n- 1 folder and 1 sheet.\\n- Folder 1. *Papaver argemone* [TA]. i. \"Papaver Argemone\" [JL]. ii. \"Papaver Argemone. Very common all round Norwich\" [B]. iii. \"Hoddesdon [near Hertford]. Cornfields. July\" [JL].\\n- Sheet 1. *Papaver argemone* [TA].\\n\\n## Folder 1: Papaver hybridum L.\\n- 2 folders.\\n- Folder 1. *Papaver hybridum* [TA]. i. \"Papaver hybridum. caps: globos: torosis hispidis\" [JL]. ii. \"Papaver hybridum. The plant was dried up when I found it\" [P];\\n```']\n",
      "\tSeperating Outputs...\n",
      "\tOutputs stored!\n"
     ]
    }
   ],
   "source": [
    "outputs = qwen_model.batch_infer(images, save=False, debug=True)"
   ]
  },
  {
   "cell_type": "code",
   "execution_count": 8,
   "id": "4e3e81fb-08f6-43e4-b8e6-330fc04768e9",
   "metadata": {},
   "outputs": [],
   "source": [
    "out = outputs[0][1]"
   ]
  },
  {
   "cell_type": "code",
   "execution_count": 9,
   "id": "17cf6907-5f82-41be-b43d-c7ff43d7699e",
   "metadata": {},
   "outputs": [
    {
     "data": {
      "text/plain": [
       "'### John Lightfoot\\n\\n#### pauciflorus Lightfoot]\\n- \"Scirpus pauciflorus. Scotland. β\" [JL]\\n- \"My Scirpus pauciflorus. Flor: Scot: appendix. Some of the Specimens by Teesdale [possibly Mr. Teesdale, rather than the place] from Yorkshire. Scheuch. Agr: t. 7, f. 9, Pag: 364. I have examined & found it not to be the Schoenus ferrugineus Lin: because it has no Involucrum mucronatum, & is much smaller & more pliant. It certainly is different from Scirpus caespitosus as having truncated vaginae & c.\" [JL]\\n\\n#### Eleogiton fluitans (L.) Link\\n- 2 folders.\\n  - Folder 1. Scirpus fluitans [TA], Flora Scotica ed. 1, 88 (1777).\\n    - i. Cites Linn. Sp. Pl. 71; Ray\\'s Syn. 431; Moris. Sect. 8, t. 10, f. 31; Pluk. t. 35, f. 1.\\n    - ii. \"Scirpus fluitans\" [JL]\\n    - iii. \"Floating Club-rush. In Gravel Pits that have been full of Water in the Winter, upon Hounslow-Heath, Wandsworth Common, Hillingdon Heath near Uxbridge, & c. July\" [JL]\\n    - iv. \"Hounslow Heath\" [?]\\n  - Folder 2. Scirpus fluitans [G].\\n    - i. Cites Linn. Sp. Pl. 71; Ray\\'s Syn. 431.\\n    - ii. \"Scirpus fluitans\" [JL]\\n    - iii. \"Floating Club-rush. In Ponds & Gravel Pits that are dry\\'d up in the Summer. July & August\" [JL]\\n    - iv. \"Scirpus fluitans? Teesdale [possibly Mr. Teesdale], Yorkshire\" [JL]\\n\\n#### Isolepis setacea (L.) R.Br.\\n- 1 folder. Scirpus Setaceus [TA], Flora Scotica ed. 1, 88 (1777).\\n  - i. Cites Linn. Sp. Pl. 73; Ray\\'s Syn. 430; Moris. Hist. Sect. 8, t. 10, f. 23.\\n  - ii. \"Scirpus setaceus\" [JL]\\n  - iii. \"The Least Rush. In gravelly & sandy Places that are a little moist. It is an Annual, & flourishes in July & Aug.\"\\n\\n#### Rhynchospora alba (L.) Vahl\\n- 2 folders.\\n  - Folder 1. Schoenus albus [TA], Flora Scotica ed. 1, 87 (1777).\\n    - i. Cites Linn. Sp. Pl. 65; Ray\\'s Syn. 427.\\n    - ii. \"White-flowered Schoenus or Rush-Grass. In Bogs, as at Virginy Water [Virginia Water near Bagshot in Surrey] between Egham & Bagshot, & in a Bog between West Wickham & Croydon in Surrey. July\"\\n    - iii. \"Schoenus albus\" [JL]\\n  - Folder 2. Schoenus albus [G].\\n\\n#### Rhynchospora fusca (L.) Ait. f.\\n- 2 folders.\\n  - Folder 1. Schoenus ferrugineus [G].\\n    - i. \"A mile before you come to Wareham from Weymouth\" [JL]\\n\\n#### Eriophorum vaginatum L.\\n- 2 folders.\\n  - Folder 1. Eriophorum vaginatum'"
      ]
     },
     "execution_count": 9,
     "metadata": {},
     "output_type": "execute_result"
    }
   ],
   "source": [
    "out"
   ]
  },
  {
   "cell_type": "code",
   "execution_count": null,
   "id": "433642d5-242a-4460-9115-4649151cc5dc",
   "metadata": {},
   "outputs": [],
   "source": []
  }
 ],
 "metadata": {
  "kernelspec": {
   "display_name": "Python 3 (ipykernel)",
   "language": "python",
   "name": "python3"
  },
  "language_info": {
   "codemirror_mode": {
    "name": "ipython",
    "version": 3
   },
   "file_extension": ".py",
   "mimetype": "text/x-python",
   "name": "python",
   "nbconvert_exporter": "python",
   "pygments_lexer": "ipython3",
   "version": "3.12.6"
  }
 },
 "nbformat": 4,
 "nbformat_minor": 5
}
