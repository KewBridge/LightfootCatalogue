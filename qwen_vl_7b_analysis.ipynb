{
 "cells": [
  {
   "cell_type": "code",
   "execution_count": null,
   "id": "32d8a20c-e910-437f-ad67-55076c27a9c3",
   "metadata": {},
   "outputs": [],
   "source": [
    "import os   \n",
    "\\\n",
    "os.environ[\"PYTORCH_CUDA_ALLOC_CONF\"] = \"expandable_segments:True\"\n",
    "os.environ[\"TORCH_USE_CUDA_DSA\"] = \"1\"\n"
   ]
  },
  {
   "cell_type": "code",
   "execution_count": null,
   "id": "293f0b15-241f-4e92-808c-4cfba8f6fd61",
   "metadata": {},
<<<<<<< HEAD
   "outputs": [
    {
     "name": "stdout",
     "output_type": "stream",
     "text": [
      "CPU times: user 365 ms, sys: 292 ms, total: 657 ms\n",
      "Wall time: 17.4 s\n"
     ]
    }
   ],
=======
   "outputs": [],
>>>>>>> 980dad0a87ee225e54823166fcf81ade420cda5e
   "source": [
    "%%time\n",
    "import lib.utils.utils as utils\n",
    "from run import get_images\n",
    "#import lib.config as config\n",
    "from lib.model.base_model import BaseModel\n",
    "#import lib.roi as roi\n",
    "#import lib.split_pages as spages\n",
    "from lib.utils.promptLoader import PromptLoader"
   ]
  },
  {
   "cell_type": "code",
   "execution_count": null,
   "id": "c1ff61ac-acfe-4528-b22f-17f2d926363a",
   "metadata": {},
   "outputs": [],
   "source": [
    "image_path = \"images/cropped/The_Lightfoot_Herbarium_05_cropped_2.jpg\"\n",
    "image_dir = \"images/cropped/\"\n",
    "default_yaml = \"./prompts/default_v2_fromtext.yaml\"\n",
    "conversation = None\n",
    "if default_yaml is None:\n",
    "     conversation = [dict(role=\"user\", content=[dict(type=\"image\"), \n",
    "                    dict(type=\"text\", \n",
    "                         text=\"Extract the text from both columns in the image, preserving the structure and formatting, ensure no grammatical correction is performed.\")])]"
   ]
  },
  {
   "cell_type": "code",
   "execution_count": null,
   "id": "930fe29a",
   "metadata": {},
   "outputs": [],
   "source": [
    "print(image_path)"
   ]
  },
  {
   "cell_type": "code",
   "execution_count": null,
   "id": "6d86f2b6-6f64-498a-b392-20f878d09fbc",
   "metadata": {},
   "outputs": [],
   "source": [
    "images = sorted(utils.load_images(image_dir))[:10]"
   ]
  },
  {
   "cell_type": "code",
   "execution_count": null,
   "id": "08981e56-48ba-45ad-b918-02db61c9ed0e",
   "metadata": {},
   "outputs": [],
   "source": [
    "images"
   ]
  },
  {
   "cell_type": "code",
<<<<<<< HEAD
   "execution_count": 8,
   "id": "c5df0930-6a4b-4cab-a10f-d578ee921b14",
   "metadata": {},
   "outputs": [
    {
     "name": "stderr",
     "output_type": "stream",
     "text": [
      "/mnt/shared/scratch/ikarunak/apps/conda/envs/lightfootcat/lib/python3.12/site-packages/transformers/generation/configuration_utils.py:601: UserWarning: `do_sample` is set to `False`. However, `temperature` is set to `0.4` -- this flag is only used in sample-based generation modes. You should set `do_sample=True` or unset `temperature`. This was detected when initializing the generation config instance, which means the corresponding file may hold incorrect parameterization and should be fixed.\n",
      "  warnings.warn(\n",
      "/mnt/shared/scratch/ikarunak/apps/conda/envs/lightfootcat/lib/python3.12/site-packages/transformers/generation/configuration_utils.py:601: UserWarning: `do_sample` is set to `False`. However, `temperature` is set to `0.4` -- this flag is only used in sample-based generation modes. You should set `do_sample=True` or unset `temperature`.\n",
      "  warnings.warn(\n",
      "Loading checkpoint shards: 100%|██████████| 5/5 [00:25<00:00,  5.09s/it]\n"
     ]
    },
    {
     "name": "stdout",
     "output_type": "stream",
     "text": [
      "CPU times: user 2.82 s, sys: 9.29 s, total: 12.1 s\n",
      "Wall time: 28.2 s\n"
     ]
    }
   ],
=======
   "execution_count": null,
   "id": "c5df0930-6a4b-4cab-a10f-d578ee921b14",
   "metadata": {},
   "outputs": [],
>>>>>>> 980dad0a87ee225e54823166fcf81ade420cda5e
   "source": [
    "%%time\n",
    "model = BaseModel(\"qwen_model\", prompt=default_yaml, conversation=conversation, max_new_tokens = 100000, batch_size=1, temperature=0.4)"
   ]
  },
  {
   "cell_type": "code",
   "execution_count": null,
<<<<<<< HEAD
=======
   "id": "7e825c61-4bf7-45bc-b0ab-718e1464f464",
   "metadata": {
    "scrolled": true
   },
   "outputs": [],
   "source": [
    "model.conversation"
   ]
  },
  {
   "cell_type": "code",
   "execution_count": null,
>>>>>>> 980dad0a87ee225e54823166fcf81ade420cda5e
   "id": "f28537e6-1bd3-4c1f-a9a2-312376a8592b",
   "metadata": {
    "scrolled": true
   },
<<<<<<< HEAD
   "outputs": [
    {
     "name": "stdout",
     "output_type": "stream",
     "text": [
      "Model: qwen_model | Batch Size: 1, Max Tokens: 100000, Temperature: 0.4\n",
      "Skipping extraction...\n",
      "Loading text from provided extracted text file\n",
      "Converting extracted text into Text Blocks\n",
      "Organising text into JSON blocks\n"
     ]
    },
    {
     "name": "stderr",
     "output_type": "stream",
     "text": [
      "Processing Families in Dicotyledones:   0%|          | 0/12 [00:00<?, ?family/s]"
     ]
    },
    {
     "name": "stderr",
     "output_type": "stream",
     "text": [
      "Processing Families in Dicotyledones: 100%|██████████| 12/12 [11:10<00:00, 55.90s/family] "
     ]
    },
    {
     "name": "stdout",
     "output_type": "stream",
     "text": [
      "CPU times: user 10min 52s, sys: 7.43 s, total: 10min 59s\n",
      "Wall time: 11min 10s\n"
     ]
    },
    {
     "name": "stderr",
     "output_type": "stream",
     "text": [
      "\n"
     ]
    }
   ],
=======
   "outputs": [],
>>>>>>> 980dad0a87ee225e54823166fcf81ade420cda5e
   "source": [
    "%%time\n",
    "outputs = model(images, save=False, debug=False)"
   ]
  },
  {
   "cell_type": "code",
   "execution_count": 10,
   "id": "14151048",
   "metadata": {},
   "outputs": [
    {
     "name": "stdout",
     "output_type": "stream",
     "text": [
      "{'Dicotyledones': ['{\\n  \"familyName\": \"ACERACEAE\",\\n  \"species\": [\\n    {\\n      \"speciesName\": \"Acer campestre L.\",\\n      \"folders\": [\\n        {\\n          \"description\": \"Acer campestre [TA]\"\\n        }\\n      ]\\n    },\\n    {\\n      \"speciesName\": \"Acer pseudoplatanus L.\",\\n      \"folders\": [\\n        {\\n          \"description\": \"Acer Pseudo-Platanus [G]. i. \\\\\"Maple. Bulls: [Bulstrode] Park\\\\\" [JL]\"\\n        },\\n        {\\n          \"description\": \"Acer Pseudo-Platanus [TA].\"\\n        }\\n      ]\\n    }\\n  ]\\n}', '{\\n  \"familyName\": \"AMARANTHACEAE\",\\n  \"species\": [\\n    {\\n      \"speciesName\": \"Amaranthus lividus L.\",\\n      \"folders\": [\\n        {\\n          \"description\": \"Amaranthus Blitum [TA]. i. Cites Ray\\'s\\'s Syn. 1957. ii. \\\\\"Blite Amaranth. Aug.\\\\\" It is often found on Dunghills in the neighbourhood of London. I gather\\'d this on a Dunghill at Fulham near London\\\\\" [JL]. iii. \\\\\"Amaranthus Blitum. Monoec: 5. and:\\\\\" [JL]\"\\n        }\\n      ]\\n    }\\n  ]\\n}', '{\\n  \"familyName\": \"ARALACEae\",\\n  \"species\": [\\n    {\\n      \"speciesName\": \"Hederaa helix L.\",\\n      \"folders\": [\\n        {\\n          \"description\": \"Hederaa Helix [TA].\"\\n        }\\n      ]\\n    }\\n  ]\\n}', '{\\n  \"familyName\": \"ARISTOLOCHIACEAE\",\\n  \"species\": [\\n    {\\n      \"speciesName\": \"Asarum europaeum L.\",\\n      \"folders\": [\\n        {\\n          \"description\": \"Asarum europaeum [TA]. i. \\\\\"Asarum europaeum Lin: Asara- baccia. Anglis. ex horto\\\\\" [JL]\"\\n        }\\n      ]\\n    }\\n  ]\\n}', '{\\n  \"familyName\": \"BALSAMiNACEAE\",\\n  \"species\": [\\n    {\\n      \"speciesName\": \"Impatiens noli-tangere L.\",\\n      \"folders\": [\\n        {\\n          \"description\": \"Impatiens Noli me tangere [G].\"\\n        }\\n      ]\\n    }\\n  ]\\n}', '{\\n  \"familyName\": \"BETULACEAE\",\\n  \"species\": [\\n    {\\n      \"speciesName\": \"Alnus glutinosa (L.) Gaertn.\",\\n      \"folders\": [\\n        {\\n          \"description\": \"Betula Alnus [TA]\"\\n        }\\n      ]\\n    },\\n    {\\n      \"speciesName\": \"Betula nana L.\",\\n      \"folders\": [\\n        {\\n          \"description\": \"Betula nana [G]\"\\n        }\\n      ]\\n    }\\n  ]\\n}', '{\\n  \"familyName\": \"CAMPANULaceAE\",\\n  \"species\": [\\n    {\\n      \"speciesName\": \"Campanula latifolia L.\",\\n      \"folders\": [\\n        {\\n          \"description\": \"Companula latifolia [TA]\"\\n        },\\n        {\\n          \"description\": \"Companula latifolia [G]\"\\n        }\\n      ]\\n    },\\n    {\\n      \"speciesName\": \"Campanula patula L.\",\\n      \"folders\": [\\n        {\\n          \"description\": \"Campanula patula [TA]\"\\n        }\\n      ]\\n    },\\n    {\\n      \"speciesName\": \"Campanula rapunculus L.\",\\n      \"folders\": [\\n        {\\n          \"description\": \"Campanula rapunculus [TA]\"\\n        },\\n        {\\n          \"description\": \"Campanula rapunculus [G]\"\\n        }\\n      ]\\n    },\\n    {\\n      \"speciesName\": \"Campanula rotundifolia L.\",\\n      \"folders\": [\\n        {\\n          \"description\": \"Campanula rotundifolia [TA]\"\\n        },\\n        {\\n          \"description\": \"Near Perth [JL]\"\\n        }\\n      ]\\n    },\\n    {\\n      \"speciesName\": \"Campanula trachelium L.\",\\n      \"folders\": [\\n        {\\n          \"description\": \"Campanula Trachelium [TA]\"\\n        },\\n        {\\n          \"description\": \"Campanula Trachelium [G]\"\\n        }\\n      ]\\n    },\\n    {\\n      \"speciesName\": \"Jasione montanaa L.\",\\n      \"folders\": [\\n        {\\n          \"description\": \"Jasione montanaa [TA]\"\\n        }\\n      ]\\n    },\\n    {\\n      \"speciesName\": \"Legousia hybrida (L.) Delarb.\",\\n      \"folders\": [\\n        {\\n          \"description\": \"Campanula hybrida [TA]\"\\n        }\\n      ]\\n    },\\n    {\\n      \"speciesName\": \"Lobelia dortmannna L.\",\\n      \"folders\": [\\n        {\\n          \"description\": \"Lobelia Dortmannna [TA]\"\\n        },\\n        {\\n          \"description\": \"Lobelia Dortmannna [G]\"\\n        },\\n        {\\n          \"description\": \"Cites Ray\\'s\\'s Syn. 287\"\\n        },\\n        {\\n          \"description\": \"Water Gladiole. July & August. In the Lakes of North Wales & Westmoreland [JL]\"\\n        },\\n        {\\n          \"description\": \"Lobel: Dortmannna from Angle- seye [JL]\"\\n        }\\n      ]\\n    },\\n    {\\n      \"speciesName\": \"Lobelia urens L.\",\\n      \"folders\": [\\n        {\\n          \"description\": \"Lobelia urens [G]\"\\n        },\\n        {\\n          \"description\": \"Cites Ray\\'s\\'s Hist. 746\"\\n        },\\n        {\\n          \"description\": \" Habitat solum humidum & spongiosum Ericeti cujusdam Shute Common dicti Devoniae, inter paludem turfosam & viam publicican quae ab Axminster ad Honiton dicit. Plures plantas primum invenit Dom: Newbury e Coll: Exon: Oxon: circiter finem Octo- bris, Anno 1768\"\\n        },\\n        {\\n          \"description\": \"From Devonshire [JL]\"\\n        },\\n        {\\n          \"description\": \"Lobelia urens [TA]\"\\n        },\\n        {\\n          \"description\": \"Lobelia urens [G]\"\\n        }\\n      ]\\n    },\\n    {\\n      \"speciesName\": \"Phyteuma tenerum R.Schulz\",\\n      \"folders\": [\\n        {\\n          \"description\": \"Phyteuma orbicularis [TA]\"\\n        }\\n      ]\\n    },\\n    {\\n      \"speciesName\": \"Wahlenbergia hederacea (L.) Reichb.\",\\n      \"folders\": [\\n        {\\n          \"description\": \"Campanula hederacea [TA]\"\\n        },\\n        {\\n          \"description\": \"Campanula hederacea [G]\"\\n        },\\n        {\\n          \"description\": \"Carmathenshire [JL]\"\\n        },\\n        {\\n          \"description\": \"Devon & Cornwall [JL]\"\\n        }\\n      ]\\n    }\\n  ]\\n}', '{\\n  \"familyName\": \"CAPRIFOLIACEAE\",\\n  \"species\": [\\n    {\\n      \"speciesName\": \"Linnaea borealis L.\",\\n      \"folders\": [\\n        {\\n          \"description\": \"1 sheet. Linnaea borealis [JL]. i. Cites Linn. Sp. Pl. 631; Bauh. Pin. 93. ii. \\'This is a Native of Sweden, Siberia, Switzerland, Russia, Canada, & c. this Specimen was gathered & communicated by Jos: Banks Esqr. who discover\\'d it in Abundance in the Woods in Newfoundland\\' [JL]. iii. \\'In Scotland—See English Botany N.433\\' [? G].\"\\n        }\\n      ]\\n    },\\n    {\\n      \"speciesName\": \"Lonicera periclylyenum L.\",\\n      \"folders\": [\\n        {\\n          \"description\": \"1 folder. Lonicera periclylyymen [TA].\"\\n        }\\n      ]\\n    },\\n    {\\n      \"speciesName\": \"Viburnum lantan L.\",\\n      \"folders\": [\\n        {\\n          \"description\": \"1 folder. Viburnum lantan [TA].\"\\n        }\\n      ]\\n    },\\n    {\\n      \"speciesName\": \"Viburnum opulus L.\",\\n      \"folders\": [\\n        {\\n          \"description\": \"1 folder. Viburnum opulus [TA].\"\\n        }\\n      ]\\n    }\\n  ]\\n}', '{\\n  \"familyName\": \"CARYOPHYLLACEAE\",\\n  \"species\": [\\n    {\\n      \"speciesName\": \"Arenaria serpyllifolia\",\\n      \"folders\": [\\n        {\\n          \"description\": \"Arenaria Serpyllifolia [TA]\"\\n        }\\n      ]\\n    },\\n    {\\n      \"speciesName\": \"Bufonia tenuifolia\",\\n      \"folders\": [\\n        {\\n          \"description\": \"Bufonia Tenuifolia [TA]\"\\n        }\\n      ]\\n    },\\n    {\\n      \"speciesName\": \"Cerastium alpinum\",\\n      \"folders\": [\\n        {\\n          \"description\": \"Cerastium latifolium [G]. i. Cites Ray\\'s Syn. 349. ii. \\\\\"Cerastium alpinum. this was gathered upon Snowdon at the top of the highest Rock call\\'d Clogwyn y Garnededh. June\\\\\" [JL]. iii. \\\\\"Top of Snowdon\\\\\" [JL]. iv. \\\\\"Dr. Solander affirms this to be the true Cerastium alpinum. I had it from Snowdon. He found it at Terra del Fuego & named it C. hirtum with a mark of Dubitation, but now thinks them both one\\\\\" [JL].\"\\n        },\\n        {\\n          \"description\": \"Cerastium alpinum [TA]; Cerastium latifolium [G]. i. \\\\\"Clogwyn u\\\\\" [JL]. ii. \\\\\"Cerast: alpin: Ben Lomond\\\\\" [JL]\"\\n        }\\n      ]\\n    },\\n    {\\n      \"speciesName\": \"Cerastium arcticum\",\\n      \"folders\": [\\n        {\\n          \"description\": \"Cerastium alpinum [G]. i. \\\\\"Anglesey. Cerastium alpinum. Q: an Var: aut nova species? Fig: Cerast: alp: non quadr: Flor: Dan: The Fig: in the fl. Dan: of Cerast: alpinum agrees with this, only only taller & more branched, bearing 6 flowers, capsulis oblongis. In the Fl. Lapponic: Lin: says this Plant commonly produced 1 or 2 flowers when wild\\\\\" [JL]. ii. \\\\\"Cerastium alpinum? Newfoundland. The Flor: Dan: agrees well with the tall one. I believe the others to be nothing but Varieties\\\\\" [JL]. [Only two specimens in folder; on left C. arcticum, probably the plant from Anglesey; on right C. arvense, maybe the specimen from Newfoundland collected by Joseph Banks.]\"\\n        },\\n        {\\n          \"description\": \"Cerastium uniflorum [TA]; Cerastium alpinum? [G]. i. \\\\\"Cerastium latifolium? This was gathered on Mount Snowdon by the Sides of the the Rivulets to the North of Wyddfa by the Revd Mr Williams. June & July\\\\\" [JL]\"\\n        }\\n      ]\\n    },\\n    {\\n      \"speciesName\": \"Cerastium arvense\",\\n      \"folders\": [\\n        {\\n          \"description\": \"Cerastium arvense [TA]. i. \\\\\"Cerastium arvense. This must be right tho\\' the leaf are hoary\\\\\" [JL]. ii. \\\\\"Cerastium arvense. Very common in Norfolk. Why does Lin. put the word glabris in his Specific Description in opposition to truth & the Testimony of all Authors\\\\\" [B].\"\\n        },\\n        {\\n          \"description\": \"Cerastium arvense [G]. [See also under C. arcticum Folder 1.]\"\\n        }\\n      ]\\n    },\\n    {\\n      \"speciesName\": \"Cerastium fontanum\",\\n      \"folders\": [\\n        {\\n          \"description\": \"Cerastium vulgaris [TA]; C. vulgatum Huds. and C. viscosum Linn. [G]. i. \\\\\"Pray inform me whether this be Cerastium vulgaris or Cerast: viscosum, & wch of the Figures in Vaillant: Paris: agrees with it, for Linnaeus & Haller seem to contradict each other. In meadows, June. Mr Banks\\'s vulgaris\\\\\" [JL].\"\\n        }\\n      ]\\n    },\\n    {\\n      \"speciesName\": \"Cucubalus baccifer\",\\n      \"folders\": [\\n        {\\n          \"description\": \"Bulstrode\" [JL]\"\\n        },\\n        {\\n          \"description\": \"Bulstrode\" [JL]\"\\n        },\\n        {\\n          \"description\": \"Cucubalus baccifer [G]\"\\n        }\\n      ]\\n    },\\n    {\\n      \"speciesName\": \"Diananthus armereria\",\\n      \"folders\": [\\n        {\\n          \"description\": \"Diananthus armereria [TA]\"\\n        }\\n      ]\\n    },\\n    {\\n      \"speciesName\": \"Diananthus caryophyllus\",\\n      \"folders\": [\\n        {\\n          \"description\": \"Diananthus caryophyllus [TA]. i. \\\\\"Diananthus caryophyllus Lin: Ray Syn: p. 336. no. 3. on Rochester Castle Wallss & c.\\\\\" [JL]. ii. \\\\\"& singlele Clove mentioned in Ray on Rochester Walls\\\\\" [?]; \\\\\"??? is this not from a Garden\\\\\" [JL].\"\\n        }\\n      ]\\n    },\\n    {\\n      \"speciesName\": \"Diananthus deltoides\",\\n      \"folders\": [\\n        {\\n          \"description\": \"Diananthus glaucus? [TA]. i. \\\\\"Diananthus glaucus pro certo. Kew. respondet. fig: Dillill:\\\\\" [JL]. ii. \\\\\"This Aiton [William Aiton] saysis is the Diananthus glaucus. White flowers with a purple Circle. Kew. compare it with Diananth: deltoides\\\\\" [JL].\"\\n        },\\n        {\\n          \"description\": \"Diananthus deltoides [TA]. \\\\\"Diananthus Deltoides. Salt Hill\\\\\" [?]\"\\n        }\\n      ]\\n    },\\n    {\\n      \"speciesName\": \"Diananthus gratiananopolitanus\",\\n      \"folders\": [\\n        {\\n          \"description\": \"Diananthus arenarius Hud. [TA]. i. \\\\\"Cheddar brought into a Garden\\\\\" [JL]. ii. \\\\\"Diananthus arenarius the true. Sent by Mr. Banks to Bulstrode from Cheddar.\\\\\" [JL].\"\\n        },\\n        {\\n          \"description\": \"Diananthus virginicus [TA]; Diananthus arenarius Huds. [G]. i. \\\\\"Diananth: arenar: Bulstrode. Q: an non idem Mr. Banks\\'s\\\\\" [JL].\"\\n        }\\n      ]\\n    },\\n    {\\n      \"speciesName\": \"Herniaia ciliolata\",\\n      \"folders\": [\\n        {\\n          \"description\": \"Herniaia glabra [TA]. i. Herniaia glabra. Cites Lin: Sp. Pl: Herniaia; Ray\\'s Syn: 160. ii. \\\\\"Smooth Rupture-wort. This specimen was gathered from the Lizard Point in Cornwall & communicated by Mr. Hudson\\\\\" [JL].\"\\n        },\\n        {\\n          \"description\": \"Herniaia glabra [G]\"\\n        }\\n      ]\\n    },\\n    {\\n      \"speciesName\": \"Herniaia hirsuta\",\\n      \"folders\": [\\n        {\\n          \"description\": \"Herniaia hirsuta [TA]. i. \\\\\"Hern: hirsuta according to Yaldal\\\\\" [JL]. ii. \\\\\"Herniaia hirsuta. Gordon\\'s Garden [?]; D. o. P: [possibly the Duchess of Portland] [JL].\"\\n        },\\n        {\\n          \"description\": \"Herniaia glabra [G]\"\\n        }\\n      ]\\n    },\\n    {\\n      \"speciesName\": \"Illecebrum verticillatum\",\\n      \"folders\": [\\n        {\\n          \"description\": \"Illecebrum verticillatum [TA]. i. \\\\\"Illecebrum verticillatum floribus verticillatis nudis, caulibus procumbentibus. Lin: Sp: Pl: Corrigiola. Ray\\'s Syn: 160. Verticillate Knot Grass. July. In Marshes & moist Places about Pensans in Cornwall\\\\\" [JL]. ii. \\\\\"The verticillate sample I rec\\'d from Mr. Banks collected at Pensans, wch I take to be the true Illecib: verticill: but the other seems to be rather Illecib: cymosum, & perhaps the Polygonum maritimum Ray: 161 near Weston. This from Mr. Hudson\\\\\" [JL].\"\\n        }\\n      ]\\n    },\\n    {\\n      \"speciesName\": \"Kohlruschia prolifera\",\\n      \"folders\": [\\n        {\\n          \"description\": \"Diananthus Prolifer [TA]. i. \\\\\"Diananthus prolifer\\\\\" [JL]. ii. \\\\\"Diananthus prolifer of Eaton. Q: July Aug\\'. Kew. in Selsey Island Sussex\\\\\" [JL].\"\\n        },\\n        {\\n          \"description\": \"Diananthus prolifer [G]\"\\n        }\\n      ]\\n    },\\n    {\\n      \"speciesName\": \"Lychnis coronaria\",\\n      \"folders\": [\\n        {\\n          \"description\": \"Agrostema coronaria [TA]. i. \\\\\"? not English\\\\\" [TA]. ii. \\\\\"Tenbigh [Tenby in Dyfed (Pembrokeshire)]\\\\\" [JL]. [From southeastern Europe, cultivated, locally naturalized elsewhere.]\"\\n        }\\n      ]\\n    },\\n    {\\n      \"speciesName\": \"Lychnis viscaria\",\\n      \"folders\": [\\n        {\\n          \"description\": \"Lychnis Viscaria [TA]. i. \\\\\"Lychnis Viscaria Lin: On the Rocks in Edinburgh Park. Scotland\\\\\" [JL].\"\\n        }\\n      ]\\n    },\\n    {\\n      \"speciesName\": \"Minuartia hybrida\",\\n      \"folders\": [\\n        {\\n          \"description\": \"Arenaria tenuifolia [TA], Flora Scotica ed. 1, 1102 (1777). i. \\\\\"Arenaria tenuifolia 10- and: 3-g\\\\\" [JL].\"\\n        }\\n      ]\\n    },\\n    {\\n      \"speciesName\": \"Minuartia sedoides\",\\n      \"folders\": [\\n        {\\n          \"description\": \"Cherleria Sedoides [TA], Flora Scotica ed. 1, 232, 1124, 1139 (1777). i. \\\\\"Cherleria Sedoides Lin: From the Isle of Rum, one of the Hebrides\\\\\" [JL].\"\\n        }\\n      ]\\n    },\\n    {\\n      \"speciesName\": \"Minuartia verna\",\\n      \"folders\": [\\n        {\\n          \"description\": \"Arenaria verna [TA], Flora Scotica ed. 1, 231, 11100 (1777). i. Cites Lin: Syst: Nat: in Mantissa, page 72; Ger: Provinc: Tab: 15. f: 1.; R: Syn. 350. ii. \\\\\"Mountain vernal Chickweed. May. Upon the Mountains in Scotland, & the North of England. This Plant is call\\'d by Hudson Arenaria saxtilis, but I think his Characters of that Species will not agree with the Samples here exhibited, particularly as the Calyces are not obtuse. They are striated & acuminated, & the Figure of Gerard above-cited agrees perfect well with these Samples\\\\\" [JL].\"\\n        },\\n        {\\n          \"description\": \"Arenaria laricifolia [TA and G]. i. \\\\\"Scotland, Yalden\\\\\" [JL].\"\\n        }\\n      ]\\n    },\\n    {\\n      \"speciesName\": \"Moehringia trinervia\",\\n      \"folders\": [\\n        {\\n          \"description\": \"Arenaria trinervia [TA]\"\\n        }\\n      ]\\n    },\\n    {\\n      \"speciesName\": \"Polycarpon tetraphyllum\",\\n      \"folders\": [\\n        {\\n          \"description\": \"Arenaria laricifolia. Iver Heath\\\\\" [JL].\"\\n        },\\n        {\\n          \"description\": \"Spergula [TA]; S. laricina Huds. [G]. i. \\\\\"Pool Heath. Dorsetshire\\\\\" [JL].\"\\n        },\\n        {\\n          \"description\": \"Spergula laricina Huds. and S. sagoides Curtis [G].\"\\n        }\\n      ]\\n    },\\n    {\\n      \"speciesName\": \"Saponaria officinalis\",\\n      \"folders\": [\\n        {\\n          \"description\": \"Saponaria officinalis [G]. i. \\\\\" Saponaria officinalis. Near the Green Hills out of Magadalen Gates Norwich, & near the Kings Head at Hethset\\\\\" [B].\"\\n        }\\n      ]\\n    },\\n    {\\n      \"speciesName\": \"Scleranthus annus\",\\n      \"folders\": [\\n        {\\n          \"description\": \"Scleranthus annuus? [TA]\"\\n        }\\n      ]\\n    },\\n    {\\n      \"speciesName\": \"Scleranthus perennis\",\\n      \"folders\": [\\n        {\\n          \"description\": \"Scleranthus perennis [TA]. i. Cites Ray\\'s\\'s Syn. 160. ii. \\\\\"Perennial Knawel. Aug.: I gathered these Samples in the Corn Fields at Elden in Suffolk, on the South Side of the Village. Aug. 1768\\\\\" [JL] [S. perennis is still growing in the fields around Elden according to R.R. Meikle.]\"\\n        },\\n        {\\n          \"description\": \"Scleranthus perennis [G]. i. \\\\\"Scleranth. Perennis. certo. Kew\\\\\" [JL].\"\\n        },\\n        {\\n          \"description\": \"Sheet 1. Scleranthus perennis [?]. i. \\\\\"Property of S.W. Museum\\\\\" [?]. ii. \\\\\"G.S. Gibson Esqr.\\\\\" [?]. iii. \\\\\"Herb. Earl of Bute\\\\\" [?]. [Not one of the usual cut-up sheets from Saffron Walden Museum, and probably does not belong in Herb. Lightfoot.]\"\\n        }\\n      ]\\n    },\\n    {\\n      \"speciesName\": \"Silene acaulis\",\\n      \"folders\": [\\n        {\\n          \"description\": \"Silene acaulis [G]. i. Cites Linn. Syst. Nat.; Ray\\'s Syn. 341. ii. \\\\\"Moss Campion. July. this Plant is a Native of our alpine Mountains in North Wales. it was gathered & communicated by Mr. Williams, from the Top of Clogwyn du yr Ardder, Snowdon in Carnarvonshire, June 17th 1777\\\\\" [JL].\"\\n        },\\n        {\\n          \"description\": \"Silene acaulis [TA]. i. \\\\\"This from Ben-Lomond\\\\\" [?]. ii. \\\\\"Silene anglica by Hudson from Cornwall, common. it is Lusitanica\\\\\" [JL]. [Label does not belong with specimen; should be on S. gallica Folder 2.]\"\\n        }\\n      ]\\n    },\\n    {\\n      \"speciesName\": \"Silene arararia\",\\n      \"folders\": [\\n        {\\n          \"description\": \"Bulstrode Garden\\\\\" [JL].\"\\n        }\\n      ]\\n    },\\n    {\\n      \"speciesName\": \"Silene conooida\",\\n      \"folders\": [\\n        {\\n          \"description\": \"Silene conooida [TA]. [An introduce alien.]\"\\n        }\\n      ]\\n    },\\n    {\\n      \"speciesName\": \"Silene dioicaa\",\\n      \"folders\": [\\n        {\\n          \"description\": \"Lychnis dioicaa [G].\"\\n        },\\n        {\\n          \"description\": \"Lychnis dioicaa [?].\"\\n        }\\n      ]\\n    },\\n    {\\n      \"speciesName\": \"Silene gallica\",\\n      \"folders\": [\\n        {\\n          \"description\": \"Silene anglica Huds. [G]. i. Cites Ray\\'s Syn. 339. ii. \\\\\"Small Corn Catchfly or Campion. this was found at Swathling near Stoneham near Southampton, three fields behind Sir Edwd\\'s\\'s Hawke\\'s House, among Turnips. It has been found also among Corn near the Devil\\'s Ditch in Cambridgeshire and near Colchester in Essex. June & July. It is an Annual\\\\\" [JL].\"\\n        },\\n        {\\n          \"description\": \"Silene lusitanica [TA]; S. lusitanica Huds. [G]; S. anglica Huds. [G]. i. \\\\\"Silene Lusitanica pro certo. Penzance\\\\\" [JL]. [See under S. acaulis Folder 2.]\"\\n        }\\n      ]\\n    },\\n    {\\n      \"speciesName\": \"Silene italic a\",\\n      \"folders\": [\\n        {\\n          \"description\": \"Cucubalus viscosus [JL]. i. \\\\\"Cucubalus viscosus. 10- and: 3-g:\\\\\" [JL]. ii. [On reverse:] \\\\\"This does not agree with the Linnaean Specimen, wch bears a Spike of flower with short Peduncles, & The upper Leaves of the Stalkk is cordate & sessile\\\\\" [JL].\"\\n        }\\n      ]\\n    },\\n    {\\n      \"speciesName\": \"Silene noctiflora\",\\n      \"folders\": [\\n        {\\n          \"description\": \"Silene noctiflora [G]. i. \\\\\"Silene noctiflora. 10- and: 3-g:\\\\\" [JL]. ii. \\\\\"Silene noctiflora cream colour\\'d flower\\\\\" [JL].\"\\n        },\\n        {\\n          \"description\": \"Silene noctiflora [TA]. i. \\\\\"10- and: 3-g.\\\\\" [JL].\"\\n        }\\n      ]\\n    },\\n    {\\n      \"speciesName\": \"Silene nutans\",\\n      \"folders\": [\\n        {\\n          \"description\": \"Silene nutans [TA]. i. \\\\\"This is certainly the Silene nutans from Gloddaeth [near Conway in Gwynedd (Carnarvonshire)]\\\\\" [JL].\"\\n        },\\n        {\\n          \"description\": \"Silene nutans [G]\"\\n        }\\n      ]\\n    },\\n    {\\n      \"speciesName\": \"Silene otites\",\\n      \"folders\": [\\n        {\\n          \"description\": \"Cucubalus viscosus [TA]; Cucubalus Otites [G].\"\\n        }\\n      ]\\n    },\\n    {\\n      \"speciesName\": \"Silene vulgaris\",\\n      \"folders\": [\\n        {\\n          \"description\": \"Silene amoena [G], Flora Scotica ed. 1, 227 (1777). i. \\\\\"Silene amoena. Bulstrode. trailing\\\\\" [JL].\"\\n        },\\n        {\\n          \"description\": \"Silene amoena [TA]. i. \\\\\"Scotland, Yalden\\\\\" [JL]. ii. \\\\\"Silene amoena, Mr. Parsons from Scotland\\\\\" [JL]. iii. 10- and. 3-gyn.\\\\\" [JL]. [See also under S. v. subsp. vulgaris.]\"\\n        },\\n        {\\n          \"description\": \"Silene amoena [TA]. i. \\\\\"Scotland, Yalden\\\\\" [JL]. ii. \\\\\"Silene amoena, Mr. Parsons from Scotland\\\\\" [JL]. iii. 10- and. 3-gyn.\\\\\" [JL]. [See also under S. v. subsp. vulgaris.]\"\\n        },\\n        {\\n          \"description\": \"Silene vulgaris subsp. maritima [G]. i. \\\\\"Common Behen. Cawsham [near Reading, Berkshire]\\\\\" [JL]. ii. \\\\\"Ailsle Craig [tiny island south of the Isle of Arran in the Hebrides] β maritima\\\\\" [JL] [ref to the right-hand specimen, which is subsp. maritima].\"\\n        }\\n      ]\\n    },\\n    {\\n      \"speciesName\": \"Spergula arvensis\",\\n      \"folders\": [\\n        {\\n         ', '{\\n{\\n```json\\n{\\n```', '{\\n  \"familyName\": \"ACraceae\",\\n  \"species\": [\\n    {\\n      \"speciesName\": \"Heliananthemum apennininum\",\\n      \"folders\": [\\n        {\\n          \"description\": \"Folder 4. Cistus marifolius Linne [G]; Cistus hirsutus Huds. [G].\"\\n        }\\n      ]\\n    },\\n    {\\n      \"speciesName\": \"Heliananthemum chamaecistus\",\\n      \"folders\": [\\n        {\\n          \"description\": \"Folder 1. Cistus heliananthemum [TA], Flora Scotica ed. 1, 281 (1777).\"\\n        }\\n      ]\\n    },\\n    {\\n      \"speciesName\": \"Tuberaria guttata\",\\n      \"folders\": [\\n        {\\n          \"description\": \"1 sheet. Cistus guttatus [G].\"\\n        }\\n      ]\\n    }\\n  ]\\n}', '{\\n  \"familyName\": \"COMPOSITAE\",\\n  \"species\": [\\n    {\\n      \"speciesName\": \"Anaphalis margaritacea\",\\n      \"folders\": [\\n        {\\n          \"description\": \"Gnaphal: armeria s: to be be British. Bulls: [Bulstrode Park] [JL].\"\\n        },\\n        {\\n          \"description\": \"Gnaphal: armeria s: to be be British. Bulls: [Bulstrode Park] [JL].\"\\n        }\\n      ]\\n    },\\n    {\\n      \"speciesName\": \"Antennaria dioica\",\\n      \"folders\": [\\n        {\\n          \"description\": \"Newfoundland [A. neodioica Greene] Mr. Banks [JL].\"\\n        },\\n        {\\n          \"description\": \"Gnaph: dioic: mas & foem. one Specimen was 15 Inches high. a var:only [JL].\"\\n        },\\n        {\\n          \"description\": \"Gnaph: dioic: mas & foem. one Specimen was 15 Inches high. a var:only [JL].\"\\n        }\\n      ]\\n    },\\n    {\\n      \"speciesName\": \"Anthemis arvensis\",\\n      \"folders\": [\\n        {\\n          \"description\": \"Anthemis arvensis [TA].\"\\n        }\\n      ]\\n    },\\n    {\\n      \"speciesName\": \"Anthemis cotula\",\\n      \"folders\": [\\n        {\\n          \"description\": \"Anthemis cotula [TA].\"\\n        },\\n        {\\n          \"description\": \"This I take to be be be the Anthemis arvensis by the Road Side going to Maidenhead [JL].\"\\n        }\\n      ]\\n    },\\n    {\\n      \"speciesName\": \"Arnosera minima\",\\n      \"folders\": [\\n        {\\n          \"description\": \"Hyoseris minima [TA], Flora Scotica ed. 1, 4. 4. 4. 4. 4. 4. 2. 2. 2. 2. 2. 2. 2. 2. 2. 2. 2. 2. 2. 2. 2. 2. 2. 2. 2. 2. 2. 2. 2. 2. 2. 2. 2. 2. 2. 2. 2. 2. 2. 2. 2. 2. 2. 2. 2. 2. 2. 2. 2. 2. 2. 2. 2. 2. 2. 2. 2. 2. 2. 2. 2. 2. 2. 2. 2. 2. 2. 2. 2. 2. 2. 2. 2. 2. 2. 2. 2. 2. 2. 2. 2. 2. 2. 2. 2. 2. 2. 2. 2. 2. 2. 2. 2. 2. 2. 2. 2. 2. 2. 2. 2. 2. 2. 2. 2. 2. 2. 2. 2. 2. 2. 2. 2. 2. 2. 2. 2. 2. 2. 2. 2. 2. 2. 2. 2. 2. 2. 2. 2. 2. 2. 2. 2. 2. 2. 2. 2. 2. 2. 2. 2. 2. 2. 2. 2. 2. 2. 2. 2. 2. 2. 2. 2. 2. 2. 2. 2. 2. 2. 2. 2. 2. 2. 2. 2. 2. 2. 2. 2. 2. 2. 2. 2. 2. 2. 2. 2. 2. 2. 2. 2. 2. 2. 2. 2. 2. 2. 2. 2. 2. 2. 2. 2. 2. 2. 2. 2. 2. 2. 2. 2. 2. 2. 2. 2. 2. 2. 2. 2. 2. 2. 2. 2. 2. 2. 2. 2. 2. 2. 2. 2. 2. 2. 2. 2. 2. 2. 2. 2. 2. 2. 2. 2. 2. 2. 2. 2. 2. 2. 2. 2. 2. 2. 2. 2. 2. 2. 2. 2. 2. 2. 2. 2. 2. 2. 2. 2. 2. 2. 2. 2. 2. 2. 2. 2. 2. 2. 2. 2. 2. 2. 2. 2. 2. 2. 2. 2. 2. 2. 2. 2. 2. 2. 2. 2. 2. 2. 2. 2. 2. 2. 2. 2. 2. 2. 2. 2. 2. 2. 2. 2. 2. 2. 2. 2. 2. 2. 2. 2. 2. 2. 2. 2. 2. 2. 2. 2. 2. 2. 2. 2. 2. 2. 2. 2. 2. 2. 2. 2. 2. 2. 2. 2. 2. 2. 2. 2. 2. 2. 2. 2. 2. 2. 2. 2. 2. 2. 2. 2. 2. 2. 2. 2. 2. 2. 2. 2. 2. 2. 2. 2. 2. 2. 2. 2. 2. 2. 2. 2. 2. 2. 2. 2. 2. 2. 2. 2. 2. 2. 2. 2. 2. 2. 2. 2. 2. 2. 2. 2. 2. 2. 2. 2. 2. 2. 2. 2. 2. 2. 2. 2. 2. 2. 2. 2. 2. 2. 2. 2. 2. 2. 2. 2. 2. 2. 2. 2. 2. 2. 2. 2. 2. 2. 2. 2. 2. 2. 2. 2. 2. 2. 2. 2. 2. 2. 2. 2. 2. 2. 2. 2. 2. 2. 2. 2. 2. 2. 2. 2. 2. 2. 2. 2. 2. 2. 2. 2. 2. 2. 2. 2. 2. 2. 2. 2. 2. 2. 2. 2. 2. 2. 2. 2. 2. 2. 2. 2. 2. 2. 2. 2. 2. 2. 2. 2. 2. 2. 2. 2. 2. 2. 2. 2. 2. 2. 2. 2. 2. 2. 2. 2. 2. 2. 2. 2. 2. 2. 2. 2. 2. 2. 2. 2. 2. 2. 2. 2. 2. 2. 2. 2. 2. 2. 2. 2. 2. 2. 2. 2. 2. 2. 2. 2. 2. 2. 2. 2. 2. 2. 2. 2. 2. 2. 2. 2. 2. 2. 2. 2. 2. 2. 2. 2. 2. 2. 2. 2. 2. 2. 2. 2. 2. 2. 2. 2. 2. 2. 2. 2. 2. 2. 2. 2. 2. 2. 2. 2. 2. 2. 2. 2. 2. 2. 2. 2. 2. 2. 2. 2. 2. 2. 2. 2. 2. 2. 2. 2. 2. 2. 2. 2. 2. 2. 2. 2. 2. 2. 2. 2. 2. 2. 2. 2. 2. 2. 2. 2. 2. 2. 2. 2. 2. 2. 2. 2. 2. 2. 2. 2. 2. 2. 2. 2. 2. 2. 2. 2. 2. 2. 2. 2. 2. 2. 2. 2. 2. 2. 2. 2. 2. 2. 2. 2. 2. 2. 2. 2. 2. 2. 2. 2. 2. 2. 2. 2. 2. 2. 2. 2. 2. 2. 2. 2. 2. 2. 2. 2. 2. 2. 2. 2. 2. 2. 2. 2. 2. 2. 2. 2. 2. 2. 2. 2. 2. 2. 2. 2. 2. 2. 2. 2. 2. 2. 2. 2. 2. 2. 2. 2. 2. 2. 2. 2. 2. 2. 2. 2. 2. 2. 2. 2. 2. 2. 2. 2. 2. 2. 2. 2. 2. 2. 2. 2. 2. 2. 2. 2. 2. 2. 2. 2. 2. 2. 2. 2. 2. 2. 2. 2. 2. 2. 2. 2. 2. 2. 2. 2. 2. 2. 2. 2. 2. 2. 2. 2. 2. 2. 2. 2. 2. 2. 2. 2. 2. 2. 2. 2. 2. 2. 2. 2. 2. 2. 2. 2. 2. 2. 2. 2. 2. 2. 2. 2. 2. 2. 2. 2. 2. 2. 2. 2. 2. 2. 2. 2. 2. 2. 2. 2. 2. 2. 2. 2. 2. 2. 2. 2. 2. 2. 2. 2. 2. 2. 2. 2. 2. 2. 2. 2. 2. 2. 2. 2. 2. 2. 2. 2. 2. 2. 2. 2. 2. 2. 2. 2. 2. 2. 2. 2. 2. 2. 2. 2. 2. 2. 2. 2. 2. 2. 2. 2. 2. 2. 2. 2. 2. 2. 2. 2. 2. 2. 2. 2. 2. 2. 2. 2. 2. 2. 2. 2. 2. 2. 2. 2. 2. 2. 2. 2. 2. 2. 2. 2. 2. 2. 2. 2. 2. 2. 2. 2. 2. 2. 2. 2. 2. 2. 2. 2. 2. 2. 2. 2. 2. 2. 2. 2. 2. 2. 2. 2. 2. 2. 2. 2. 2. 2. 2. 2. 2. 2. 2. 2. 2. 2. 2. 2. 2. 2. 2. 2. 2. 2. 2. 2. 2. 2. 2. 2. 2. 2. 2. 2. 2. 2. 2. 2. 2. 2. 2. 2. 2. 2. 2. 2. 2. 2. 2. 2. 2. 2. 2. 2. 2. 2. 2. 2. 2. 2. 2. 2. 2. 2. 2. 2. 2. 2. 2. 2. 2. 2. 2. 2. 2. 2. 2. 2. 2. 2. 2. 2. 2. 2. 2. 2. 2. 2. 2. 2. 2. 2. 2. 2. 2. 2. 2. 2. 2. 2. 2. 2. 2. 2. 2. 2. 2. 2. 2. 2. 2. 2. 2. 2. 2. 2. 2. 2. 2. 2. 2. 2. 2. 2. 2. 2. 2. 2. 2. 2. 2. 2. 2. 2. 2. 2. 2. 2. 2. 2. 2. 2. 2. 2. 2. 2. 2. 2. 2. 2. 2. 2. 2. 2. 2. 2. 2. 2. 2. 2. 2. 2. 2. 2. 2. 2. 2. 2. 2. 2. 2. 2. 2. 2. 2. 2. 2. 2. 2. 2. 2. 2. 2. 2. 2. 2. 2. 2. 2. 2. 2. 2. 2. 2. 2. 2. 2. 2. 2. 2. 2. 2. 2. 2. 2. 2. 2. 2. 2. 2. 2. 2. 2. 2. 2. 2. 2. 2. 2. 2. 2. 2. 2. 2. 2. 2. 2. 2. 2. 2. 2. 2. 2. 2. 2. 2. 2. 2. 2. 2. 2. 2. 2. 2. 2. 2. 2. 2. 2. 2. 2. 2. 2. 2. 2. 2. 2. 2. 2. 2. 2. 2. 2. 2. 2. 2. 2. 2. 2. 2. 2. 2. 2. 2. 2. 2. 2. 2. 2. 2. 2. 2. 2. 2. 2. 2. 2. 2. 2. 2. 2. 2. 2. 2. 2. 2. 2. 2. 2. 2. 2. 2. 2. 2. 2. 2. 2. 2. 2. 2. 2. 2. 2. 2. 2. 2. 2. 2. 2. 2. 2. 2. 2. 2. 2. 2. 2. 2. 2. 2. 2. 2. 2. 2. 2. 2. 2. 2. 2. 2. 2. 2. 2. 2. 2. 2. 2. 2. 2. 2. 2. 2. 2. 2. 2. 2. 2. 2. 2. 2. 2. 2. 2. 2. 2. 2. 2. 2. 2. 2. 2. 2. 2. 2. 2. 2. 2. 2. 2. 2. 2. 2. 2. 2. 2. 2. 2. 2. 2. 2. 2. 2. 2. 2. 2. 2. 2. 2. 2. 2. 2. 2. 2. 2. 2. 2. 2. 2. 2. 2. 2. 2. 2. 2. 2. 2. 2. 2. 2. 2. 2. 2. 2. 2. 2. 2. 2. 2. 2. 2. 2. 2. 2. 2. 2. 2. 2. 2. 2. 2. 2. 2. 2. 2. 2. 2. 2. 2. 2. 2. 2. 2. 2. 2. 2. 2. 2. 2. 2. 2. 2. 2. 2. 2. 2. 2. 2. 2. 2. 2. 2. 2. 2. 2. 2. 2. 2. 2. 2. 2. 2. 2. 2. 2. 2. 2. 2. 2. 2. 2. 2. 2. 2. 2. 2. 2. 2. 2. 2. 2. 2. 2. 2. 2. 2. 2. 2. 2. 2. 2. 2. 2. 2. 2. 2. 2. 2. 2. 2. 2. 2. 2. 2. 2. 2. 2. 2. 2. 2. 2. 2. 2. 2. 2. 2. 2. 2. 2. 2. 2. 2. 2. 2. 2. 2. 2. 2. 2. 2. 2. 2. 2. 2. 2. 2. 2. 2. 2. 2. 2. 2. 2. 2. 2. 2. 2. 2. 2. 2. 2. 2. 2. 2. 2. 2. 2. 2. 2. 2. 2. 2. 2. 2. 2. 2. 2. 2. 2. 2. 2. 2. 2. 2. 2. 2. 2. 2. 2. 2. 2. 2. 2. 2. 2. 2. 2. 2. 2. 2. 2. 2. 2. 2. 2. 2. 2. 2. 2. 2. 2. 2. 2. 2. 2. 2. 2. 2. 2. 2. 2. 2. 2. 2. 2. 2. 2. 2. 2. 2. 2. 2. 2. 2. 2. 2. 2. 2. 2. 2. 2. 2. 2. 2. 2. 2. 2. 2. 2. 2. 2. 2. 2. 2. 2. 2. 2. 2. 2. 2. 2. 2. 2. 2. 2. 2. 2. 2. 2. 2. 2. 2. 2. 2. 2. 2. 2. 2. 2. 2. 2. 2. 2. 2. 2. 2. 2. 2. 2. 2. 2. 2. 2. 2. 2. 2. 2. 2. 2. 2. 2. 2. 2. 2. 2. 2. 2. 2. 2. 2. 2. 2. 2. 2. 2. 2. 2. 2. 2. 2. 2. 2. 2. 2. 2. 2. 2. 2. 2. 2. 2. 2. 2. 2. 2. 2. 2. 2. 2. 2. 2. 2. 2. 2. 2. 2. 2. 2. 2. 2. 2. 2. 2. 2. 2. 2. 2. 2. 2. 2. 2. 2. 2. 2. 2. 2. 2. 2. 2. 2. 2. 2. 2. 2. 2. 2. 2. 2. 2. 2. 2. 2. 2. 2. 2. 2. 2. 2. 2. 2. 2. 2. 2. 2. 2. 2. 2. 2. 2. 2. 2. 2. 2. 2. 2. 2. 2. 2. 2. 2. 2. 2. 2. 2. 2. 2. 2. 2. 2. 2. 2. 2. 2. 2. 2. 2. 2. 2. 2. 2. 2. 2. 2. 2. 2. 2. 2. 2. 2. 2. 2. 2. 2. 2. 2. 2. 2. 2. 2. 2. 2. 2. 2. 2. 2. 2. 2. 2. 2. 2. 2. 2. 2. 2. 2. 2. 2. 2. 2. 2. 2. 2. 2. 2. 2. 2. 2. 2. 2. 2. 2. 2. 2. 2. 2. 2. 2. 2. 2. 2. 2. 2. 2. 2. 2. 2. 2. 2. 2. 2. 2. 2. 2. 2. 2. 2. 2. 2. 2. 2. 2. 2. 2. 2. 2. 2. 2. 2. 2. 2. 2. 2. 2. 2. 2. 2. 2. 2. 2. 2. 2. 2. 2. 2. 2. 2. 2. 2. 2. 2. 2. 2. 2. 2. 2. 2. 2. 2. 2. 2. 2. 2. 2. 2. 2. 2. 2. 2. 2. 2. 2. 2. 2. 2. 2. 2. 2. 2. 2. 2. 2. 2. 2. 2. 2. 2. 2. 2. 2. 2. 2. 2. 2. 2. 2. 2. 2. 2. 2. 2. 2. 2. 2. 2. 2. 2. 2. 2. 2. 2. 2. 2. 2. 2. 2. 2. 2. 2. 2. 2. 2. 2. 2. 2. 2. 2. 2. 2. 2. 2. 2. 2. 2. 2. 2. 2. 2. 2. 2. 2. 2. 2. 2. 2. 2. 2. 2. 2. 2. 2. 2. 2. 2. 2. 2. 2. 2. 2. 2. 2. 2. 2. 2. 2. 2. 2. 2. 2. 2. 2. 2. 2. 2. 2. 2. 2. 2. 2. 2. 2. 2. 2. 2. 2. 2. 2. 2. 2. 2. 2. 2. 2. 2. 2. 2. 2. 2. 2. 2. 2. 2. 2. 2. 2. 2. 2. 2. 2. 2. 2. 2. 2. 2. 2. 2. 2. 2. 2. 2. 2. 2. 2. 2. 2. 2. 2. 2. 2. 2. 2. 2. 2. 2. 2. 2. 2. 2. 2. 2. 2. 2.']}\n"
     ]
    }
   ],
   "source": [
    "print(outputs)"
   ]
  },
  {
   "cell_type": "code",
   "execution_count": 21,
   "id": "b41beb4b",
   "metadata": {},
   "outputs": [
    {
     "name": "stdout",
     "output_type": "stream",
     "text": [
      "{\n",
      "  \"familyName\": \"COMPOSITAE\",\n",
      "  \"species\": [\n",
      "    {\n",
      "      \"speciesName\": \"Anaphalis margaritacea\",\n",
      "      \"folders\": [\n",
      "        {\n",
      "          \"description\": \"Gnaphal: armeria s: to be be British. Bulls: [Bulstrode Park] [JL].\"\n",
      "        },\n",
      "        {\n",
      "          \"description\": \"Gnaphal: armeria s: to be be British. Bulls: [Bulstrode Park] [JL].\"\n",
      "        }\n",
      "      ]\n",
      "    },\n",
      "    {\n",
      "      \"speciesName\": \"Antennaria dioica\",\n",
      "      \"folders\": [\n",
      "        {\n",
      "          \"description\": \"Newfoundland [A. neodioica Greene] Mr. Banks [JL].\"\n",
      "        },\n",
      "        {\n",
      "          \"description\": \"Gnaph: dioic: mas & foem. one Specimen was 15 Inches high. a var:only [JL].\"\n",
      "        },\n",
      "        {\n",
      "          \"description\": \"Gnaph: dioic: mas & foem. one Specimen was 15 Inches high. a var:only [JL].\"\n",
      "        }\n",
      "      ]\n",
      "    },\n",
      "    {\n",
      "      \"speciesName\": \"Anthemis arvensis\",\n",
      "      \"folders\": [\n",
      "        {\n",
      "          \"description\": \"Anthemis arvensis [TA].\"\n",
      "        }\n",
      "      ]\n",
      "    },\n",
      "    {\n",
      "      \"speciesName\": \"Anthemis cotula\",\n",
      "      \"folders\": [\n",
      "        {\n",
      "          \"description\": \"Anthemis cotula [TA].\"\n",
      "        },\n",
      "        {\n",
      "          \"description\": \"This I take to be be be the Anthemis arvensis by the Road Side going to Maidenhead [JL].\"\n",
      "        }\n",
      "      ]\n",
      "    },\n",
      "    {\n",
      "      \"speciesName\": \"Arnosera minima\",\n",
      "      \"folders\": [\n",
      "        {\n",
      "          \"description\": \"Hyoseris minima [TA], Flora Scotica ed. 1, 4. 4. 4. 4. 4. 4. 2. 2. 2. 2. 2. 2. 2. 2. 2. 2. 2. 2. 2. 2. 2. 2. 2. 2. 2. 2. 2. 2. 2. 2. 2. 2. 2. 2. 2. 2. 2. 2. 2. 2. 2. 2. 2. 2. 2. 2. 2. 2. 2. 2. 2. 2. 2. 2. 2. 2. 2. 2. 2. 2. 2. 2. 2. 2. 2. 2. 2. 2. 2. 2. 2. 2. 2. 2. 2. 2. 2. 2. 2. 2. 2. 2. 2. 2. 2. 2. 2. 2. 2. 2. 2. 2. 2. 2. 2. 2. 2. 2. 2. 2. 2. 2. 2. 2. 2. 2. 2. 2. 2. 2. 2. 2. 2. 2. 2. 2. 2. 2. 2. 2. 2. 2. 2. 2. 2. 2. 2. 2. 2. 2. 2. 2. 2. 2. 2. 2. 2. 2. 2. 2. 2. 2. 2. 2. 2. 2. 2. 2. 2. 2. 2. 2. 2. 2. 2. 2. 2. 2. 2. 2. 2. 2. 2. 2. 2. 2. 2. 2. 2. 2. 2. 2. 2. 2. 2. 2. 2. 2. 2. 2. 2. 2. 2. 2. 2. 2. 2. 2. 2. 2. 2. 2. 2. 2. 2. 2. 2. 2. 2. 2. 2. 2. 2. 2. 2. 2. 2. 2. 2. 2. 2. 2. 2. 2. 2. 2. 2. 2. 2. 2. 2. 2. 2. 2. 2. 2. 2. 2. 2. 2. 2. 2. 2. 2. 2. 2. 2. 2. 2. 2. 2. 2. 2. 2. 2. 2. 2. 2. 2. 2. 2. 2. 2. 2. 2. 2. 2. 2. 2. 2. 2. 2. 2. 2. 2. 2. 2. 2. 2. 2. 2. 2. 2. 2. 2. 2. 2. 2. 2. 2. 2. 2. 2. 2. 2. 2. 2. 2. 2. 2. 2. 2. 2. 2. 2. 2. 2. 2. 2. 2. 2. 2. 2. 2. 2. 2. 2. 2. 2. 2. 2. 2. 2. 2. 2. 2. 2. 2. 2. 2. 2. 2. 2. 2. 2. 2. 2. 2. 2. 2. 2. 2. 2. 2. 2. 2. 2. 2. 2. 2. 2. 2. 2. 2. 2. 2. 2. 2. 2. 2. 2. 2. 2. 2. 2. 2. 2. 2. 2. 2. 2. 2. 2. 2. 2. 2. 2. 2. 2. 2. 2. 2. 2. 2. 2. 2. 2. 2. 2. 2. 2. 2. 2. 2. 2. 2. 2. 2. 2. 2. 2. 2. 2. 2. 2. 2. 2. 2. 2. 2. 2. 2. 2. 2. 2. 2. 2. 2. 2. 2. 2. 2. 2. 2. 2. 2. 2. 2. 2. 2. 2. 2. 2. 2. 2. 2. 2. 2. 2. 2. 2. 2. 2. 2. 2. 2. 2. 2. 2. 2. 2. 2. 2. 2. 2. 2. 2. 2. 2. 2. 2. 2. 2. 2. 2. 2. 2. 2. 2. 2. 2. 2. 2. 2. 2. 2. 2. 2. 2. 2. 2. 2. 2. 2. 2. 2. 2. 2. 2. 2. 2. 2. 2. 2. 2. 2. 2. 2. 2. 2. 2. 2. 2. 2. 2. 2. 2. 2. 2. 2. 2. 2. 2. 2. 2. 2. 2. 2. 2. 2. 2. 2. 2. 2. 2. 2. 2. 2. 2. 2. 2. 2. 2. 2. 2. 2. 2. 2. 2. 2. 2. 2. 2. 2. 2. 2. 2. 2. 2. 2. 2. 2. 2. 2. 2. 2. 2. 2. 2. 2. 2. 2. 2. 2. 2. 2. 2. 2. 2. 2. 2. 2. 2. 2. 2. 2. 2. 2. 2. 2. 2. 2. 2. 2. 2. 2. 2. 2. 2. 2. 2. 2. 2. 2. 2. 2. 2. 2. 2. 2. 2. 2. 2. 2. 2. 2. 2. 2. 2. 2. 2. 2. 2. 2. 2. 2. 2. 2. 2. 2. 2. 2. 2. 2. 2. 2. 2. 2. 2. 2. 2. 2. 2. 2. 2. 2. 2. 2. 2. 2. 2. 2. 2. 2. 2. 2. 2. 2. 2. 2. 2. 2. 2. 2. 2. 2. 2. 2. 2. 2. 2. 2. 2. 2. 2. 2. 2. 2. 2. 2. 2. 2. 2. 2. 2. 2. 2. 2. 2. 2. 2. 2. 2. 2. 2. 2. 2. 2. 2. 2. 2. 2. 2. 2. 2. 2. 2. 2. 2. 2. 2. 2. 2. 2. 2. 2. 2. 2. 2. 2. 2. 2. 2. 2. 2. 2. 2. 2. 2. 2. 2. 2. 2. 2. 2. 2. 2. 2. 2. 2. 2. 2. 2. 2. 2. 2. 2. 2. 2. 2. 2. 2. 2. 2. 2. 2. 2. 2. 2. 2. 2. 2. 2. 2. 2. 2. 2. 2. 2. 2. 2. 2. 2. 2. 2. 2. 2. 2. 2. 2. 2. 2. 2. 2. 2. 2. 2. 2. 2. 2. 2. 2. 2. 2. 2. 2. 2. 2. 2. 2. 2. 2. 2. 2. 2. 2. 2. 2. 2. 2. 2. 2. 2. 2. 2. 2. 2. 2. 2. 2. 2. 2. 2. 2. 2. 2. 2. 2. 2. 2. 2. 2. 2. 2. 2. 2. 2. 2. 2. 2. 2. 2. 2. 2. 2. 2. 2. 2. 2. 2. 2. 2. 2. 2. 2. 2. 2. 2. 2. 2. 2. 2. 2. 2. 2. 2. 2. 2. 2. 2. 2. 2. 2. 2. 2. 2. 2. 2. 2. 2. 2. 2. 2. 2. 2. 2. 2. 2. 2. 2. 2. 2. 2. 2. 2. 2. 2. 2. 2. 2. 2. 2. 2. 2. 2. 2. 2. 2. 2. 2. 2. 2. 2. 2. 2. 2. 2. 2. 2. 2. 2. 2. 2. 2. 2. 2. 2. 2. 2. 2. 2. 2. 2. 2. 2. 2. 2. 2. 2. 2. 2. 2. 2. 2. 2. 2. 2. 2. 2. 2. 2. 2. 2. 2. 2. 2. 2. 2. 2. 2. 2. 2. 2. 2. 2. 2. 2. 2. 2. 2. 2. 2. 2. 2. 2. 2. 2. 2. 2. 2. 2. 2. 2. 2. 2. 2. 2. 2. 2. 2. 2. 2. 2. 2. 2. 2. 2. 2. 2. 2. 2. 2. 2. 2. 2. 2. 2. 2. 2. 2. 2. 2. 2. 2. 2. 2. 2. 2. 2. 2. 2. 2. 2. 2. 2. 2. 2. 2. 2. 2. 2. 2. 2. 2. 2. 2. 2. 2. 2. 2. 2. 2. 2. 2. 2. 2. 2. 2. 2. 2. 2. 2. 2. 2. 2. 2. 2. 2. 2. 2. 2. 2. 2. 2. 2. 2. 2. 2. 2. 2. 2. 2. 2. 2. 2. 2. 2. 2. 2. 2. 2. 2. 2. 2. 2. 2. 2. 2. 2. 2. 2. 2. 2. 2. 2. 2. 2. 2. 2. 2. 2. 2. 2. 2. 2. 2. 2. 2. 2. 2. 2. 2. 2. 2. 2. 2. 2. 2. 2. 2. 2. 2. 2. 2. 2. 2. 2. 2. 2. 2. 2. 2. 2. 2. 2. 2. 2. 2. 2. 2. 2. 2. 2. 2. 2. 2. 2. 2. 2. 2. 2. 2. 2. 2. 2. 2. 2. 2. 2. 2. 2. 2. 2. 2. 2. 2. 2. 2. 2. 2. 2. 2. 2. 2. 2. 2. 2. 2. 2. 2. 2. 2. 2. 2. 2. 2. 2. 2. 2. 2. 2. 2. 2. 2. 2. 2. 2. 2. 2. 2. 2. 2. 2. 2. 2. 2. 2. 2. 2. 2. 2. 2. 2. 2. 2. 2. 2. 2. 2. 2. 2. 2. 2. 2. 2. 2. 2. 2. 2. 2. 2. 2. 2. 2. 2. 2. 2. 2. 2. 2. 2. 2. 2. 2. 2. 2. 2. 2. 2. 2. 2. 2. 2. 2. 2. 2. 2. 2. 2. 2. 2. 2. 2. 2. 2. 2. 2. 2. 2. 2. 2. 2. 2. 2. 2. 2. 2. 2. 2. 2. 2. 2. 2. 2. 2. 2. 2. 2. 2. 2. 2. 2. 2. 2. 2. 2. 2. 2. 2. 2. 2. 2. 2. 2. 2. 2. 2. 2. 2. 2. 2. 2. 2. 2. 2. 2. 2. 2. 2. 2. 2. 2. 2. 2. 2. 2. 2. 2. 2. 2. 2. 2. 2. 2. 2. 2. 2. 2. 2. 2. 2. 2. 2. 2. 2. 2. 2. 2. 2. 2. 2. 2. 2. 2. 2. 2. 2. 2. 2. 2. 2. 2. 2. 2. 2. 2. 2. 2. 2. 2. 2. 2. 2. 2. 2. 2. 2. 2. 2. 2. 2. 2. 2. 2. 2. 2. 2. 2. 2. 2. 2. 2. 2. 2. 2. 2. 2. 2. 2. 2. 2. 2. 2. 2. 2. 2. 2. 2. 2. 2. 2. 2. 2. 2. 2. 2. 2. 2. 2. 2. 2. 2. 2. 2. 2. 2. 2. 2. 2. 2. 2. 2. 2. 2. 2. 2. 2. 2. 2. 2. 2. 2. 2. 2. 2. 2. 2. 2. 2. 2. 2. 2. 2. 2. 2. 2. 2. 2. 2. 2. 2. 2. 2. 2. 2. 2. 2. 2. 2. 2. 2. 2. 2. 2. 2. 2. 2. 2. 2. 2. 2. 2. 2. 2. 2. 2. 2. 2. 2. 2. 2. 2. 2. 2. 2. 2. 2. 2. 2. 2. 2. 2. 2. 2. 2. 2. 2. 2. 2. 2. 2. 2. 2. 2. 2. 2. 2. 2. 2. 2. 2. 2. 2. 2. 2. 2. 2. 2. 2. 2. 2. 2. 2. 2. 2. 2. 2. 2. 2. 2. 2. 2. 2. 2. 2. 2. 2. 2. 2. 2. 2. 2. 2. 2. 2. 2. 2. 2. 2. 2. 2. 2. 2. 2. 2. 2. 2. 2. 2. 2. 2. 2. 2. 2. 2. 2. 2. 2. 2. 2. 2. 2. 2. 2. 2. 2. 2. 2. 2. 2. 2. 2. 2. 2. 2. 2. 2. 2. 2. 2. 2. 2. 2. 2. 2. 2. 2. 2. 2. 2. 2. 2. 2. 2. 2. 2. 2. 2. 2. 2. 2. 2. 2. 2. 2. 2. 2. 2. 2. 2. 2. 2. 2. 2. 2. 2. 2. 2. 2. 2. 2. 2. 2. 2. 2. 2. 2. 2. 2. 2. 2. 2. 2. 2. 2. 2. 2. 2. 2. 2. 2. 2. 2. 2. 2. 2. 2. 2. 2. 2. 2. 2. 2. 2. 2. 2. 2. 2. 2. 2. 2. 2. 2. 2. 2. 2. 2. 2. 2. 2. 2. 2. 2. 2. 2. 2. 2. 2. 2. 2. 2. 2. 2. 2. 2. 2. 2. 2. 2. 2. 2. 2. 2. 2. 2. 2. 2. 2. 2. 2. 2. 2. 2. 2. 2. 2. 2. 2. 2. 2. 2. 2. 2. 2. 2. 2. 2. 2. 2. 2. 2. 2. 2. 2. 2. 2. 2. 2. 2. 2. 2. 2. 2. 2. 2. 2. 2. 2. 2. 2. 2. 2. 2. 2. 2. 2. 2. 2. 2. 2. 2. 2. 2. 2. 2. 2. 2. 2. 2. 2. 2. 2. 2. 2. 2. 2. 2. 2. 2. 2. 2. 2. 2. 2. 2. 2. 2. 2. 2. 2. 2. 2. 2. 2. 2. 2. 2. 2. 2. 2. 2. 2. 2. 2. 2. 2. 2. 2. 2. 2. 2. 2. 2. 2. 2. 2. 2. 2. 2. 2. 2. 2. 2. 2. 2. 2. 2. 2. 2. 2. 2. 2. 2. 2. 2. 2. 2. 2. 2. 2. 2. 2. 2. 2. 2. 2. 2. 2. 2. 2. 2. 2. 2. 2. 2. 2. 2. 2. 2. 2. 2. 2. 2. 2. 2. 2. 2. 2. 2. 2. 2. 2. 2. 2. 2. 2. 2. 2. 2. 2. 2. 2. 2. 2. 2. 2. 2. 2. 2. 2. 2. 2. 2. 2. 2. 2. 2. 2. 2. 2. 2. 2. 2. 2. 2. 2. 2. 2. 2. 2. 2. 2. 2. 2. 2. 2. 2. 2. 2. 2. 2. 2. 2. 2. 2. 2. 2. 2. 2. 2. 2. 2. 2. 2. 2. 2. 2. 2. 2. 2. 2. 2. 2. 2. 2. 2. 2. 2. 2. 2. 2. 2. 2. 2. 2. 2. 2. 2. 2. 2. 2. 2. 2. 2. 2. 2. 2. 2. 2. 2. 2. 2. 2. 2. 2. 2. 2. 2. 2. 2. 2. 2. 2. 2. 2. 2. 2. 2. 2. 2. 2. 2. 2. 2. 2. 2. 2. 2. 2. 2. 2. 2. 2. 2. 2. 2. 2. 2. 2. 2. 2. 2. 2. 2. 2. 2. 2. 2. 2. 2. 2. 2. 2. 2. 2. 2. 2. 2. 2. 2. 2. 2. 2. 2. 2. 2. 2. 2. 2. 2. 2. 2. 2. 2. 2. 2. 2. 2. 2. 2. 2. 2. 2. 2. 2. 2. 2. 2. 2. 2. 2. 2. 2. 2. 2. 2. 2. 2. 2.\n"
     ]
    }
   ],
   "source": [
    "print(outputs[\"Dicotyledones\"][11])"
   ]
  },
  {
   "cell_type": "code",
   "execution_count": null,
   "id": "520f6c82",
   "metadata": {},
   "outputs": [],
   "source": []
  }
 ],
 "metadata": {
  "kernelspec": {
   "display_name": "lightfootcat",
   "language": "python",
   "name": "python3"
  },
  "language_info": {
   "codemirror_mode": {
    "name": "ipython",
    "version": 3
   },
   "file_extension": ".py",
   "mimetype": "text/x-python",
   "name": "python",
   "nbconvert_exporter": "python",
   "pygments_lexer": "ipython3",
   "version": "3.12.6"
  }
 },
 "nbformat": 4,
 "nbformat_minor": 5
}
