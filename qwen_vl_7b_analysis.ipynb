{
 "cells": [
  {
   "cell_type": "code",
   "execution_count": 1,
   "id": "cd34f5dc-d941-4c56-b625-f3562cca9ab0",
   "metadata": {},
   "outputs": [
    {
     "name": "stderr",
     "output_type": "stream",
     "text": [
      "/mnt/shared/scratch/ikarunak/apps/conda/envs/lightfootcat/lib/python3.12/site-packages/tqdm/auto.py:21: TqdmWarning: IProgress not found. Please update jupyter and ipywidgets. See https://ipywidgets.readthedocs.io/en/stable/user_install.html\n",
      "  from .autonotebook import tqdm as notebook_tqdm\n"
     ]
    }
   ],
   "source": [
    "from PIL import Image\n",
    "import requests\n",
    "import torch\n",
    "import re\n",
    "import json\n",
    "from transformers import Qwen2VLForConditionalGeneration, AutoTokenizer, AutoProcessor"
   ]
  },
  {
   "cell_type": "code",
   "execution_count": 17,
   "id": "8fc42a40-2a14-47ad-8a1b-40344fdd70bc",
   "metadata": {},
   "outputs": [
    {
     "name": "stdout",
     "output_type": "stream",
     "text": [
      "`Qwen2VLRotaryEmbedding` can now be fully parameterized by passing the model config through the `config` argument. All other arguments will be removed in v4.46\n",
      "Loading checkpoint shards: 100%|██████████████████| 5/5 [00:02<00:00,  1.81it/s]\n"
     ]
    }
   ],
   "source": [
    "!python run.py \"./sample-images\""
   ]
  },
  {
   "cell_type": "code",
   "execution_count": 16,
   "id": "30089f51-6cf8-4e9b-8453-0d1dd1d7dcca",
   "metadata": {},
   "outputs": [
    {
     "data": {
      "text/plain": [
       "' { \"Folder 2. Campanula hederacea [G]. i. \"Devon & Cornwall\" [JL]\": { \"Linnaea borealis L.\": { \"1 sheet\": { \"Linnaea borealis [JL]\": { \"Cites Linn. Sp. Pl. 631; Bauh. Pin. 93\": \"\", \"This is a Native of Sweden, Siberia, Switzerland, Russia, Canada, & c. This Specimen was gathered & communicated by Jos: Banks Esqr. who discoverd it in Abundance in the Woods in Newfoundland [JL]\"\": \"\", \"In ScotlandSee English Botany N.433 [? G]\"\": \"\" } } }, \"Lonicera periclymenum L.\": { \"1 folder\": { \"Lonicera periclymenum [TA]\": \"\" } }, \"Viburnum lantana L.\": { \"1 folder\": { \"Viburnum lantana [TA]\": \"\" } }, \"Viburnum opulus L.\": { \"1 folder\": { \"Viburnum opulus [TA]\": \"\" } } }, \"Caryophyllaceae\": { \"Arenaria serpyllifolia L.\": { \"1 folder\": { \"Arenaria Serpyllifolia [TA]\": \"\" } }, \"Bufonia tenuifolia L., Flora Europaea 1: 133 (1964)\": { \"1 folder\": { \"Bufonia Tenuifolia [TA]\": \"\" } }, \"Cerastium alpinum L.\": { \"2 folders\": { \"Folder 1. Cerastium latifolium [G]\": { \"i. Cites Rays Syn. 349\": \"\", \"ii. \"Cerastium alpinum. This was gathered upon Snowdon at the top of the highest Rock calld Clogwyn y Garnedh. June\" [JL]\": \"\", \"iii. \"Top of Snowdon\" [JL]\": \"\", \"iv. \"Dr. Solander affirms this to be the true Cerastium alpinum. I had it from Snowdon. He found it at Terra del Fuego & named it C. hirtum with a mark of Dubitation, but now thinks them both one\" [JL]\": \"\" }, \"Folder 2. Cerastium arvense [TA]; Cerastium latifolium [G]\": { \"i. \"Clogwyn d\" [JL]\": \"\", \"ii. \"Cerast: alpin: Ben Lomond\" [JL]\": \"\" } } }, \"Cerastium arvense L.\": { \"2 folders\": { \"Folder 1. Cerastium arvense [TA]\": { \"i. \"Cerastium arvense. This must be right tho the leaves are hoary\" [JL]\": \"\", \"ii. \"Cerastium arvense. Very common in Norfolk. Why does Lin. put the word glabris in his Specific Description in opposition to truth & the Testimony of all Authors\" [B]\": \"\" }, \"Folder 2. Cerastium arvense [G]\": { \"See also under C. arcticum Folder 1.\": \"\" } } }, \"Cerastium fontanum Baumg., subsp. triviale (Link) Jalas, Flora Europaea 1: 142 (1964)\": { \"1 sheet\": { \"Cerastium vulgaris [TA]; C. vulgatum Huds. and C. viscosum Linn. [G]\": { \"i. \"Pray inform me\": \"\" } } } } } '"
      ]
     },
     "execution_count": 16,
     "metadata": {},
     "output_type": "execute_result"
    }
   ],
   "source": [
    "' { \"Folder 2. Campanula hederacea [G]. i. \\\"Devon & Cornwall\\\" [JL]\": { \"Linnaea borealis L.\": { \"1 sheet\": { \"Linnaea borealis [JL]\": { \"Cites Linn. Sp. Pl. 631; Bauh. Pin. 93\": \"\", \"This is a Native of Sweden, Siberia, Switzerland, Russia, Canada, & c. This Specimen was gathered & communicated by Jos: Banks Esqr. who discoverd it in Abundance in the Woods in Newfoundland [JL]\"\": \"\", \"In ScotlandSee English Botany N.433 [? G]\"\": \"\" } } }, \"Lonicera periclymenum L.\": { \"1 folder\": { \"Lonicera periclymenum [TA]\": \"\" } }, \"Viburnum lantana L.\": { \"1 folder\": { \"Viburnum lantana [TA]\": \"\" } }, \"Viburnum opulus L.\": { \"1 folder\": { \"Viburnum opulus [TA]\": \"\" } } }, \"Caryophyllaceae\": { \"Arenaria serpyllifolia L.\": { \"1 folder\": { \"Arenaria Serpyllifolia [TA]\": \"\" } }, \"Bufonia tenuifolia L., Flora Europaea 1: 133 (1964)\": { \"1 folder\": { \"Bufonia Tenuifolia [TA]\": \"\" } }, \"Cerastium alpinum L.\": { \"2 folders\": { \"Folder 1. Cerastium latifolium [G]\": { \"i. Cites Rays Syn. 349\": \"\", \"ii. \\\"Cerastium alpinum. This was gathered upon Snowdon at the top of the highest Rock calld Clogwyn y Garnedh. June\\\" [JL]\": \"\", \"iii. \\\"Top of Snowdon\\\" [JL]\": \"\", \"iv. \\\"Dr. Solander affirms this to be the true Cerastium alpinum. I had it from Snowdon. He found it at Terra del Fuego & named it C. hirtum with a mark of Dubitation, but now thinks them both one\\\" [JL]\": \"\" }, \"Folder 2. Cerastium arvense [TA]; Cerastium latifolium [G]\": { \"i. \\\"Clogwyn d\\\" [JL]\": \"\", \"ii. \\\"Cerast: alpin: Ben Lomond\\\" [JL]\": \"\" } } }, \"Cerastium arvense L.\": { \"2 folders\": { \"Folder 1. Cerastium arvense [TA]\": { \"i. \\\"Cerastium arvense. This must be right tho the leaves are hoary\\\" [JL]\": \"\", \"ii. \\\"Cerastium arvense. Very common in Norfolk. Why does Lin. put the word glabris in his Specific Description in opposition to truth & the Testimony of all Authors\\\" [B]\": \"\" }, \"Folder 2. Cerastium arvense [G]\": { \"See also under C. arcticum Folder 1.\": \"\" } } }, \"Cerastium fontanum Baumg., subsp. triviale (Link) Jalas, Flora Europaea 1: 142 (1964)\": { \"1 sheet\": { \"Cerastium vulgaris [TA]; C. vulgatum Huds. and C. viscosum Linn. [G]\": { \"i. \\\"Pray inform me\": \"\" } } } } } '"
   ]
  },
  {
   "cell_type": "code",
   "execution_count": 2,
   "id": "198cff10-7467-40c2-8a2b-9c5ee8be4e71",
   "metadata": {},
   "outputs": [],
   "source": [
    "prompt = \"Process this image in two steps: Step 1: Turn the text in this picture into markdown. Indicate italics. \\\n",
    "            Indent lines which discuss folder contents as unordered lists Step 2: Convert the markdown text that you created in step 1 into JSON. \\\n",
    "            Use the heading texts as keys, and the folder details as nested numbered lists\\\n",
    "            Your output should consist of the markdown text, then a fenced JSON code block\"\n"
   ]
  },
  {
   "cell_type": "code",
   "execution_count": 3,
   "id": "1a491c6b-1b41-4317-8a10-f968003ce9d0",
   "metadata": {
    "scrolled": true
   },
   "outputs": [
    {
     "name": "stderr",
     "output_type": "stream",
     "text": [
      "`Qwen2VLRotaryEmbedding` can now be fully parameterized by passing the model config through the `config` argument. All other arguments will be removed in v4.46\n",
      "Loading checkpoint shards: 100%|██████████████████████████████████████████████████████████████████████████████████████████████████████████████| 5/5 [00:18<00:00,  3.75s/it]\n"
     ]
    },
    {
     "name": "stdout",
     "output_type": "stream",
     "text": [
      "['### Dicotyledones\\n\\n#### ACERACEAE\\n\\n**Acer campestre L.**\\n\\n- 1 folder. Acer campestre [TA]\\n\\n**Acer pseudoplatanus L.**\\n\\n- 2 folders.\\n\\n  - Folder 1. Acer Pseudo-Platanus [G]. i. \"Maple. Bulls: [Bulstrode] Park\" [JL]\\n  - Folder 2. Acer Pseudo-Platanus [TA].\\n\\n#### AMARANTHACEAE\\n\\n**Amaranthus lividus L., Flora Europaea 1: 110 (1964)**\\n\\n- 1 folder. Amaranthus Blitum [TA].\\n\\n  - i. Cites Ray\\'s Syn. 1957. ii. \"Blite Amaranth. Aug! It is often found on Dunghills in the neighbourhood of London. I gather\\'d this on a Dunghill at Fulham near London\" [JL]. iii. \"Amaranthus Blitum. Monoec: 5. and:\" [JL]\\n\\n#### ARALIACEAE\\n\\n**Hedera helix L.**\\n\\n- 1 folder. Hedera Helix [TA].\\n\\n#### ARISTOLOCHIACEAE\\n\\n**Asarum europaeum L.**\\n\\n- 1 folder. Asarum europaeum [TA].\\n\\n  - i. \"Asarum europaeum Lin: Asarabacca. Anglis. ex horto\" [JL].\\n\\n#### BALSAMINACEAE\\n\\n**Impatiens noli-tangere L.**\\n\\n- 1 folder. Impatiens Noli me tangere [G].\\n\\n#### BETULACEAE\\n\\n**Alnus glutinosa (L.) Gaertn.**\\n\\n- 1 folder. Betula Alnus [TA].\\n\\n**Betula nana L.**\\n\\n- 1 folder. Betula nana [G].\\n\\n#### CAMANULACEAE\\n\\n**Campanula latifolia L.**\\n\\n- 2 folders.\\n\\n  - Folder 1. Companula latifolia [TA].\\n  - Folder 2. Companula latifolia [G].\\n\\n**Campanula patula L.**\\n\\n- 1 folder. Campanula patula [TA].\\n\\n**Campanula rapunculus L.**\\n\\n- 2 folders.\\n\\n  - Folder 1. Campanula rapunculus [TA].\\n\\n```json\\n{\\n  \"ACERACEAE\": {\\n    \"Acer campestre L.\": {\\n      \"folders\": 1,\\n      \"folder_contents\": [\"Acer campestre [TA]\"]\\n    },\\n    \"Acer pseudoplatanus L.\": {\\n      \"folders\": 2,\\n      \"folder_contents\": [\\n        {\\n          \"folder\": \"Acer Pseudo-Platanus [G]\",\\n          \"contents\": [\\n            \"Maple. Bulls: [Bulstrode] Park\" [JL]\\n          ]\\n        },\\n        {\\n          \"folder\": \"Acer Pseudo-Platanus [TA]\",\\n          \"contents\": []\\n        }\\n      ]\\n    }\\n  },\\n  \"AMARANTHACEAE\": {\\n    \"Amaranthus lividus L., Flora Europaea 1: 110 (1964)\": {\\n      \"folders\": 1,\\n      \"folder_contents\": [\"Amaranthus Blitum [TA]\"],\\n      \"contents\": [\\n        \"Cites Ray\\'s Syn. 1957. ii. \\'Blite Amaranth. Aug! It is often found on Dunghills in the neighbourhood of London. I gather\\'d this on a Dunghill at Fulham near London\\' [JL]. iii. \\'Amaranthus Blitum. Monoec: 5. and:\\' [JL]\"\\n      ]\\n    }\\n  },\\n  \"ARALIACEAE\": {\\n    \"Hedera helix L.\": {\\n      \"folders\": 1,\\n      \"folder_contents\": [\"Hedera Helix [TA]\"]\\n    }\\n  },\\n  \"ARISTOLOCHIACEAE\": {\\n    \"Asarum europaeum L.\": {\\n      \"folders\": 1,\\n      \"folder_contents\": [\"Asarum europaeum [TA]\"],\\n      \"contents\": [\\n        \"Asarum europaeum Lin: Asarabacca. Anglis. ex horto\" [JL]\\n      ]\\n    }\\n  },\\n  \"BALSAMINACEAE\": {\\n    \"Impatiens noli-tangere L.\": {\\n      \"folders\": 1,\\n      \"folder_contents\": [\"Impatiens Noli me tangere [G]\"]\\n    }\\n  },\\n  \"BETULACEAE\": {\\n    \"Alnus glutinosa (L.) Gaertn.\": {\\n      \"folders\": 1,\\n      \"folder_contents\": [\"Betula Alnus [TA]\"]\\n    },\\n    \"Betula nana L.\": {\\n      \"folders\": 1,\\n      \"folder_contents\": [\"Betula nana [G]\"]\\n    }\\n  },\\n  \"CAMANULACEAE\": {\\n    \"Campanula latifolia L.\": {\\n      \"folders\": 2,\\n      \"folder_contents\": [\\n        {\\n          \"folder\": \"Companula latifolia [TA]\",\\n          \"contents\": []\\n        },\\n        {\\n          \"folder\": \"Companula latifolia [G]\",\\n          \"contents\": []\\n        }\\n      ]\\n    },\\n    \"Campanula patula L.\": {\\n      \"folders\": 1,\\n      \"folder_contents\": [\"Campanula patula [TA]\"]\\n    },\\n    \"Campanula rapunculus L.\": {\\n      \"folders\": 2,\\n      \"folder_contents\": [\\n        {\\n          \"folder\": \"Campanula rapunculus [TA]\",\\n          \"contents\": []\\n        }\\n      ]\\n    }\\n  }\\n}\\n```', '### Folder 2. Campanula rapunculus [G]\\n\\n- Campanula rotundifolia L.\\n  - 1 folder. Campanula rotundifolia [TA]. i. “Near Perth” [JL].\\n\\n### Campanula trachelium L.\\n\\n- 2 folders.\\n  - Folder 1. Campanula Trachelium [TA].\\n  - Folder 2. Campanula Trachelium [G].\\n\\n### Jasione montana L.\\n\\n- 1 folder. Jasione montana [TA].\\n\\n### Legousia hybrida (L.) Delarb.\\n\\n- 1 folder. Campanula hybrida [TA].\\n\\n### Lobelia dortmanna L.\\n\\n- 2 folders.\\n  - Folder 1. Lobelia Dortmannia [TA]. i. Cites Ray’s Syn. 287. ii. “Water Gladiole. July & August. In the Lakes of North Wales & Westmoreland” [JL].\\n  - Folder 2. Lobelia Dortmanna [G]. i. “Lobel: Dortmanna from Anglesey” [JL].\\n\\n### Lobelia urens L.\\n\\n- 4 folders.\\n  - Folder 1. Lobelia urens [G]. i. Cites Ray’s Hist. 746. ii. “Caustic Lobelia. Habitat solum humidum & spongiosum Ericeti cujusdam Shute Common dicti Devoniae, inter paludem turfosam & viam publican quae ab Axminster ad Honiton ducit. Plures plantas primum inventit Dom: Newbury e Coll: Exon: Oxon: circiter finem Octobris, Anno 1768” [JL]. iii. “From Devonshire” [JL].\\n  - Folder 2. Lobelia urens [TA]. i. “Lobelia urens” [JL].\\n  - Folders 3 and 4. Lobelia urens [G].\\n\\n### Phyteuma tenerum R.Schulz\\n\\n- 1 folder. Phyteuma orbicularis [TA].\\n\\n### Wahlenbergia hederacea (L.) Reichb.\\n\\n- 2 folders.\\n  - Folder 1. Campanula hederacea [TA]. i. “Carmathenshire” [JL].\\n\\n```json\\n{\\n  \"Folder 2. Campanula rapunculus [G]\": [\\n    {\\n      \"Campanula rotundifolia L.\": [\\n        {\\n          \"1 folder. Campanula rotundifolia [TA]. i. \\\\\"Near Perth\\\\\" [JL]\": []\\n        }\\n      ]\\n    },\\n    {\\n      \"Campanula trachelium L.\": [\\n        {\\n          \"2 folders\": [\\n            {\\n              \"Folder 1. Campanula Trachelium [TA]\": []\\n            },\\n            {\\n              \"Folder 2. Campanula Trachelium [G]\": []\\n            }\\n          ]\\n        }\\n      ]\\n    },\\n    {\\n      \"Jasione montana L.\": [\\n        {\\n          \"1 folder. Jasione montana [TA]\": []\\n        }\\n      ]\\n    },\\n    {\\n      \"Legousia hybrida (L.) Delarb.\": [\\n        {\\n          \"1 folder. Campanula hybrida [TA]\": []\\n        }\\n      ]\\n    },\\n    {\\n      \"Lobelia dortmanna L.\": [\\n        {\\n          \"2 folders\": [\\n            {\\n              \"Folder 1. Lobelia Dortmannia [TA]. i. Cites Ray’s Syn. 287. ii. \\\\\"Water Gladiole. July & August. In the Lakes of North Wales & Westmoreland\\\\\" [JL]\": []\\n            },\\n            {\\n              \"Folder 2. Lobelia Dortmanna [G]. i. \\\\\"Lobel: Dortmanna from Anglesey\\\\\" [JL]\": []\\n            }\\n          ]\\n        }\\n      ]\\n    },\\n    {\\n      \"Lobelia urens L.\": [\\n        {\\n          \"4 folders\": [\\n            {\\n              \"Folder 1. Lobelia urens [G]. i. Cites Ray’s Hist. 746. ii. \\\\\"Caustic Lobelia. Habitat solum humidum & spongiosum Ericeti cujusdam Shute Common dicti Devoniae, inter paludem turfosam & viam publican quae ab Axminster ad Honiton ducit. Plures plantas primum inventit Dom: Newbury e Coll: Exon: Oxon: circiter finem Octobris, Anno 1768\\\\\" [JL]. iii. \\\\\"From Devonshire\\\\\" [JL]\": []\\n            },\\n            {\\n              \"Folder 2. Lobelia urens [TA]. i. \\\\\"Lobelia urens\\\\\" [JL]\": []\\n            },\\n            {\\n              \"Folders 3 and 4. Lobelia urens [G]\": []\\n            }\\n          ]\\n        }\\n      ]\\n    },\\n    {\\n      \"Phyteuma tenerum R.Schulz\": [\\n        {\\n          \"1 folder. Phyteuma orbicularis [TA]\": []\\n        }\\n      ]\\n    },\\n    {\\n      \"Wahlenbergia hederacea (L.) Reichb.\": [\\n        {\\n          \"2 folders\": [\\n            {\\n              \"Folder 1. Campanula hederacea [TA]. i. \\\\\"Carmathenshire\\\\\" [JL]\": []\\n            }\\n          ]\\n        }\\n      ]\\n    }\\n  ]\\n}\\n```', '### Catalogue\\n\\n#### Folder 2. Campanula hederacea [G]. i. \"Devon & Cornwall\" [JL].\\n\\n**CAPRIFOLIACEAE**\\n\\n**Linnaea borealis L.**\\n\\n1 sheet. Linnaea borealis [JL]. i. Cites Linn. Sp. Pl. 631; Bauh. Pin. 93. ii. \"This is a Native of Sweden, Siberia, Switzerland, Russia, Canada, & c. This Specimen was gathered & communicated by Jos: Banks Esqr. who discover’d it in Abundance in the Woods in Newfoundland\" [JL]. iii. \"In Scotland—See English Botany N.433\" [? G].\\n\\n**Lonicera periclymenum L.**\\n\\n1 folder. Lonicera periclymenum [TA].\\n\\n**Viburnum lantana L.**\\n\\n1 folder. Viburnum lantana [TA].\\n\\n**Viburnum opulus L.**\\n\\n1 folder. Viburnum opulus [TA].\\n\\n#### Caryophyllaceae\\n\\n**Arenaria serpyllifolia L.**\\n\\n1 folder. Arenaria Serpyllifolia [TA].\\n\\n**Bufonia tenuifolia L., Flora Europaea 1: 133 (1964)**\\n\\n1 folder. Bufonia Tenuifolia [TA].\\n\\n[Not a British plant, but from southern and eastern Europe.]\\n\\n**Cerastium alpinum L.**\\n\\n2 folders.\\n\\n- Folder 1. Cerastium latifolium [G]. i. Cites Ray’s Syn. 349. ii. \"Cerastium alpinum. This was gathered upon Snowdon at the top of the highest Rock call’d Clogwyn y Garnedh. June\" [JL]. iii. \"Top of Snowdon\" [JL]. iv. \"Dr. Solander affirms this to be the true Cerastium alpinum. I had it from Snowdon. He found it at Terra del Fuego & named it C. hirtum with a mark of Dubitation, but now thinks them both one\" [JL].\\n- Folder 2. Cerastium arvense [TA]; Cerastium latifolium [G]. i. \"Clogwyn dû\" [JL]. ii. \"Cerast: alpin: Ben Lomond\" [JL].\\n\\n**Cerastium arvense L.**\\n\\n2 folders.\\n\\n- Folder 1. Cerastium arvense [TA]. i. \"Cerastium arvense. This must be right tho’ the leaves are hoary\" [JL]. ii. \"Cerastium arvense. Very common in Norfolk. Why does Lin. put the word glabris in his Specific Description in opposition to truth & the Testimony of all Authors\" [B].\\n- Folder 2. Cerastium arvense [G]. [See also under C. arcticum Folder 1.]\\n\\n**Cerastium fontanum Baumg., subsp. triviale (Link) Jalas, Flora Europaea 1: 142 (1964)**\\n\\n1 sheet. Cerastium vulgaris [TA]; C. vulgatum Huds. and C. viscosum Linn. [G]. i. \"Pray inform me\\n\\n```json\\n{\\n  \"Folder 2. Campanula hederacea [G]. i. \\\\\"Devon & Cornwall\\\\\" [JL]\": {\\n    \"CAPRIFOLIACEAE\": {\\n      \"Linnaea borealis L.\": {\\n        \"1 sheet\": {\\n          \"Linnaea borealis [JL]\": {\\n            \"Cites Linn. Sp. Pl. 631; Bauh. Pin. 93\": \"\",\\n            \"This is a Native of Sweden, Siberia, Switzerland, Russia, Canada, & c. This Specimen was gathered & communicated by Jos: Banks Esqr. who discover’d it in Abundance in the Woods in Newfoundland\" [JL]\": \"\",\\n            \"In Scotland—See English Botany N.433\" [? G]\": \"\"\\n          }\\n        }\\n      },\\n      \"Lonicera periclymenum L.\": {\\n        \"1 folder\": {\\n          \"Lonicera periclymenum [TA]\": \"\"\\n        }\\n      },\\n      \"Viburnum lantana L.\": {\\n        \"1 folder\": {\\n          \"Viburnum lantana [TA]\": \"\"\\n        }\\n      },\\n      \"Viburnum opulus L.\": {\\n        \"1 folder\": {\\n          \"Viburnum opulus [TA]\": \"\"\\n        }\\n      }\\n    },\\n    \"Caryophyllaceae\": {\\n      \"Arenaria serpyllifolia L.\": {\\n        \"1 folder\": {\\n          \"Arenaria Serpyllifolia [TA]\": \"\"\\n        }\\n      },\\n      \"Bufonia tenuifolia L., Flora Europaea 1: 133 (1964)\": {\\n        \"1 folder\": {\\n          \"Bufonia Tenuifolia [TA]\": \"\"\\n        }\\n      },\\n      \"Cerastium alpinum L.\": {\\n        \"2 folders\": {\\n          \"Folder 1. Cerastium latifolium [G]\": {\\n            \"i. Cites Ray’s Syn. 349\": \"\",\\n            \"ii. \\\\\"Cerastium alpinum. This was gathered upon Snowdon at the top of the highest Rock call’d Clogwyn y Garnedh. June\\\\\" [JL]\": \"\",\\n            \"iii. \\\\\"Top of Snowdon\\\\\" [JL]\": \"\",\\n            \"iv. \\\\\"Dr. Solander affirms this to be the true Cerastium alpinum. I had it from Snowdon. He found it at Terra del Fuego & named it C. hirtum with a mark of Dubitation, but now thinks them both one\\\\\" [JL]\": \"\"\\n          },\\n          \"Folder 2. Cerastium arvense [TA]; Cerastium latifolium [G]\": {\\n            \"i. \\\\\"Clogwyn dû\\\\\" [JL]\": \"\",\\n            \"ii. \\\\\"Cerast: alpin: Ben Lomond\\\\\" [JL]\": \"\"\\n          }\\n        }\\n      },\\n      \"Cerastium arvense L.\": {\\n        \"2 folders\": {\\n          \"Folder 1. Cerastium arvense [TA]\": {\\n            \"i. \\\\\"Cerastium arvense. This must be right tho’ the leaves are hoary\\\\\" [JL]\": \"\",\\n            \"ii. \\\\\"Cerastium arvense. Very common in Norfolk. Why does Lin. put the word glabris in his Specific Description in opposition to truth & the Testimony of all Authors\\\\\" [B]\": \"\"\\n          },\\n          \"Folder 2. Cerastium arvense [G]\": {\\n            \"See also under C. arcticum Folder 1.\": \"\"\\n          }\\n        }\\n      },\\n      \"Cerastium fontanum Baumg., subsp. triviale (Link) Jalas, Flora Europaea 1: 142 (1964)\": {\\n        \"1 sheet\": {\\n          \"Cerastium vulgaris [TA]; C. vulgatum Huds. and C. viscosum Linn. [G]\": {\\n            \"i. \\\\\"Pray inform me\": \"\"\\n          }\\n        }\\n      }\\n    }\\n  }\\n}\\n```']\n",
      "CPU times: user 52.6 s, sys: 3.14 s, total: 55.7 s\n",
      "Wall time: 1min 21s\n"
     ]
    }
   ],
   "source": [
    "%%time\n",
    "\n",
    "#Load the model in half-precision on the available device(s)\n",
    "model = Qwen2VLForConditionalGeneration.from_pretrained(\n",
    "    \"Qwen/Qwen2-VL-7B-Instruct\", torch_dtype=\"auto\", device_map=\"auto\"\n",
    ")\n",
    "processor = AutoProcessor.from_pretrained(\"Qwen/Qwen2-VL-7B-Instruct\")\n",
    "\n",
    "# Image\n",
    "url_1 = \"./sample-images/pg132_a.jpeg\"\n",
    "url_2 = \"./sample-images/pg132_b.jpeg\"\n",
    "url_3 = \"./sample-images/pag 133.jpeg\"\n",
    "image_1 = Image.open(url_1)\n",
    "image_2 = Image.open(url_2)\n",
    "image_3 = Image.open(url_3)\n",
    "conversation = [\n",
    "    {\n",
    "        \"role\": \"user\",\n",
    "        \"content\": [\n",
    "            {\n",
    "                \"type\": \"image\",\n",
    "            },\n",
    "            {\"type\": \"text\", \"text\": prompt},\n",
    "        ],\n",
    "    }\n",
    "]\n",
    "\n",
    "\n",
    "# Preprocess the inputs\n",
    "text_prompt = processor.apply_chat_template(conversation, add_generation_prompt=True)\n",
    "# Excepted output: '<|im_start|>system\\nYou are a helpful assistant.<|im_end|>\\n<|im_start|>user\\n<|vision_start|><|image_pad|><|vision_end|>Describe this image.<|im_end|>\\n<|im_start|>assistant\\n'\n",
    "\n",
    "inputs = processor(\n",
    "    text=[text_prompt, text_prompt, text_prompt], images=[image_1, image_2, image_3], padding=True, return_tensors=\"pt\"\n",
    ")\n",
    "inputs = inputs.to(\"cuda\")\n",
    "\n",
    "# Inference: Generation of the output\n",
    "output_ids = model.generate(**inputs, max_new_tokens=5000) \n",
    "## Increasing the number of new tokens, increases the number of words recognised by the model with trade-off of speed\n",
    "## 1024 new tokens was capable of reading upto 70% of the input image (pg132_a.jpeg)\n",
    "generated_ids = [\n",
    "    output_ids[len(input_ids) :]\n",
    "    for input_ids, output_ids in zip(inputs.input_ids, output_ids)\n",
    "]\n",
    "\n",
    "output_text = processor.batch_decode(\n",
    "    generated_ids, skip_special_tokens=True, clean_up_tokenization_spaces=True\n",
    ")\n",
    "print(output_text)"
   ]
  },
  {
   "cell_type": "code",
   "execution_count": 59,
   "id": "eaa583c5-2855-4775-9fd5-c49a88076059",
   "metadata": {
    "scrolled": true
   },
   "outputs": [],
   "source": [
    "split_text = output_text[0].split(\"```\")"
   ]
  },
  {
   "cell_type": "code",
   "execution_count": 71,
   "id": "0c4f48d3-2769-450a-aded-ebdec795a447",
   "metadata": {},
   "outputs": [],
   "source": [
    "def clean_string(text):\n",
    "    #Remove starting json word\n",
    "    cleaned_text = re.sub(r'^json', '', text)\n",
    "    #Remove any non-ASCII characters\n",
    "    cleaned_text = re.sub(r'[^\\x00-\\x7F]+', '', cleaned_text)\n",
    "    #Make sure any delimeter or text are in double quotation such that string can be turned into a json file\n",
    "    cleaned_text = re.sub(r'(?<=\\w)\"\\s+(\\[[^\\]]+\\])', r' \\1\"', cleaned_text)\n",
    "    #Normalise any spaces or indentation\n",
    "    cleaned_text = re.sub(r'\\s+', ' ', cleaned_text)\n",
    "\n",
    "    return cleaned_text"
   ]
  },
  {
   "cell_type": "code",
   "execution_count": 74,
   "id": "3ca70d25-7bea-4640-98bf-0686dcb6579e",
   "metadata": {},
   "outputs": [],
   "source": [
    "text = clean_string(split_text[1])\n",
    "text = json.loads(text)"
   ]
  },
  {
   "cell_type": "code",
   "execution_count": 75,
   "id": "452885ad-c170-4ccd-8713-4ebe42899ef2",
   "metadata": {},
   "outputs": [],
   "source": [
    "with open(\"./sample_pg132_a.json\", \"w\") as f:\n",
    "    json.dump(text, f, indent=4)"
   ]
  },
  {
   "cell_type": "code",
   "execution_count": null,
   "id": "1321752a-ce7b-4699-b71c-8c50bebdca3f",
   "metadata": {},
   "outputs": [],
   "source": []
  }
 ],
 "metadata": {
  "kernelspec": {
   "display_name": "Python 3 (ipykernel)",
   "language": "python",
   "name": "python3"
  },
  "language_info": {
   "codemirror_mode": {
    "name": "ipython",
    "version": 3
   },
   "file_extension": ".py",
   "mimetype": "text/x-python",
   "name": "python",
   "nbconvert_exporter": "python",
   "pygments_lexer": "ipython3",
   "version": "3.12.6"
  }
 },
 "nbformat": 4,
 "nbformat_minor": 5
}
