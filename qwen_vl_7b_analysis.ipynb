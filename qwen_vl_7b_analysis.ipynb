{
 "cells": [
  {
   "cell_type": "code",
   "execution_count": 1,
   "id": "32d8a20c-e910-437f-ad67-55076c27a9c3",
   "metadata": {},
   "outputs": [],
   "source": [
    "import os\n",
    "\\\n",
    "os.environ[\"PYTORCH_CUDA_ALLOC_CONF\"] = \"expandable_segments:True\"\n",
    "os.environ[\"TORCH_USE_CUDA_DSA\"] = \"1\"\n"
   ]
  },
  {
   "cell_type": "code",
   "execution_count": 2,
   "id": "293f0b15-241f-4e92-808c-4cfba8f6fd61",
   "metadata": {},
   "outputs": [
    {
     "name": "stdout",
     "output_type": "stream",
     "text": [
      "CPU times: user 302 ms, sys: 324 ms, total: 625 ms\n",
      "Wall time: 1min 32s\n"
     ]
    }
   ],
   "source": [
    "%%time\n",
    "import lib.utils.utils as utils\n",
    "from run import get_images\n",
    "#import lib.config as config\n",
    "from lib.model.base_model import BaseModel\n",
    "#import lib.roi as roi\n",
    "#import lib.split_pages as spages\n",
    "from lib.utils.promptLoader import PromptLoader"
   ]
  },
  {
   "cell_type": "code",
   "execution_count": 3,
   "id": "c1ff61ac-acfe-4528-b22f-17f2d926363a",
   "metadata": {},
   "outputs": [],
   "source": [
    "image_path = \"images/cropped/The_Lightfoot_Herbarium_05_cropped_2.jpg\"\n",
    "image_dir = \"images/cropped/\"\n",
    "default_yaml = \"./prompts/default_v2.yaml\"\n",
    "conversation = None\n",
    "if default_yaml is None:\n",
    "     conversation = [dict(role=\"user\", content=[dict(type=\"image\"), \n",
    "                    dict(type=\"text\", \n",
    "                         text=\"Extract the text from both columns in the image, preserving the structure and formatting, ensure no grammatical correction is performed.\")])]"
   ]
  },
  {
   "cell_type": "code",
   "execution_count": 4,
   "id": "930fe29a",
   "metadata": {},
   "outputs": [
    {
     "name": "stdout",
     "output_type": "stream",
     "text": [
      "images/cropped/The_Lightfoot_Herbarium_05_cropped_2.jpg\n"
     ]
    }
   ],
   "source": [
    "print(image_path)"
   ]
  },
  {
   "cell_type": "code",
   "execution_count": 5,
   "id": "6d86f2b6-6f64-498a-b392-20f878d09fbc",
   "metadata": {},
   "outputs": [],
   "source": [
    "images = sorted(utils.load_images(image_dir))[:10]"
   ]
  },
  {
   "cell_type": "code",
   "execution_count": 6,
   "id": "08981e56-48ba-45ad-b918-02db61c9ed0e",
   "metadata": {},
   "outputs": [
    {
     "data": {
      "text/plain": [
       "['images/cropped/The_Lightfoot_Herbarium_05_cropped_1.jpg',\n",
       " 'images/cropped/The_Lightfoot_Herbarium_05_cropped_2.jpg',\n",
       " 'images/cropped/The_Lightfoot_Herbarium_06_cropped_1.jpg',\n",
       " 'images/cropped/The_Lightfoot_Herbarium_06_cropped_2.jpg',\n",
       " 'images/cropped/The_Lightfoot_Herbarium_07_cropped_1.jpg',\n",
       " 'images/cropped/The_Lightfoot_Herbarium_07_cropped_2.jpg',\n",
       " 'images/cropped/The_Lightfoot_Herbarium_08_cropped_1.jpg',\n",
       " 'images/cropped/The_Lightfoot_Herbarium_08_cropped_2.jpg',\n",
       " 'images/cropped/The_Lightfoot_Herbarium_09_cropped_1.jpg',\n",
       " 'images/cropped/The_Lightfoot_Herbarium_09_cropped_2.jpg']"
      ]
     },
     "execution_count": 6,
     "metadata": {},
     "output_type": "execute_result"
    }
   ],
   "source": [
    "images"
   ]
  },
  {
   "cell_type": "code",
   "execution_count": 7,
   "id": "c5df0930-6a4b-4cab-a10f-d578ee921b14",
   "metadata": {},
   "outputs": [
    {
     "name": "stderr",
     "output_type": "stream",
     "text": [
      "/mnt/shared/scratch/ikarunak/apps/conda/envs/lightfootcat/lib/python3.12/site-packages/tqdm/auto.py:21: TqdmWarning: IProgress not found. Please update jupyter and ipywidgets. See https://ipywidgets.readthedocs.io/en/stable/user_install.html\n",
      "  from .autonotebook import tqdm as notebook_tqdm\n",
      "/mnt/shared/scratch/ikarunak/apps/conda/envs/lightfootcat/lib/python3.12/site-packages/transformers/generation/configuration_utils.py:601: UserWarning: `do_sample` is set to `False`. However, `temperature` is set to `0.4` -- this flag is only used in sample-based generation modes. You should set `do_sample=True` or unset `temperature`. This was detected when initializing the generation config instance, which means the corresponding file may hold incorrect parameterization and should be fixed.\n",
      "  warnings.warn(\n",
      "/mnt/shared/scratch/ikarunak/apps/conda/envs/lightfootcat/lib/python3.12/site-packages/transformers/generation/configuration_utils.py:601: UserWarning: `do_sample` is set to `False`. However, `temperature` is set to `0.4` -- this flag is only used in sample-based generation modes. You should set `do_sample=True` or unset `temperature`.\n",
      "  warnings.warn(\n",
      "`Qwen2VLRotaryEmbedding` can now be fully parameterized by passing the model config through the `config` argument. All other arguments will be removed in v4.46\n",
      "Loading checkpoint shards: 100%|██████████| 5/5 [10:51<00:00, 130.29s/it]\n"
     ]
    },
    {
     "name": "stdout",
     "output_type": "stream",
     "text": [
      "CPU times: user 3.9 s, sys: 17.8 s, total: 21.7 s\n",
      "Wall time: 14min 29s\n"
     ]
    }
   ],
   "source": [
    "%%time\n",
    "model = BaseModel(\"qwen_model\", prompt=default_yaml, conversation=conversation, max_new_tokens = 100000, batch_size=1, temperature=0.4)"
   ]
  },
  {
   "cell_type": "code",
   "execution_count": 8,
   "id": "7e825c61-4bf7-45bc-b0ab-718e1464f464",
   "metadata": {
    "scrolled": true
   },
   "outputs": [
    {
     "data": {
      "text/plain": [
       "[{'role': 'system',\n",
       "  'content': 'You are an expert in transcribing text from images. You have knowledge in scientific botany.\\n'},\n",
       " {'role': 'system',\n",
       "  'content': '## CONTEXT \\nThe images are pages from a botanical catalogue. Each page documents plant species organised by taxonomic hierarchy, starting with the family name at the top level, followed by individual species names, and then folder contents detailing where each specimen was collected. Each page may contain one or two columns of text, and family names are typically written in uppercase, while species names are italicised. Folder contents are listed below each species, with some information potentially continuing from a previous page.\\n'},\n",
       " {'role': 'system',\n",
       "  'content': '## GOAL \\nYour task is to extract text from the given image and format it into a JSON object that follows the provided structure and specific formatting rules.\\n'},\n",
       " {'role': 'system',\n",
       "  'content': '## INSTRUCTIONS \\n1) **Parse Text**: Extract all text from the image, preserving the layout order and formatting as much as possible.\\n\\n2) **Organize into JSON**: Structure the extracted text into JSON according to the template and rules below, keeping the hierarchy of Family > Species > Folder > Details.\\n\\n3) **Assign Metadata**:\\n   - **Page Number**: Capture the page number, typically found at the top corners of the page. If not found, set as \"N/A\".\\n\\n4) **Identify Family Names**:\\n   - Each family name is written in uppercase (e.g., \"ACERACEAE\").\\n   - Store it as `familyName` in the JSON structure.\\n\\n5) **Identify Species**:\\n   - Species names appear in italics and are typically followed by an author abbreviation (e.g., \"Acer campestre L.\").\\n   - Store each as `speciesName` under its respective `familyName`.\\n\\n6) **Capture Folder Details**:\\n   - Each species may have one or more folders labeled as \"Folder X\".\\n   - Extract the folder number and description. Use the text after \"Folder X\" as `description`.\\n   - Include any citations (initials in square brackets like [TA], [JL]) in a `citations` list for each folder.\\n\\n7) **Handle Notes**:\\n   - Additional notes often follow folder entries, marked by \"i.\", \"ii.\", etc.\\n   - Store these as an ordered list under `notes` for each species.\\n\\n8) **Validation**:\\n   - Leave fields empty or set to \"N/A\" if information is not available.\\n   - Avoid duplicate keys and ensure all keys are in camelCase.\\n   - Ensure JSON is valid with no trailing commas or unquoted keys.\\n   - Do not perform grammar checks or corrections.\\n'},\n",
       " {'role': 'system',\n",
       "  'content': '## RULES \\nMetadata: Metadata for each page, containing the division (if available) and page number.\\nPage: Page number, located at the top left or right. If unavailable, set to \"N/A\".\\nContents: A list of dictionaries containing each family name and species details.\\nFamilyname: The scientific family name in uppercase. If not available, set as \"N/A\". Dicotyledones, Monocotyledones, Pteridophyta, Algae, Hepaticae are not family names. If you see these ignore them.\\n\\nSpecies: A list of dictionaries for each species under the family, containing `speciesName` and `folders`.\\nSpeciesname: The full scientific name of the species as written in the image. No corrections.\\n\\nFolders: A list of dictionaries, each representing a folder with `description` and `citations`.\\nDescription: A description of the folder contents, including location or collection details.\\n\\nCitations: A list of all collector initials (e.g., [TA], [JL]) found within the description. Each citation is typically 1-4 characters.\\n\\nNotes: An optional list containing any additional notes or information following the folders, typically starting with \"i.\", \"ii.\", etc.\\n\\n'},\n",
       " {'role': 'system',\n",
       "  'content': '## TEMPLATE \\n{\\n    \"metadata\": {\\n        \"page\": \"\"\\n    },\\n    \"contents\": [ \\n        {\\n            \"familyName\": \"\", \\n            \"species\": [ \\n                {\\n                    \"speciesName\": \"\",\\n                    \"folders\": [ \\n                        {\\n                            \"description\": \"\",\\n                            \"citations\": [\"\", \"\"]\\n                        }\\n                    ],\\n                    \"notes\": [\"\", \"\"]\\n                }\\n            ]\\n        }\\n    ]\\n}\\n'},\n",
       " {'role': 'user',\n",
       "  'content': [{'type': 'text',\n",
       "    'text': 'Given the {extracted_text}, organise it into a JSON object as outlined by the rules and instructions.'}]}]"
      ]
     },
     "execution_count": 8,
     "metadata": {},
     "output_type": "execute_result"
    }
   ],
   "source": [
    "model.conversation"
   ]
  },
  {
   "cell_type": "code",
   "execution_count": 9,
   "id": "f28537e6-1bd3-4c1f-a9a2-312376a8592b",
   "metadata": {
    "scrolled": true
   },
   "outputs": [
    {
     "name": "stdout",
     "output_type": "stream",
     "text": [
      "Model: qwen_model | Batch Size: 1, Max Tokens: 100000, Temperature: 0.4\n",
      "Batching Images...\n",
      ">>> Batch 1 starting...\n",
      "Extracting text from image\n",
      "\tProcessing text prompts...\n",
      "\tReading Images (If available)...\n",
      "\tProcessing inputs...\n",
      "\tMoving inputs to gpu...\n",
      "\tPerforming inference...\n",
      "\tInference Finished\n",
      "\tSeperating Ids...\n",
      "\tDecoding Ids...\n",
      "\tJoining Outputs...\n"
     ]
    },
    {
     "ename": "TypeError",
     "evalue": "can only concatenate list (not \"int\") to list",
     "output_type": "error",
     "traceback": [
      "\u001b[0;31m---------------------------------------------------------------------------\u001b[0m",
      "\u001b[0;31mTypeError\u001b[0m                                 Traceback (most recent call last)",
      "File \u001b[0;32m<timed exec>:1\u001b[0m\n",
      "File \u001b[0;32m/mnt/shared/scratch/ikarunak/private/LightFootCatalogue/lib/model/base_model.py:123\u001b[0m, in \u001b[0;36mBaseModel.__call__\u001b[0;34m(self, images, debug, save)\u001b[0m\n\u001b[1;32m    117\u001b[0m \u001b[38;5;28;01mdef\u001b[39;00m \u001b[38;5;21m__call__\u001b[39m(\u001b[38;5;28mself\u001b[39m, images:\u001b[38;5;28mlist\u001b[39m, debug: \u001b[38;5;28mbool\u001b[39m\u001b[38;5;241m=\u001b[39m\u001b[38;5;28;01mFalse\u001b[39;00m, save: \u001b[38;5;28mbool\u001b[39m\u001b[38;5;241m=\u001b[39m\u001b[38;5;28;01mFalse\u001b[39;00m) \u001b[38;5;241m-\u001b[39m\u001b[38;5;241m>\u001b[39m \u001b[38;5;28mlist\u001b[39m:\n\u001b[1;32m    118\u001b[0m \n\u001b[1;32m    119\u001b[0m     \u001b[38;5;66;03m#TODO: Write the docu message\u001b[39;00m\n\u001b[1;32m    121\u001b[0m     \u001b[38;5;28mself\u001b[39m\u001b[38;5;241m.\u001b[39minfo()\n\u001b[0;32m--> 123\u001b[0m     extracted_text \u001b[38;5;241m=\u001b[39m \u001b[38;5;28;43mself\u001b[39;49m\u001b[38;5;241;43m.\u001b[39;49m\u001b[43mextract_text\u001b[49m\u001b[43m(\u001b[49m\u001b[43mimages\u001b[49m\u001b[43m,\u001b[49m\u001b[43m \u001b[49m\u001b[43mdebug\u001b[49m\u001b[43m)\u001b[49m\n\u001b[1;32m    125\u001b[0m     text_blocks \u001b[38;5;241m=\u001b[39m convertToTextBlocks(extracted_text)\n\u001b[1;32m    127\u001b[0m     organised_block \u001b[38;5;241m=\u001b[39m {}\n",
      "File \u001b[0;32m/mnt/shared/scratch/ikarunak/private/LightFootCatalogue/lib/model/base_model.py:108\u001b[0m, in \u001b[0;36mBaseModel.extract_text\u001b[0;34m(self, images, debug)\u001b[0m\n\u001b[1;32m    105\u001b[0m \u001b[38;5;66;03m#Join all the text and append it together with previous batches\u001b[39;00m\n\u001b[1;32m    106\u001b[0m joined_text \u001b[38;5;241m+\u001b[39m\u001b[38;5;241m=\u001b[39m \u001b[38;5;124m\"\u001b[39m\u001b[38;5;130;01m\\n\u001b[39;00m\u001b[38;5;130;01m\\n\u001b[39;00m\u001b[38;5;124m\"\u001b[39m\u001b[38;5;241m.\u001b[39mjoin(extracted_text)\n\u001b[0;32m--> 108\u001b[0m \u001b[38;5;28;01mif\u001b[39;00m (\u001b[43mbatch\u001b[49m\u001b[43m \u001b[49m\u001b[38;5;241;43m+\u001b[39;49m\u001b[43m \u001b[49m\u001b[38;5;241;43m1\u001b[39;49m) \u001b[38;5;241m%\u001b[39m \u001b[38;5;28mself\u001b[39m\u001b[38;5;241m.\u001b[39mSAVE_TEXT_INTERVAL \u001b[38;5;241m==\u001b[39m \u001b[38;5;241m0\u001b[39m:\n\u001b[1;32m    109\u001b[0m     debugPrint(\u001b[38;5;124m\"\u001b[39m\u001b[38;5;130;01m\\t\u001b[39;00m\u001b[38;5;124mStoring at interval...\u001b[39m\u001b[38;5;124m\"\u001b[39m, debug)\n\u001b[1;32m    110\u001b[0m     \u001b[38;5;28mself\u001b[39m\u001b[38;5;241m.\u001b[39m_save_to_temp(joined_text)\n",
      "\u001b[0;31mTypeError\u001b[0m: can only concatenate list (not \"int\") to list"
     ]
    }
   ],
   "source": [
    "%%time\n",
    "outputs = model(images, save=False, debug=True)"
   ]
  },
  {
   "cell_type": "code",
   "execution_count": null,
   "id": "4e3e81fb-08f6-43e4-b8e6-330fc04768e9",
   "metadata": {},
   "outputs": [],
   "source": [
    "image_name, out = outputs[3]"
   ]
  },
  {
   "cell_type": "code",
   "execution_count": null,
   "id": "17cf6907-5f82-41be-b43d-c7ff43d7699e",
   "metadata": {},
   "outputs": [],
   "source": [
    "print(image_name)\n",
    "print(\"=\"*10)\n",
    "print(out)"
   ]
  },
  {
   "cell_type": "code",
   "execution_count": null,
   "id": "70c1decb",
   "metadata": {},
   "outputs": [],
   "source": [
    "final_message = \"\\n\\n\".join([message for _, message in outputs])\n",
    "final_message += \"\\n\\nMonocotyledone\\n\\n Sup\"\n",
    "final_message += \"\\n\\nAlgae\\n\\n Hello World\"\n",
    "final_message += \"\\n\\nMonocotyledone\\n\\n Sup\""
   ]
  },
  {
   "cell_type": "code",
   "execution_count": null,
   "id": "e9807ca8",
   "metadata": {},
   "outputs": [],
   "source": [
    "print(final_message)"
   ]
  },
  {
   "cell_type": "code",
   "execution_count": null,
   "id": "c4fadd6c",
   "metadata": {},
   "outputs": [],
   "source": [
    "import re\n",
    "def clean_message(message):\n",
    "\n",
    "    result = re.sub(r\"\\*\\*(.+?)\\*\\*\", r\"\\1\", message, flags=re.MULTILINE) # Remove any markdown (bold) on strings\n",
    "    result = re.sub(r\"```\", \"\", result, flags=re.MULTILINE) # Remove any markdown\n",
    "    result = re.sub(r\"^Catalogue|catalogue$\", \"\", result, flags=re.MULTILINE) # Remove Catalogue/catalogue\n",
    "    result = re.sub(r\"^[0-9]+$\", \"\", result, flags=re.MULTILINE) # Remove page numbers\n",
    "    result = re.sub(r\"^John Lightfoot$\", \"\", result, flags=re.MULTILINE) # Remove John Lightfoot name if on its own\n",
    "    result = re.sub(r\"\\n{3,}\", \"\", result)\n",
    "    \n",
    "    return result\n",
    "\n",
    "def split_division(message, divisions=[\"Dicotyledones\", \"Monocotyledone\", \"Pteridophyta\", \"Hepaticae\", \"Algae\"]):\n",
    "\n",
    "    if divisions is None:\n",
    "        return [(\"MAIN\", message)]\n",
    "    \n",
    "    division_str = \"|\".join(divisions)\n",
    "    regex = re.compile(f\"({division_str})\")\n",
    "    result = re.split(regex, message)\n",
    "\n",
    "    result = list(filter(None,result))\n",
    "\n",
    "    return list(zip(result[::2], result[1::2]))\n",
    "\n",
    "def split_family(message):\n",
    "\n",
    "    regex = re.compile(\"\\n\\n(?=[A-Z ]+\\n)\")\n",
    "\n",
    "    result = re.split(regex, message)\n",
    "\n",
    "    return list(filter(None,result))\n",
    "\n",
    "def convertToTextBlocks(message, divisions=[\"Dicotyledones\", \"Monocotyledone\", \"Pteridophyta\", \"Hepaticae\", \"Algae\"]):\n",
    "\n",
    "    cleaned_message = clean_message(message)\n",
    "\n",
    "    division_splits = split_division(cleaned_message, divisions)\n",
    "\n",
    "    splits = {}\n",
    "\n",
    "    for division, division_text in division_splits:\n",
    "\n",
    "        if division in splits:\n",
    "            splits[division].extend(split_family(division_text))\n",
    "        else:\n",
    "            splits[division] = split_family(division_text)\n",
    "    \n",
    "    return splits\n"
   ]
  },
  {
   "cell_type": "code",
   "execution_count": null,
   "id": "abfbcbaa",
   "metadata": {},
   "outputs": [],
   "source": [
    "result = convertToTextBlocks(final_message)"
   ]
  },
  {
   "cell_type": "code",
   "execution_count": null,
   "id": "c889e723",
   "metadata": {},
   "outputs": [],
   "source": [
    "result"
   ]
  },
  {
   "cell_type": "code",
   "execution_count": null,
   "id": "bac0ccd8",
   "metadata": {},
   "outputs": [],
   "source": [
    "split_result"
   ]
  },
  {
   "cell_type": "code",
   "execution_count": null,
   "id": "87d81081",
   "metadata": {},
   "outputs": [],
   "source": [
    "print(family_split[0][9])"
   ]
  },
  {
   "cell_type": "code",
   "execution_count": null,
   "id": "d334f172",
   "metadata": {},
   "outputs": [],
   "source": [
    "print(result)"
   ]
  },
  {
   "cell_type": "code",
   "execution_count": null,
   "id": "241be6a5",
   "metadata": {},
   "outputs": [],
   "source": [
    "import math"
   ]
  },
  {
   "cell_type": "code",
   "execution_count": null,
   "id": "d1f101bd",
   "metadata": {},
   "outputs": [],
   "source": [
    "math.ceil(0.4578)"
   ]
  },
  {
   "cell_type": "code",
   "execution_count": null,
   "id": "520f6c82",
   "metadata": {},
   "outputs": [],
   "source": []
  }
 ],
 "metadata": {
  "kernelspec": {
   "display_name": "lightfootcat",
   "language": "python",
   "name": "python3"
  },
  "language_info": {
   "codemirror_mode": {
    "name": "ipython",
    "version": 3
   },
   "file_extension": ".py",
   "mimetype": "text/x-python",
   "name": "python",
   "nbconvert_exporter": "python",
   "pygments_lexer": "ipython3",
   "version": "3.12.6"
  }
 },
 "nbformat": 4,
 "nbformat_minor": 5
}
